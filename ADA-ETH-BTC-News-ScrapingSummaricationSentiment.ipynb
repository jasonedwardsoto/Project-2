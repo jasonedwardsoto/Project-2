{
 "cells": [
  {
   "cell_type": "markdown",
   "metadata": {},
   "source": [
    "# 1. Install and Import Baseline Dependencies"
   ]
  },
  {
   "cell_type": "code",
   "execution_count": 1,
   "metadata": {},
   "outputs": [
    {
     "name": "stderr",
     "output_type": "stream",
     "text": [
      "WARNING: Ignoring invalid distribution -umpy (c:\\users\\moto\\anaconda3\\lib\\site-packages)\n",
      "WARNING: Ignoring invalid distribution -umpy (c:\\users\\moto\\anaconda3\\lib\\site-packages)\n",
      "WARNING: Ignoring invalid distribution -umpy (c:\\users\\moto\\anaconda3\\lib\\site-packages)\n",
      "WARNING: Ignoring invalid distribution -umpy (c:\\users\\moto\\anaconda3\\lib\\site-packages)\n",
      "WARNING: Ignoring invalid distribution -umpy (c:\\users\\moto\\anaconda3\\lib\\site-packages)\n",
      "WARNING: Ignoring invalid distribution -umpy (c:\\users\\moto\\anaconda3\\lib\\site-packages)\n"
     ]
    },
    {
     "name": "stdout",
     "output_type": "stream",
     "text": [
      "Requirement already satisfied: transformers in c:\\users\\moto\\anaconda3\\lib\\site-packages (4.5.1)\n",
      "Requirement already satisfied: requests in c:\\users\\moto\\anaconda3\\lib\\site-packages (from transformers) (2.24.0)\n",
      "Requirement already satisfied: numpy>=1.17 in c:\\users\\moto\\anaconda3\\lib\\site-packages (from transformers) (1.18.5)\n",
      "Requirement already satisfied: sacremoses in c:\\users\\moto\\anaconda3\\lib\\site-packages (from transformers) (0.0.45)\n",
      "Requirement already satisfied: regex!=2019.12.17 in c:\\users\\moto\\anaconda3\\lib\\site-packages (from transformers) (2021.8.3)\n",
      "Requirement already satisfied: filelock in c:\\users\\moto\\anaconda3\\lib\\site-packages (from transformers) (3.0.12)\n",
      "Requirement already satisfied: tokenizers<0.11,>=0.10.1 in c:\\users\\moto\\anaconda3\\lib\\site-packages (from transformers) (0.10.2)\n",
      "Requirement already satisfied: tqdm>=4.27 in c:\\users\\moto\\anaconda3\\lib\\site-packages (from transformers) (4.62.1)\n",
      "Requirement already satisfied: packaging in c:\\users\\moto\\anaconda3\\lib\\site-packages (from transformers) (21.0)\n",
      "Requirement already satisfied: colorama in c:\\users\\moto\\anaconda3\\lib\\site-packages (from tqdm>=4.27->transformers) (0.4.4)\n",
      "Requirement already satisfied: pyparsing>=2.0.2 in c:\\users\\moto\\anaconda3\\lib\\site-packages (from packaging->transformers) (2.4.7)\n",
      "Requirement already satisfied: certifi>=2017.4.17 in c:\\users\\moto\\anaconda3\\lib\\site-packages (from requests->transformers) (2020.6.20)\n",
      "Requirement already satisfied: idna<3,>=2.5 in c:\\users\\moto\\anaconda3\\lib\\site-packages (from requests->transformers) (2.10)\n",
      "Requirement already satisfied: chardet<4,>=3.0.2 in c:\\users\\moto\\anaconda3\\lib\\site-packages (from requests->transformers) (3.0.4)\n",
      "Requirement already satisfied: urllib3!=1.25.0,!=1.25.1,<1.26,>=1.21.1 in c:\\users\\moto\\anaconda3\\lib\\site-packages (from requests->transformers) (1.25.11)\n",
      "Requirement already satisfied: six in c:\\users\\moto\\anaconda3\\lib\\site-packages (from sacremoses->transformers) (1.15.0)\n",
      "Requirement already satisfied: click in c:\\users\\moto\\anaconda3\\lib\\site-packages (from sacremoses->transformers) (7.1.2)\n",
      "Requirement already satisfied: joblib in c:\\users\\moto\\anaconda3\\lib\\site-packages (from sacremoses->transformers) (1.0.1)\n"
     ]
    }
   ],
   "source": [
    "!pip install transformers"
   ]
  },
  {
   "cell_type": "code",
   "execution_count": 2,
   "metadata": {},
   "outputs": [],
   "source": [
    "from transformers import PegasusTokenizer, PegasusForConditionalGeneration\n",
    "from bs4 import BeautifulSoup\n",
    "import requests"
   ]
  },
  {
   "cell_type": "markdown",
   "metadata": {},
   "source": [
    "# 2. Setup Summarization Model"
   ]
  },
  {
   "cell_type": "code",
   "execution_count": 3,
   "metadata": {},
   "outputs": [],
   "source": [
    "model_name = \"human-centered-summarization/financial-summarization-pegasus\"\n",
    "tokenizer = PegasusTokenizer.from_pretrained(model_name)\n",
    "model = PegasusForConditionalGeneration.from_pretrained(model_name)"
   ]
  },
  {
   "cell_type": "markdown",
   "metadata": {},
   "source": [
    "# 3. Summarize a Single Article"
   ]
  },
  {
   "cell_type": "code",
   "execution_count": 4,
   "metadata": {},
   "outputs": [],
   "source": [
    "url = \"https://finance.yahoo.com/news/bitcoin-crashes-below-50000-163721506.html\"\n",
    "r = requests.get(url)\n",
    "soup = BeautifulSoup(r.text, 'html.parser')\n",
    "paragraphs = soup.find_all('p')"
   ]
  },
  {
   "cell_type": "code",
   "execution_count": 5,
   "metadata": {},
   "outputs": [
    {
     "data": {
      "text/plain": [
       "\"Bitcoin's (BTC-USD) price crashed on Tuesday afternoon, falling below the $50,000 (£36,152) mark, on the same day that El Salvador began accepting the crypto as legal tender.\""
      ]
     },
     "execution_count": 5,
     "metadata": {},
     "output_type": "execute_result"
    }
   ],
   "source": [
    "paragraphs[1].text"
   ]
  },
  {
   "cell_type": "code",
   "execution_count": 6,
   "metadata": {},
   "outputs": [],
   "source": [
    "text = [paragraph.text for paragraph in paragraphs]\n",
    "words = ' '.join(text).split(' ')[:400]\n",
    "ARTICLE = ' '.join(words)"
   ]
  },
  {
   "cell_type": "code",
   "execution_count": 7,
   "metadata": {},
   "outputs": [
    {
     "data": {
      "text/plain": [
       "' Bitcoin\\'s (BTC-USD) price crashed on Tuesday afternoon, falling below the $50,000 (£36,152) mark, on the same day that El Salvador began accepting the crypto as legal tender. To mark the occasion, Twitter and Reddit users pledged to buy $30 worth of BTC on 7 September, dubbed \\'bitcoin day\\'. Some Reddit users even suggested that if all 3,316,862 community members were to buy $30 of bitcoin each on Thursday, $99,505,860 would be added to the cryptocurrency. But bitcoin was down almost 10%, trading at $47,142. This has wiped hundreds of billions from the overall market, which was worth more than $2.35tn at the start of the day. \"The euphoria surrounding El Salvador’s adoption of Bitcoin has well and truly fizzled out with the losses accelerating as the day wore on,\" said Susannah Streeter, senior investment and markets analyst, Hargreaves Lansdown. \"This is after all a big gamble for the country’s payment system given that making transactions in the currency when the price is so volatile is highly risky. There is also concern that by becoming known as a Bitcoin haven, the country could attract the wrong kind of investment from criminal groups seeking anonymity.\" She added that it was also likely that \"a pump and dump scenario is partly playing out after there were calls on social media forums for fans to buy tranches of bitcoin to celebrate the bitcoin law in El Salvador. Some speculators cashing in on the previous sharp gain may have sparked further falls.\" In recent times, bitcoin, which went as high as $63,000 in April, has been hit by concerns over the environmental impact of mining it, as well as regulatory crackdowns in countries including China and the UK. It had only just managed to gain some momentum, going as high as $52,853 early Tuesday morning, before crashing by the evening. \"Bitcoin is hammered day but if you look at the price action more closely you can see that traders have actually bought the dip as the price has bounced near its 50-day simple moving average,\" Naeem Aslam, chief market analyst at Ava Trade, told Yahoo Finance UK.\\xa0 \"In other words, today, we have tested the early 40Ks price level and it seems like that this could be last big fires sale opportunity we may have this year.\" Meanwhile, the UK\\'s Financial Conduct Authority (FCA) continues to issue warnings to consumers about the risks of'"
      ]
     },
     "execution_count": 7,
     "metadata": {},
     "output_type": "execute_result"
    }
   ],
   "source": [
    "ARTICLE"
   ]
  },
  {
   "cell_type": "code",
   "execution_count": 8,
   "metadata": {},
   "outputs": [],
   "source": [
    "input_ids = tokenizer.encode(ARTICLE, return_tensors='pt')\n",
    "output = model.generate(input_ids, max_length=55, num_beams=5, early_stopping=True)\n",
    "summary = tokenizer.decode(output[0], skip_special_tokens=True)"
   ]
  },
  {
   "cell_type": "code",
   "execution_count": 9,
   "metadata": {},
   "outputs": [
    {
     "data": {
      "text/plain": [
       "'El Salvador becomes the first country in the world to accept the cryptocurrency.'"
      ]
     },
     "execution_count": 9,
     "metadata": {},
     "output_type": "execute_result"
    }
   ],
   "source": [
    "summary"
   ]
  },
  {
   "cell_type": "markdown",
   "metadata": {},
   "source": [
    "# 4. Building a News and Sentiment Pipeline"
   ]
  },
  {
   "cell_type": "code",
   "execution_count": 10,
   "metadata": {},
   "outputs": [],
   "source": [
    "monitored_tickers = ['ADA', 'ETH', 'BTC']"
   ]
  },
  {
   "cell_type": "markdown",
   "metadata": {},
   "source": [
    "## 4.1. Search for Stock News using Google and Yahoo Finance"
   ]
  },
  {
   "cell_type": "code",
   "execution_count": 11,
   "metadata": {},
   "outputs": [],
   "source": [
    "def search_for_stock_news_urls(ticker):\n",
    "    search_url = \"https://www.google.com/search?q=yahoo+finance+{}&tbm=nws\".format(ticker)\n",
    "    r = requests.get(search_url)\n",
    "    soup = BeautifulSoup(r.text, 'html.parser')\n",
    "    atags = soup.find_all('a')\n",
    "    hrefs = [link['href'] for link in atags]\n",
    "    return hrefs "
   ]
  },
  {
   "cell_type": "code",
   "execution_count": 12,
   "metadata": {},
   "outputs": [
    {
     "data": {
      "text/plain": [
       "{'ADA': ['/?sa=X&ved=0ahUKEwim8Zzw3P_yAhVPNOwKHWzhDOQQOwgC',\n",
       "  '/?output=search&ie=UTF-8&tbm=nws&sa=X&ved=0ahUKEwim8Zzw3P_yAhVPNOwKHWzhDOQQPAgE',\n",
       "  '/search?q=yahoo+finance+ADA&tbm=nws&ie=UTF-8&gbv=1&sei=oz5BYeaTEs_osAfswrOgDg',\n",
       "  '/search?q=yahoo+finance+ADA&ie=UTF-8&source=lnms&sa=X&ved=0ahUKEwim8Zzw3P_yAhVPNOwKHWzhDOQQ_AUIBygA',\n",
       "  '/search?q=yahoo+finance+ADA&ie=UTF-8&tbm=isch&source=lnms&sa=X&ved=0ahUKEwim8Zzw3P_yAhVPNOwKHWzhDOQQ_AUICSgC',\n",
       "  '/search?q=yahoo+finance+ADA&ie=UTF-8&tbm=shop&source=lnms&sa=X&ved=0ahUKEwim8Zzw3P_yAhVPNOwKHWzhDOQQ_AUICigD',\n",
       "  'https://maps.google.com/maps?q=yahoo+finance+ADA&um=1&ie=UTF-8&sa=X&ved=0ahUKEwim8Zzw3P_yAhVPNOwKHWzhDOQQ_AUICygE',\n",
       "  '/search?q=yahoo+finance+ADA&ie=UTF-8&tbm=vid&source=lnms&sa=X&ved=0ahUKEwim8Zzw3P_yAhVPNOwKHWzhDOQQ_AUIDCgF',\n",
       "  '/search?q=yahoo+finance+ADA&ie=UTF-8&tbm=bks&source=lnms&sa=X&ved=0ahUKEwim8Zzw3P_yAhVPNOwKHWzhDOQQ_AUIDSgG',\n",
       "  '/advanced_search',\n",
       "  '/search?q=yahoo+finance+ADA&ie=UTF-8&tbm=nws&source=lnt&tbs=qdr:h&sa=X&ved=0ahUKEwim8Zzw3P_yAhVPNOwKHWzhDOQQpwUIDw',\n",
       "  '/search?q=yahoo+finance+ADA&ie=UTF-8&tbm=nws&source=lnt&tbs=qdr:d&sa=X&ved=0ahUKEwim8Zzw3P_yAhVPNOwKHWzhDOQQpwUIEA',\n",
       "  '/search?q=yahoo+finance+ADA&ie=UTF-8&tbm=nws&source=lnt&tbs=qdr:w&sa=X&ved=0ahUKEwim8Zzw3P_yAhVPNOwKHWzhDOQQpwUIEQ',\n",
       "  '/search?q=yahoo+finance+ADA&ie=UTF-8&tbm=nws&source=lnt&tbs=qdr:m&sa=X&ved=0ahUKEwim8Zzw3P_yAhVPNOwKHWzhDOQQpwUIEg',\n",
       "  '/search?q=yahoo+finance+ADA&ie=UTF-8&tbm=nws&source=lnt&tbs=qdr:y&sa=X&ved=0ahUKEwim8Zzw3P_yAhVPNOwKHWzhDOQQpwUIEw',\n",
       "  '/search?q=yahoo+finance+ADA&ie=UTF-8&tbm=nws&source=lnt&tbs=ar:1&sa=X&ved=0ahUKEwim8Zzw3P_yAhVPNOwKHWzhDOQQpwUIFA',\n",
       "  '/search?q=yahoo+finance+ADA&ie=UTF-8&tbm=nws&source=lnt&tbs=sbd:1&sa=X&ved=0ahUKEwim8Zzw3P_yAhVPNOwKHWzhDOQQpwUIFg',\n",
       "  '/url?q=https://finance.yahoo.com/news/cryptocurriencies-are-a-durable-asset-class-with-real-upside-black-rock-fixed-income-cio-160259991.html&sa=U&ved=2ahUKEwim8Zzw3P_yAhVPNOwKHWzhDOQQxfQBegQIAhAB&usg=AOvVaw0m5keHhPsnW3xTksXvGouG',\n",
       "  '/url?q=https://finance.yahoo.com/news/cryptocurriencies-are-a-durable-asset-class-with-real-upside-black-rock-fixed-income-cio-160259991.html&sa=U&ved=2ahUKEwim8Zzw3P_yAhVPNOwKHWzhDOQQ0Y8FegQIAhAC&usg=AOvVaw3N1qV7r1Qeu9Nrhoz18xrb',\n",
       "  '/url?q=https://finance.yahoo.com/news/ada-down-7-today-despite-115931217.html&sa=U&ved=2ahUKEwim8Zzw3P_yAhVPNOwKHWzhDOQQxfQBegQICBAB&usg=AOvVaw2U283YDjGMc16y-DuZXyq2',\n",
       "  '/url?q=https://finance.yahoo.com/news/ada-down-7-today-despite-115931217.html&sa=U&ved=2ahUKEwim8Zzw3P_yAhVPNOwKHWzhDOQQ0Y8FegQICBAC&usg=AOvVaw2dGkVl8ZrFku6tx5xF9cDf',\n",
       "  '/url?q=https://finance.yahoo.com/news/undaunted-by-bitcoin-flash-crash-true-believers-say-its-the-greatest-time-to-get-into-crypto-214309569.html&sa=U&ved=2ahUKEwim8Zzw3P_yAhVPNOwKHWzhDOQQxfQBegQICRAB&usg=AOvVaw0GAzFu_kMgsmh7IVZTrCIJ',\n",
       "  '/url?q=https://finance.yahoo.com/news/undaunted-by-bitcoin-flash-crash-true-believers-say-its-the-greatest-time-to-get-into-crypto-214309569.html&sa=U&ved=2ahUKEwim8Zzw3P_yAhVPNOwKHWzhDOQQ0Y8FegQICRAC&usg=AOvVaw3lWIY_w5DFMHQ5434Njz4z',\n",
       "  '/url?q=https://finance.yahoo.com/news/greed-one-first-launch-cardano-180100414.html&sa=U&ved=2ahUKEwim8Zzw3P_yAhVPNOwKHWzhDOQQxfQBegQIBxAB&usg=AOvVaw0HQKn8Si1DsKpiwD7eSHEm',\n",
       "  '/url?q=https://finance.yahoo.com/news/greed-one-first-launch-cardano-180100414.html&sa=U&ved=2ahUKEwim8Zzw3P_yAhVPNOwKHWzhDOQQ0Y8FegQIBxAC&usg=AOvVaw2QSO7lLOx4F8fCw8D3MQpK',\n",
       "  '/url?q=https://finance.yahoo.com/news/bitcoin-price-cryptocurrencies-sweden-trading-stamps-ethereum-100929220.html&sa=U&ved=2ahUKEwim8Zzw3P_yAhVPNOwKHWzhDOQQxfQBegQIBRAB&usg=AOvVaw0fYubRtC7SQPob5N_iA8Se',\n",
       "  '/url?q=https://finance.yahoo.com/news/bitcoin-price-cryptocurrencies-sweden-trading-stamps-ethereum-100929220.html&sa=U&ved=2ahUKEwim8Zzw3P_yAhVPNOwKHWzhDOQQ0Y8FegQIBRAC&usg=AOvVaw2dT3m_UWbVLYJm22NKGIQQ',\n",
       "  '/url?q=https://finance.yahoo.com/news/cardano-ada-expected-pullback-came-170945648.html&sa=U&ved=2ahUKEwim8Zzw3P_yAhVPNOwKHWzhDOQQxfQBegQIARAB&usg=AOvVaw1zVr-ouEIIqAXvoyXkNfm_',\n",
       "  '/url?q=https://finance.yahoo.com/news/cardano-ada-expected-pullback-came-170945648.html&sa=U&ved=2ahUKEwim8Zzw3P_yAhVPNOwKHWzhDOQQ0Y8FegQIARAC&usg=AOvVaw3uo8IBuGJRsCvdIJePbpSA',\n",
       "  '/url?q=https://finance.yahoo.com/news/cardano-smart-contracts-hit-public-103919542.html&sa=U&ved=2ahUKEwim8Zzw3P_yAhVPNOwKHWzhDOQQxfQBegQIABAB&usg=AOvVaw0NBREtSsrjO-MkVZMv8xpj',\n",
       "  '/url?q=https://finance.yahoo.com/news/cardano-smart-contracts-hit-public-103919542.html&sa=U&ved=2ahUKEwim8Zzw3P_yAhVPNOwKHWzhDOQQ0Y8FegQIABAC&usg=AOvVaw0HDeOc0xVHCV9ryBmT9BbS',\n",
       "  '/url?q=https://finance.yahoo.com/news/what-augusts-record-breaking-month-for-crypto-flows-means-for-bitcoin-163906276.html&sa=U&ved=2ahUKEwim8Zzw3P_yAhVPNOwKHWzhDOQQxfQBegQIAxAB&usg=AOvVaw2_at89gsfB3gz-d6ci0LO4',\n",
       "  '/url?q=https://finance.yahoo.com/news/what-augusts-record-breaking-month-for-crypto-flows-means-for-bitcoin-163906276.html&sa=U&ved=2ahUKEwim8Zzw3P_yAhVPNOwKHWzhDOQQ0Y8FegQIAxAC&usg=AOvVaw1N9QZNilg20Wy_7Sbb6xQr',\n",
       "  '/url?q=https://finance.yahoo.com/news/cardano-hits-3-mark-first-155147241.html&sa=U&ved=2ahUKEwim8Zzw3P_yAhVPNOwKHWzhDOQQxfQBegQIBhAB&usg=AOvVaw0x445rRnoOvXLvCImA449t',\n",
       "  '/url?q=https://finance.yahoo.com/news/cardano-hits-3-mark-first-155147241.html&sa=U&ved=2ahUKEwim8Zzw3P_yAhVPNOwKHWzhDOQQ0Y8FegQIBhAC&usg=AOvVaw1LCoXg7fBy5Cii98KrvWe8',\n",
       "  '/url?q=https://finance.yahoo.com/news/cardano-ada-expect-pullback-another-192023603.html&sa=U&ved=2ahUKEwim8Zzw3P_yAhVPNOwKHWzhDOQQxfQBegQIBBAB&usg=AOvVaw3L5H8-OuYu2BtvTl9lkyYt',\n",
       "  '/url?q=https://finance.yahoo.com/news/cardano-ada-expect-pullback-another-192023603.html&sa=U&ved=2ahUKEwim8Zzw3P_yAhVPNOwKHWzhDOQQ0Y8FegQIBBAC&usg=AOvVaw2eg7hu0PwB_6SpTkRPUXbL',\n",
       "  '/search?q=yahoo+finance+ADA&ie=UTF-8&tbm=nws&ei=oz5BYeaTEs_osAfswrOgDg&start=10&sa=N',\n",
       "  '/url?q=https://support.google.com/websearch%3Fp%3Dws_settings_location%26hl%3Den&sa=U&ved=0ahUKEwim8Zzw3P_yAhVPNOwKHWzhDOQQty4IVQ&usg=AOvVaw3MXe3GJCjfp6RsACiEIbTM',\n",
       "  '/url?q=https://accounts.google.com/ServiceLogin%3Fcontinue%3Dhttps://www.google.com/search%253Fq%253Dyahoo%252Bfinance%252BADA%2526tbm%253Dnws%26hl%3Den&sa=U&ved=0ahUKEwim8Zzw3P_yAhVPNOwKHWzhDOQQxs8CCFY&usg=AOvVaw1Cn4FVIqUoGGVni5Sf3ruH',\n",
       "  'https://www.google.com/preferences?hl=en&fg=1&sa=X&ved=0ahUKEwim8Zzw3P_yAhVPNOwKHWzhDOQQ5fUCCFc',\n",
       "  'https://policies.google.com/privacy?hl=en&fg=1',\n",
       "  'https://policies.google.com/terms?hl=en&fg=1'],\n",
       " 'ETH': ['/?sa=X&ved=0ahUKEwjYz8Pw3P_yAhUOr6QKHS7YDi8QOwgC',\n",
       "  '/?output=search&ie=UTF-8&tbm=nws&sa=X&ved=0ahUKEwjYz8Pw3P_yAhUOr6QKHS7YDi8QPAgE',\n",
       "  '/search?q=yahoo+finance+ETH&tbm=nws&ie=UTF-8&gbv=1&sei=oz5BYZjyOI7ekgWusLv4Ag',\n",
       "  '/search?q=yahoo+finance+ETH&ie=UTF-8&source=lnms&sa=X&ved=0ahUKEwjYz8Pw3P_yAhUOr6QKHS7YDi8Q_AUIBygA',\n",
       "  '/search?q=yahoo+finance+ETH&ie=UTF-8&tbm=shop&source=lnms&sa=X&ved=0ahUKEwjYz8Pw3P_yAhUOr6QKHS7YDi8Q_AUICSgC',\n",
       "  '/search?q=yahoo+finance+ETH&ie=UTF-8&tbm=vid&source=lnms&sa=X&ved=0ahUKEwjYz8Pw3P_yAhUOr6QKHS7YDi8Q_AUICigD',\n",
       "  '/search?q=yahoo+finance+ETH&ie=UTF-8&tbm=isch&source=lnms&sa=X&ved=0ahUKEwjYz8Pw3P_yAhUOr6QKHS7YDi8Q_AUICygE',\n",
       "  'https://maps.google.com/maps?q=yahoo+finance+ETH&um=1&ie=UTF-8&sa=X&ved=0ahUKEwjYz8Pw3P_yAhUOr6QKHS7YDi8Q_AUIDCgF',\n",
       "  '/search?q=yahoo+finance+ETH&ie=UTF-8&tbm=bks&source=lnms&sa=X&ved=0ahUKEwjYz8Pw3P_yAhUOr6QKHS7YDi8Q_AUIDSgG',\n",
       "  '/advanced_search',\n",
       "  '/search?q=yahoo+finance+ETH&ie=UTF-8&tbm=nws&source=lnt&tbs=qdr:h&sa=X&ved=0ahUKEwjYz8Pw3P_yAhUOr6QKHS7YDi8QpwUIDw',\n",
       "  '/search?q=yahoo+finance+ETH&ie=UTF-8&tbm=nws&source=lnt&tbs=qdr:d&sa=X&ved=0ahUKEwjYz8Pw3P_yAhUOr6QKHS7YDi8QpwUIEA',\n",
       "  '/search?q=yahoo+finance+ETH&ie=UTF-8&tbm=nws&source=lnt&tbs=qdr:w&sa=X&ved=0ahUKEwjYz8Pw3P_yAhUOr6QKHS7YDi8QpwUIEQ',\n",
       "  '/search?q=yahoo+finance+ETH&ie=UTF-8&tbm=nws&source=lnt&tbs=qdr:m&sa=X&ved=0ahUKEwjYz8Pw3P_yAhUOr6QKHS7YDi8QpwUIEg',\n",
       "  '/search?q=yahoo+finance+ETH&ie=UTF-8&tbm=nws&source=lnt&tbs=qdr:y&sa=X&ved=0ahUKEwjYz8Pw3P_yAhUOr6QKHS7YDi8QpwUIEw',\n",
       "  '/search?q=yahoo+finance+ETH&ie=UTF-8&tbm=nws&source=lnt&tbs=ar:1&sa=X&ved=0ahUKEwjYz8Pw3P_yAhUOr6QKHS7YDi8QpwUIFA',\n",
       "  '/search?q=yahoo+finance+ETH&ie=UTF-8&tbm=nws&source=lnt&tbs=sbd:1&sa=X&ved=0ahUKEwjYz8Pw3P_yAhUOr6QKHS7YDi8QpwUIFg',\n",
       "  '/url?q=https://finance.yahoo.com/news/ethereum-layer-2-tvl-breaks-113845277.html&sa=U&ved=2ahUKEwjYz8Pw3P_yAhUOr6QKHS7YDi8QxfQBegQIAhAB&usg=AOvVaw0J8HgpS8XtXBOZn4ZayvPk',\n",
       "  '/url?q=https://finance.yahoo.com/news/ethereum-layer-2-tvl-breaks-113845277.html&sa=U&ved=2ahUKEwjYz8Pw3P_yAhUOr6QKHS7YDi8Q0Y8FegQIAhAC&usg=AOvVaw1FbM2L5Wcv2dKwGtcm3yfT',\n",
       "  '/url?q=https://finance.yahoo.com/news/ethereum-litecoin-ripple-xrp-daily-001720248.html&sa=U&ved=2ahUKEwjYz8Pw3P_yAhUOr6QKHS7YDi8QxfQBegQICBAB&usg=AOvVaw0EKHvKHqNJx72Fz5aPjnmG',\n",
       "  '/url?q=https://finance.yahoo.com/news/ethereum-litecoin-ripple-xrp-daily-001720248.html&sa=U&ved=2ahUKEwjYz8Pw3P_yAhUOr6QKHS7YDi8Q0Y8FegQICBAC&usg=AOvVaw1ipPWVLIaEcDZjS9Z0aJS7',\n",
       "  '/url?q=https://finance.yahoo.com/news/bitcoin-ethereum-weekly-technical-analysis-015342376.html&sa=U&ved=2ahUKEwjYz8Pw3P_yAhUOr6QKHS7YDi8QxfQBegQIBxAB&usg=AOvVaw18tO1f02F25EwHRd3Mr2on',\n",
       "  '/url?q=https://finance.yahoo.com/news/bitcoin-ethereum-weekly-technical-analysis-015342376.html&sa=U&ved=2ahUKEwjYz8Pw3P_yAhUOr6QKHS7YDi8Q0Y8FegQIBxAC&usg=AOvVaw3MKYPVYyEeu1PqPYLy4g1x',\n",
       "  '/url?q=https://finance.yahoo.com/news/crypto-analyst-who-called-ethereums-climb-to-3400-reiterates-a-10000-call-195159080.html&sa=U&ved=2ahUKEwjYz8Pw3P_yAhUOr6QKHS7YDi8QxfQBegQICRAB&usg=AOvVaw00WGVO11PJXERME2iIGA8y',\n",
       "  '/url?q=https://finance.yahoo.com/news/crypto-analyst-who-called-ethereums-climb-to-3400-reiterates-a-10000-call-195159080.html&sa=U&ved=2ahUKEwjYz8Pw3P_yAhUOr6QKHS7YDi8Q0Y8FegQICRAC&usg=AOvVaw1IrYFb2uHc9tWxKoAu9IaJ',\n",
       "  '/url?q=https://finance.yahoo.com/video/ethereum-hits-highest-levels-since-201441481.html&sa=U&ved=2ahUKEwjYz8Pw3P_yAhUOr6QKHS7YDi8QxfQBegQIAxAB&usg=AOvVaw3SfA5SRNRTIh2Oi1jeXmR-',\n",
       "  '/url?q=https://finance.yahoo.com/video/ethereum-hits-highest-levels-since-201441481.html&sa=U&ved=2ahUKEwjYz8Pw3P_yAhUOr6QKHS7YDi8Q0Y8FegQIAxAC&usg=AOvVaw1n31lViSpgQt03rw1sNjDt',\n",
       "  '/url?q=https://finance.yahoo.com/news/had-5-000-now-put-182159163.html&sa=U&ved=2ahUKEwjYz8Pw3P_yAhUOr6QKHS7YDi8QxfQBegQIBhAB&usg=AOvVaw1mhd52GgDYLw-Ffr_cmkkw',\n",
       "  '/url?q=https://finance.yahoo.com/news/had-5-000-now-put-182159163.html&sa=U&ved=2ahUKEwjYz8Pw3P_yAhUOr6QKHS7YDi8Q0Y8FegQIBhAC&usg=AOvVaw2TnzkTHj1jQcs3Ffh6KlaT',\n",
       "  '/url?q=https://finance.yahoo.com/news/why-bitcoin-related-ethereum-related-151329728.html&sa=U&ved=2ahUKEwjYz8Pw3P_yAhUOr6QKHS7YDi8QxfQBegQIARAB&usg=AOvVaw1R9SXoKrswnF_7RKjehWdK',\n",
       "  '/url?q=https://finance.yahoo.com/news/why-bitcoin-related-ethereum-related-151329728.html&sa=U&ved=2ahUKEwjYz8Pw3P_yAhUOr6QKHS7YDi8Q0Y8FegQIARAC&usg=AOvVaw0zKLSXj2BuNCTguYFJFpXd',\n",
       "  '/url?q=https://finance.yahoo.com/news/bitcoin-price-cryptocurrencies-sweden-trading-stamps-ethereum-100929220.html&sa=U&ved=2ahUKEwjYz8Pw3P_yAhUOr6QKHS7YDi8QxfQBegQIBBAB&usg=AOvVaw1wjv0CuIVKb5E8ZoR3Shj7',\n",
       "  '/url?q=https://finance.yahoo.com/news/bitcoin-price-cryptocurrencies-sweden-trading-stamps-ethereum-100929220.html&sa=U&ved=2ahUKEwjYz8Pw3P_yAhUOr6QKHS7YDi8Q0Y8FegQIBBAC&usg=AOvVaw26Aafahiasp0NS3g4HNQP1',\n",
       "  '/url?q=https://finance.yahoo.com/news/what-augusts-record-breaking-month-for-crypto-flows-means-for-bitcoin-163906276.html&sa=U&ved=2ahUKEwjYz8Pw3P_yAhUOr6QKHS7YDi8QxfQBegQIBRAB&usg=AOvVaw3neFhFdnbWioE-KqiQqKrg',\n",
       "  '/url?q=https://finance.yahoo.com/news/what-augusts-record-breaking-month-for-crypto-flows-means-for-bitcoin-163906276.html&sa=U&ved=2ahUKEwjYz8Pw3P_yAhUOr6QKHS7YDi8Q0Y8FegQIBRAC&usg=AOvVaw3YFUvCHZwIBS5WYAqbBrpd',\n",
       "  '/url?q=https://finance.yahoo.com/news/nfts-defi-boost-ethereum-dims-154222433.html&sa=U&ved=2ahUKEwjYz8Pw3P_yAhUOr6QKHS7YDi8QxfQBegQIABAB&usg=AOvVaw0E_C0V5Wa0UbWZz_yAtvh8',\n",
       "  '/url?q=https://finance.yahoo.com/news/nfts-defi-boost-ethereum-dims-154222433.html&sa=U&ved=2ahUKEwjYz8Pw3P_yAhUOr6QKHS7YDi8Q0Y8FegQIABAC&usg=AOvVaw2mqGYny2P8YJ8gTRWLbr70',\n",
       "  '/search?q=yahoo+finance+ETH&ie=UTF-8&tbm=nws&ei=oz5BYZjyOI7ekgWusLv4Ag&start=10&sa=N',\n",
       "  '/url?q=https://support.google.com/websearch%3Fp%3Dws_settings_location%26hl%3Den&sa=U&ved=0ahUKEwjYz8Pw3P_yAhUOr6QKHS7YDi8Qty4IVQ&usg=AOvVaw28nfHGmxiux7x84XF6cPf6',\n",
       "  '/url?q=https://accounts.google.com/ServiceLogin%3Fcontinue%3Dhttps://www.google.com/search%253Fq%253Dyahoo%252Bfinance%252BETH%2526tbm%253Dnws%26hl%3Den&sa=U&ved=0ahUKEwjYz8Pw3P_yAhUOr6QKHS7YDi8Qxs8CCFY&usg=AOvVaw3Deoac9rCKBKyHTP3L_6R6',\n",
       "  'https://www.google.com/preferences?hl=en&fg=1&sa=X&ved=0ahUKEwjYz8Pw3P_yAhUOr6QKHS7YDi8Q5fUCCFc',\n",
       "  'https://policies.google.com/privacy?hl=en&fg=1',\n",
       "  'https://policies.google.com/terms?hl=en&fg=1'],\n",
       " 'BTC': ['/?sa=X&ved=0ahUKEwjv0Obw3P_yAhWQDewKHb4UCfcQOwgC',\n",
       "  '/?output=search&ie=UTF-8&tbm=nws&sa=X&ved=0ahUKEwjv0Obw3P_yAhWQDewKHb4UCfcQPAgE',\n",
       "  '/search?q=yahoo+finance+BTC&tbm=nws&ie=UTF-8&gbv=1&sei=pD5BYe_uHpCbsAe-qaS4Dw',\n",
       "  '/search?q=yahoo+finance+BTC&ie=UTF-8&source=lnms&sa=X&ved=0ahUKEwjv0Obw3P_yAhWQDewKHb4UCfcQ_AUIBygA',\n",
       "  '/search?q=yahoo+finance+BTC&ie=UTF-8&tbm=shop&source=lnms&sa=X&ved=0ahUKEwjv0Obw3P_yAhWQDewKHb4UCfcQ_AUICSgC',\n",
       "  '/search?q=yahoo+finance+BTC&ie=UTF-8&tbm=vid&source=lnms&sa=X&ved=0ahUKEwjv0Obw3P_yAhWQDewKHb4UCfcQ_AUICigD',\n",
       "  '/search?q=yahoo+finance+BTC&ie=UTF-8&tbm=isch&source=lnms&sa=X&ved=0ahUKEwjv0Obw3P_yAhWQDewKHb4UCfcQ_AUICygE',\n",
       "  'https://maps.google.com/maps?q=yahoo+finance+BTC&um=1&ie=UTF-8&sa=X&ved=0ahUKEwjv0Obw3P_yAhWQDewKHb4UCfcQ_AUIDCgF',\n",
       "  '/search?q=yahoo+finance+BTC&ie=UTF-8&tbm=bks&source=lnms&sa=X&ved=0ahUKEwjv0Obw3P_yAhWQDewKHb4UCfcQ_AUIDSgG',\n",
       "  '/advanced_search',\n",
       "  '/search?q=yahoo+finance+BTC&ie=UTF-8&tbm=nws&source=lnt&tbs=qdr:h&sa=X&ved=0ahUKEwjv0Obw3P_yAhWQDewKHb4UCfcQpwUIDw',\n",
       "  '/search?q=yahoo+finance+BTC&ie=UTF-8&tbm=nws&source=lnt&tbs=qdr:d&sa=X&ved=0ahUKEwjv0Obw3P_yAhWQDewKHb4UCfcQpwUIEA',\n",
       "  '/search?q=yahoo+finance+BTC&ie=UTF-8&tbm=nws&source=lnt&tbs=qdr:w&sa=X&ved=0ahUKEwjv0Obw3P_yAhWQDewKHb4UCfcQpwUIEQ',\n",
       "  '/search?q=yahoo+finance+BTC&ie=UTF-8&tbm=nws&source=lnt&tbs=qdr:m&sa=X&ved=0ahUKEwjv0Obw3P_yAhWQDewKHb4UCfcQpwUIEg',\n",
       "  '/search?q=yahoo+finance+BTC&ie=UTF-8&tbm=nws&source=lnt&tbs=qdr:y&sa=X&ved=0ahUKEwjv0Obw3P_yAhWQDewKHb4UCfcQpwUIEw',\n",
       "  '/search?q=yahoo+finance+BTC&ie=UTF-8&tbm=nws&source=lnt&tbs=ar:1&sa=X&ved=0ahUKEwjv0Obw3P_yAhWQDewKHb4UCfcQpwUIFA',\n",
       "  '/search?q=yahoo+finance+BTC&ie=UTF-8&tbm=nws&source=lnt&tbs=sbd:1&sa=X&ved=0ahUKEwjv0Obw3P_yAhWQDewKHb4UCfcQpwUIFg',\n",
       "  '/url?q=https://finance.yahoo.com/news/fidelity-pushed-bitcoin-etf-approval-230824408.html&sa=U&ved=2ahUKEwjv0Obw3P_yAhWQDewKHb4UCfcQxfQBegQIARAB&usg=AOvVaw0l_jt9ukH9XqK6-HhQoavv',\n",
       "  '/url?q=https://finance.yahoo.com/news/fidelity-pushed-bitcoin-etf-approval-230824408.html&sa=U&ved=2ahUKEwjv0Obw3P_yAhWQDewKHb4UCfcQ0Y8FegQIARAC&usg=AOvVaw1PepV25P18r2UsEehWegyW',\n",
       "  '/url?q=https://finance.yahoo.com/news/bitcoin-bulls-cathie-wood-says-215220452.html&sa=U&ved=2ahUKEwjv0Obw3P_yAhWQDewKHb4UCfcQxfQBegQICRAB&usg=AOvVaw18afoERS409E3Spd0D8E-I',\n",
       "  '/url?q=https://finance.yahoo.com/news/bitcoin-bulls-cathie-wood-says-215220452.html&sa=U&ved=2ahUKEwjv0Obw3P_yAhWQDewKHb4UCfcQ0Y8FegQICRAC&usg=AOvVaw0mYPZTXyyr9Ja0cTzI7dIj',\n",
       "  '/url?q=https://finance.yahoo.com/news/beyond-satoshis-bitcoin-next-poster-213032640.html&sa=U&ved=2ahUKEwjv0Obw3P_yAhWQDewKHb4UCfcQxfQBegQICBAB&usg=AOvVaw04LtEbO2fd4Be7ikdY3su3',\n",
       "  '/url?q=https://finance.yahoo.com/news/beyond-satoshis-bitcoin-next-poster-213032640.html&sa=U&ved=2ahUKEwjv0Obw3P_yAhWQDewKHb4UCfcQ0Y8FegQICBAC&usg=AOvVaw1PwKXTd1-p6dhy5daFXqoF',\n",
       "  '/url?q=https://finance.yahoo.com/news/emerging-crypto-coins-could-ravencoin-194232498.html&sa=U&ved=2ahUKEwjv0Obw3P_yAhWQDewKHb4UCfcQxfQBegQIBxAB&usg=AOvVaw1icYyVrxWA0S6MGR-525F6',\n",
       "  '/url?q=https://finance.yahoo.com/news/emerging-crypto-coins-could-ravencoin-194232498.html&sa=U&ved=2ahUKEwjv0Obw3P_yAhWQDewKHb4UCfcQ0Y8FegQIBxAC&usg=AOvVaw1mggNNOGG9b-Cpn5gM3TB1',\n",
       "  '/url?q=https://finance.yahoo.com/video/cinema-stocks-jump-china-crowded-182932171.html&sa=U&ved=2ahUKEwjv0Obw3P_yAhWQDewKHb4UCfcQxfQBegQIBhAB&usg=AOvVaw2_duHVQjuMySdeKrCCTKWf',\n",
       "  '/url?q=https://finance.yahoo.com/video/cinema-stocks-jump-china-crowded-182932171.html&sa=U&ved=2ahUKEwjv0Obw3P_yAhWQDewKHb4UCfcQ0Y8FegQIBhAC&usg=AOvVaw1PmiuOwRO13-WQKyEzmmEp',\n",
       "  '/url?q=https://finance.yahoo.com/amphtml/news/microstrategy-adds-another-5-050-172248283.html&sa=U&ved=2ahUKEwjv0Obw3P_yAhWQDewKHb4UCfcQxfQBegQIBBAB&usg=AOvVaw3KZ9tM31sXZJmtOSaJCmDJ',\n",
       "  '/url?q=https://finance.yahoo.com/amphtml/news/microstrategy-adds-another-5-050-172248283.html&sa=U&ved=2ahUKEwjv0Obw3P_yAhWQDewKHb4UCfcQ0Y8FegQIBBAC&usg=AOvVaw3jLLyxG13iALSSwRL6Pfr3',\n",
       "  '/url?q=https://finance.yahoo.com/news/litecoin-whipsawed-by-walmart-hoax-exposing-extremely-adversarial-environment-of-crypto-163629770.html&sa=U&ved=2ahUKEwjv0Obw3P_yAhWQDewKHb4UCfcQxfQBegQIABAB&usg=AOvVaw3lLfH39e1PUUGQTTIe-1a6',\n",
       "  '/url?q=https://finance.yahoo.com/news/litecoin-whipsawed-by-walmart-hoax-exposing-extremely-adversarial-environment-of-crypto-163629770.html&sa=U&ved=2ahUKEwjv0Obw3P_yAhWQDewKHb4UCfcQ0Y8FegQIABAC&usg=AOvVaw1G-v0VKrbEhqwgdxwC8hWE',\n",
       "  '/url?q=https://finance.yahoo.com/news/cryptocurriencies-are-a-durable-asset-class-with-real-upside-black-rock-fixed-income-cio-160259991.html&sa=U&ved=2ahUKEwjv0Obw3P_yAhWQDewKHb4UCfcQxfQBegQIAxAB&usg=AOvVaw2-QSKt2wiHHljl4d4dxURP',\n",
       "  '/url?q=https://finance.yahoo.com/news/cryptocurriencies-are-a-durable-asset-class-with-real-upside-black-rock-fixed-income-cio-160259991.html&sa=U&ved=2ahUKEwjv0Obw3P_yAhWQDewKHb4UCfcQ0Y8FegQIAxAC&usg=AOvVaw0HL85CYiKdkUk5OHacH29h',\n",
       "  '/url?q=https://finance.yahoo.com/news/this-crypto-looking-to-solve-the-sec-crackdown-is-up-6000-in-2021-135816741.html&sa=U&ved=2ahUKEwjv0Obw3P_yAhWQDewKHb4UCfcQxfQBegQIBRAB&usg=AOvVaw00QxRaMYz1lG52aesKxtfu',\n",
       "  '/url?q=https://finance.yahoo.com/news/this-crypto-looking-to-solve-the-sec-crackdown-is-up-6000-in-2021-135816741.html&sa=U&ved=2ahUKEwjv0Obw3P_yAhWQDewKHb4UCfcQ0Y8FegQIBRAC&usg=AOvVaw2ygXaG_Ra9S9VhzNGhrdxs',\n",
       "  '/url?q=https://finance.yahoo.com/news/bitcoin-price-prediction-bears-eyeing-133903929.html&sa=U&ved=2ahUKEwjv0Obw3P_yAhWQDewKHb4UCfcQxfQBegQIAhAB&usg=AOvVaw0VdwqgBFTp8IhFkz9No01s',\n",
       "  '/url?q=https://finance.yahoo.com/news/bitcoin-price-prediction-bears-eyeing-133903929.html&sa=U&ved=2ahUKEwjv0Obw3P_yAhWQDewKHb4UCfcQ0Y8FegQIAhAC&usg=AOvVaw1okpLYRsMhvmkA0eLr6HLl',\n",
       "  '/search?q=yahoo+finance+BTC&ie=UTF-8&tbm=nws&ei=pD5BYe_uHpCbsAe-qaS4Dw&start=10&sa=N',\n",
       "  '/url?q=https://support.google.com/websearch%3Fp%3Dws_settings_location%26hl%3Den&sa=U&ved=0ahUKEwjv0Obw3P_yAhWQDewKHb4UCfcQty4IVQ&usg=AOvVaw3qoTKA4FGcN7kLJ5tlfrOD',\n",
       "  '/url?q=https://accounts.google.com/ServiceLogin%3Fcontinue%3Dhttps://www.google.com/search%253Fq%253Dyahoo%252Bfinance%252BBTC%2526tbm%253Dnws%26hl%3Den&sa=U&ved=0ahUKEwjv0Obw3P_yAhWQDewKHb4UCfcQxs8CCFY&usg=AOvVaw2KWzf5Lub-QgMv_tSQBesM',\n",
       "  'https://www.google.com/preferences?hl=en&fg=1&sa=X&ved=0ahUKEwjv0Obw3P_yAhWQDewKHb4UCfcQ5fUCCFc',\n",
       "  'https://policies.google.com/privacy?hl=en&fg=1',\n",
       "  'https://policies.google.com/terms?hl=en&fg=1']}"
      ]
     },
     "execution_count": 12,
     "metadata": {},
     "output_type": "execute_result"
    }
   ],
   "source": [
    "raw_urls = {ticker:search_for_stock_news_urls(ticker) for ticker in monitored_tickers}\n",
    "raw_urls"
   ]
  },
  {
   "cell_type": "code",
   "execution_count": 13,
   "metadata": {},
   "outputs": [
    {
     "data": {
      "text/plain": [
       "['/?sa=X&ved=0ahUKEwjv0Obw3P_yAhWQDewKHb4UCfcQOwgC',\n",
       " '/?output=search&ie=UTF-8&tbm=nws&sa=X&ved=0ahUKEwjv0Obw3P_yAhWQDewKHb4UCfcQPAgE',\n",
       " '/search?q=yahoo+finance+BTC&tbm=nws&ie=UTF-8&gbv=1&sei=pD5BYe_uHpCbsAe-qaS4Dw',\n",
       " '/search?q=yahoo+finance+BTC&ie=UTF-8&source=lnms&sa=X&ved=0ahUKEwjv0Obw3P_yAhWQDewKHb4UCfcQ_AUIBygA',\n",
       " '/search?q=yahoo+finance+BTC&ie=UTF-8&tbm=shop&source=lnms&sa=X&ved=0ahUKEwjv0Obw3P_yAhWQDewKHb4UCfcQ_AUICSgC',\n",
       " '/search?q=yahoo+finance+BTC&ie=UTF-8&tbm=vid&source=lnms&sa=X&ved=0ahUKEwjv0Obw3P_yAhWQDewKHb4UCfcQ_AUICigD',\n",
       " '/search?q=yahoo+finance+BTC&ie=UTF-8&tbm=isch&source=lnms&sa=X&ved=0ahUKEwjv0Obw3P_yAhWQDewKHb4UCfcQ_AUICygE',\n",
       " 'https://maps.google.com/maps?q=yahoo+finance+BTC&um=1&ie=UTF-8&sa=X&ved=0ahUKEwjv0Obw3P_yAhWQDewKHb4UCfcQ_AUIDCgF',\n",
       " '/search?q=yahoo+finance+BTC&ie=UTF-8&tbm=bks&source=lnms&sa=X&ved=0ahUKEwjv0Obw3P_yAhWQDewKHb4UCfcQ_AUIDSgG',\n",
       " '/advanced_search',\n",
       " '/search?q=yahoo+finance+BTC&ie=UTF-8&tbm=nws&source=lnt&tbs=qdr:h&sa=X&ved=0ahUKEwjv0Obw3P_yAhWQDewKHb4UCfcQpwUIDw',\n",
       " '/search?q=yahoo+finance+BTC&ie=UTF-8&tbm=nws&source=lnt&tbs=qdr:d&sa=X&ved=0ahUKEwjv0Obw3P_yAhWQDewKHb4UCfcQpwUIEA',\n",
       " '/search?q=yahoo+finance+BTC&ie=UTF-8&tbm=nws&source=lnt&tbs=qdr:w&sa=X&ved=0ahUKEwjv0Obw3P_yAhWQDewKHb4UCfcQpwUIEQ',\n",
       " '/search?q=yahoo+finance+BTC&ie=UTF-8&tbm=nws&source=lnt&tbs=qdr:m&sa=X&ved=0ahUKEwjv0Obw3P_yAhWQDewKHb4UCfcQpwUIEg',\n",
       " '/search?q=yahoo+finance+BTC&ie=UTF-8&tbm=nws&source=lnt&tbs=qdr:y&sa=X&ved=0ahUKEwjv0Obw3P_yAhWQDewKHb4UCfcQpwUIEw',\n",
       " '/search?q=yahoo+finance+BTC&ie=UTF-8&tbm=nws&source=lnt&tbs=ar:1&sa=X&ved=0ahUKEwjv0Obw3P_yAhWQDewKHb4UCfcQpwUIFA',\n",
       " '/search?q=yahoo+finance+BTC&ie=UTF-8&tbm=nws&source=lnt&tbs=sbd:1&sa=X&ved=0ahUKEwjv0Obw3P_yAhWQDewKHb4UCfcQpwUIFg',\n",
       " '/url?q=https://finance.yahoo.com/news/fidelity-pushed-bitcoin-etf-approval-230824408.html&sa=U&ved=2ahUKEwjv0Obw3P_yAhWQDewKHb4UCfcQxfQBegQIARAB&usg=AOvVaw0l_jt9ukH9XqK6-HhQoavv',\n",
       " '/url?q=https://finance.yahoo.com/news/fidelity-pushed-bitcoin-etf-approval-230824408.html&sa=U&ved=2ahUKEwjv0Obw3P_yAhWQDewKHb4UCfcQ0Y8FegQIARAC&usg=AOvVaw1PepV25P18r2UsEehWegyW',\n",
       " '/url?q=https://finance.yahoo.com/news/bitcoin-bulls-cathie-wood-says-215220452.html&sa=U&ved=2ahUKEwjv0Obw3P_yAhWQDewKHb4UCfcQxfQBegQICRAB&usg=AOvVaw18afoERS409E3Spd0D8E-I',\n",
       " '/url?q=https://finance.yahoo.com/news/bitcoin-bulls-cathie-wood-says-215220452.html&sa=U&ved=2ahUKEwjv0Obw3P_yAhWQDewKHb4UCfcQ0Y8FegQICRAC&usg=AOvVaw0mYPZTXyyr9Ja0cTzI7dIj',\n",
       " '/url?q=https://finance.yahoo.com/news/beyond-satoshis-bitcoin-next-poster-213032640.html&sa=U&ved=2ahUKEwjv0Obw3P_yAhWQDewKHb4UCfcQxfQBegQICBAB&usg=AOvVaw04LtEbO2fd4Be7ikdY3su3',\n",
       " '/url?q=https://finance.yahoo.com/news/beyond-satoshis-bitcoin-next-poster-213032640.html&sa=U&ved=2ahUKEwjv0Obw3P_yAhWQDewKHb4UCfcQ0Y8FegQICBAC&usg=AOvVaw1PwKXTd1-p6dhy5daFXqoF',\n",
       " '/url?q=https://finance.yahoo.com/news/emerging-crypto-coins-could-ravencoin-194232498.html&sa=U&ved=2ahUKEwjv0Obw3P_yAhWQDewKHb4UCfcQxfQBegQIBxAB&usg=AOvVaw1icYyVrxWA0S6MGR-525F6',\n",
       " '/url?q=https://finance.yahoo.com/news/emerging-crypto-coins-could-ravencoin-194232498.html&sa=U&ved=2ahUKEwjv0Obw3P_yAhWQDewKHb4UCfcQ0Y8FegQIBxAC&usg=AOvVaw1mggNNOGG9b-Cpn5gM3TB1',\n",
       " '/url?q=https://finance.yahoo.com/video/cinema-stocks-jump-china-crowded-182932171.html&sa=U&ved=2ahUKEwjv0Obw3P_yAhWQDewKHb4UCfcQxfQBegQIBhAB&usg=AOvVaw2_duHVQjuMySdeKrCCTKWf',\n",
       " '/url?q=https://finance.yahoo.com/video/cinema-stocks-jump-china-crowded-182932171.html&sa=U&ved=2ahUKEwjv0Obw3P_yAhWQDewKHb4UCfcQ0Y8FegQIBhAC&usg=AOvVaw1PmiuOwRO13-WQKyEzmmEp',\n",
       " '/url?q=https://finance.yahoo.com/amphtml/news/microstrategy-adds-another-5-050-172248283.html&sa=U&ved=2ahUKEwjv0Obw3P_yAhWQDewKHb4UCfcQxfQBegQIBBAB&usg=AOvVaw3KZ9tM31sXZJmtOSaJCmDJ',\n",
       " '/url?q=https://finance.yahoo.com/amphtml/news/microstrategy-adds-another-5-050-172248283.html&sa=U&ved=2ahUKEwjv0Obw3P_yAhWQDewKHb4UCfcQ0Y8FegQIBBAC&usg=AOvVaw3jLLyxG13iALSSwRL6Pfr3',\n",
       " '/url?q=https://finance.yahoo.com/news/litecoin-whipsawed-by-walmart-hoax-exposing-extremely-adversarial-environment-of-crypto-163629770.html&sa=U&ved=2ahUKEwjv0Obw3P_yAhWQDewKHb4UCfcQxfQBegQIABAB&usg=AOvVaw3lLfH39e1PUUGQTTIe-1a6',\n",
       " '/url?q=https://finance.yahoo.com/news/litecoin-whipsawed-by-walmart-hoax-exposing-extremely-adversarial-environment-of-crypto-163629770.html&sa=U&ved=2ahUKEwjv0Obw3P_yAhWQDewKHb4UCfcQ0Y8FegQIABAC&usg=AOvVaw1G-v0VKrbEhqwgdxwC8hWE',\n",
       " '/url?q=https://finance.yahoo.com/news/cryptocurriencies-are-a-durable-asset-class-with-real-upside-black-rock-fixed-income-cio-160259991.html&sa=U&ved=2ahUKEwjv0Obw3P_yAhWQDewKHb4UCfcQxfQBegQIAxAB&usg=AOvVaw2-QSKt2wiHHljl4d4dxURP',\n",
       " '/url?q=https://finance.yahoo.com/news/cryptocurriencies-are-a-durable-asset-class-with-real-upside-black-rock-fixed-income-cio-160259991.html&sa=U&ved=2ahUKEwjv0Obw3P_yAhWQDewKHb4UCfcQ0Y8FegQIAxAC&usg=AOvVaw0HL85CYiKdkUk5OHacH29h',\n",
       " '/url?q=https://finance.yahoo.com/news/this-crypto-looking-to-solve-the-sec-crackdown-is-up-6000-in-2021-135816741.html&sa=U&ved=2ahUKEwjv0Obw3P_yAhWQDewKHb4UCfcQxfQBegQIBRAB&usg=AOvVaw00QxRaMYz1lG52aesKxtfu',\n",
       " '/url?q=https://finance.yahoo.com/news/this-crypto-looking-to-solve-the-sec-crackdown-is-up-6000-in-2021-135816741.html&sa=U&ved=2ahUKEwjv0Obw3P_yAhWQDewKHb4UCfcQ0Y8FegQIBRAC&usg=AOvVaw2ygXaG_Ra9S9VhzNGhrdxs',\n",
       " '/url?q=https://finance.yahoo.com/news/bitcoin-price-prediction-bears-eyeing-133903929.html&sa=U&ved=2ahUKEwjv0Obw3P_yAhWQDewKHb4UCfcQxfQBegQIAhAB&usg=AOvVaw0VdwqgBFTp8IhFkz9No01s',\n",
       " '/url?q=https://finance.yahoo.com/news/bitcoin-price-prediction-bears-eyeing-133903929.html&sa=U&ved=2ahUKEwjv0Obw3P_yAhWQDewKHb4UCfcQ0Y8FegQIAhAC&usg=AOvVaw1okpLYRsMhvmkA0eLr6HLl',\n",
       " '/search?q=yahoo+finance+BTC&ie=UTF-8&tbm=nws&ei=pD5BYe_uHpCbsAe-qaS4Dw&start=10&sa=N',\n",
       " '/url?q=https://support.google.com/websearch%3Fp%3Dws_settings_location%26hl%3Den&sa=U&ved=0ahUKEwjv0Obw3P_yAhWQDewKHb4UCfcQty4IVQ&usg=AOvVaw3qoTKA4FGcN7kLJ5tlfrOD',\n",
       " '/url?q=https://accounts.google.com/ServiceLogin%3Fcontinue%3Dhttps://www.google.com/search%253Fq%253Dyahoo%252Bfinance%252BBTC%2526tbm%253Dnws%26hl%3Den&sa=U&ved=0ahUKEwjv0Obw3P_yAhWQDewKHb4UCfcQxs8CCFY&usg=AOvVaw2KWzf5Lub-QgMv_tSQBesM',\n",
       " 'https://www.google.com/preferences?hl=en&fg=1&sa=X&ved=0ahUKEwjv0Obw3P_yAhWQDewKHb4UCfcQ5fUCCFc',\n",
       " 'https://policies.google.com/privacy?hl=en&fg=1',\n",
       " 'https://policies.google.com/terms?hl=en&fg=1']"
      ]
     },
     "execution_count": 13,
     "metadata": {},
     "output_type": "execute_result"
    }
   ],
   "source": [
    "raw_urls['BTC']"
   ]
  },
  {
   "cell_type": "markdown",
   "metadata": {},
   "source": [
    "## 4.2. Strip out unwanted URLs"
   ]
  },
  {
   "cell_type": "code",
   "execution_count": 14,
   "metadata": {},
   "outputs": [],
   "source": [
    "import re"
   ]
  },
  {
   "cell_type": "code",
   "execution_count": 15,
   "metadata": {},
   "outputs": [],
   "source": [
    "exclude_list = ['maps', 'policies', 'preferences', 'accounts', 'support']"
   ]
  },
  {
   "cell_type": "code",
   "execution_count": 16,
   "metadata": {},
   "outputs": [],
   "source": [
    "def strip_unwanted_urls(urls, exclude_list):\n",
    "    val = []\n",
    "    for url in urls: \n",
    "        if 'https://' in url and not any(exclude_word in url for exclude_word in exclude_list):\n",
    "            res = re.findall(r'(https?://\\S+)', url)[0].split('&')[0]\n",
    "            val.append(res)\n",
    "    return list(set(val))"
   ]
  },
  {
   "cell_type": "code",
   "execution_count": 17,
   "metadata": {},
   "outputs": [
    {
     "data": {
      "text/plain": [
       "{'ADA': ['https://finance.yahoo.com/news/cardano-ada-expected-pullback-came-170945648.html',\n",
       "  'https://finance.yahoo.com/news/cardano-smart-contracts-hit-public-103919542.html',\n",
       "  'https://finance.yahoo.com/news/bitcoin-price-cryptocurrencies-sweden-trading-stamps-ethereum-100929220.html',\n",
       "  'https://finance.yahoo.com/news/cryptocurriencies-are-a-durable-asset-class-with-real-upside-black-rock-fixed-income-cio-160259991.html',\n",
       "  'https://finance.yahoo.com/news/greed-one-first-launch-cardano-180100414.html',\n",
       "  'https://finance.yahoo.com/news/undaunted-by-bitcoin-flash-crash-true-believers-say-its-the-greatest-time-to-get-into-crypto-214309569.html',\n",
       "  'https://finance.yahoo.com/news/cardano-ada-expect-pullback-another-192023603.html',\n",
       "  'https://finance.yahoo.com/news/what-augusts-record-breaking-month-for-crypto-flows-means-for-bitcoin-163906276.html',\n",
       "  'https://finance.yahoo.com/news/cardano-hits-3-mark-first-155147241.html',\n",
       "  'https://finance.yahoo.com/news/ada-down-7-today-despite-115931217.html'],\n",
       " 'ETH': ['https://finance.yahoo.com/news/ethereum-layer-2-tvl-breaks-113845277.html',\n",
       "  'https://finance.yahoo.com/news/bitcoin-ethereum-weekly-technical-analysis-015342376.html',\n",
       "  'https://finance.yahoo.com/news/nfts-defi-boost-ethereum-dims-154222433.html',\n",
       "  'https://finance.yahoo.com/news/bitcoin-price-cryptocurrencies-sweden-trading-stamps-ethereum-100929220.html',\n",
       "  'https://finance.yahoo.com/news/crypto-analyst-who-called-ethereums-climb-to-3400-reiterates-a-10000-call-195159080.html',\n",
       "  'https://finance.yahoo.com/news/why-bitcoin-related-ethereum-related-151329728.html',\n",
       "  'https://finance.yahoo.com/news/ethereum-litecoin-ripple-xrp-daily-001720248.html',\n",
       "  'https://finance.yahoo.com/news/had-5-000-now-put-182159163.html',\n",
       "  'https://finance.yahoo.com/news/what-augusts-record-breaking-month-for-crypto-flows-means-for-bitcoin-163906276.html',\n",
       "  'https://finance.yahoo.com/video/ethereum-hits-highest-levels-since-201441481.html'],\n",
       " 'BTC': ['https://finance.yahoo.com/news/emerging-crypto-coins-could-ravencoin-194232498.html',\n",
       "  'https://finance.yahoo.com/news/beyond-satoshis-bitcoin-next-poster-213032640.html',\n",
       "  'https://finance.yahoo.com/amphtml/news/microstrategy-adds-another-5-050-172248283.html',\n",
       "  'https://finance.yahoo.com/news/cryptocurriencies-are-a-durable-asset-class-with-real-upside-black-rock-fixed-income-cio-160259991.html',\n",
       "  'https://finance.yahoo.com/news/litecoin-whipsawed-by-walmart-hoax-exposing-extremely-adversarial-environment-of-crypto-163629770.html',\n",
       "  'https://finance.yahoo.com/news/bitcoin-price-prediction-bears-eyeing-133903929.html',\n",
       "  'https://finance.yahoo.com/video/cinema-stocks-jump-china-crowded-182932171.html',\n",
       "  'https://finance.yahoo.com/news/this-crypto-looking-to-solve-the-sec-crackdown-is-up-6000-in-2021-135816741.html',\n",
       "  'https://finance.yahoo.com/news/fidelity-pushed-bitcoin-etf-approval-230824408.html',\n",
       "  'https://finance.yahoo.com/news/bitcoin-bulls-cathie-wood-says-215220452.html']}"
      ]
     },
     "execution_count": 17,
     "metadata": {},
     "output_type": "execute_result"
    }
   ],
   "source": [
    "cleaned_urls = {ticker:strip_unwanted_urls(raw_urls[ticker], exclude_list) for ticker in monitored_tickers}\n",
    "cleaned_urls"
   ]
  },
  {
   "cell_type": "markdown",
   "metadata": {},
   "source": [
    "## 4.3. Search and Scrape Cleaned URLs"
   ]
  },
  {
   "cell_type": "code",
   "execution_count": 18,
   "metadata": {},
   "outputs": [],
   "source": [
    "def scrape_and_process(URLs):\n",
    "    ARTICLES = []\n",
    "    for url in URLs: \n",
    "        r = requests.get(url)\n",
    "        soup = BeautifulSoup(r.text, 'html.parser')\n",
    "        paragraphs = soup.find_all('p')\n",
    "        text = [paragraph.text for paragraph in paragraphs]\n",
    "        words = ' '.join(text).split(' ')[:350]\n",
    "        ARTICLE = ' '.join(words)\n",
    "        ARTICLES.append(ARTICLE)\n",
    "    return ARTICLES"
   ]
  },
  {
   "cell_type": "code",
   "execution_count": 19,
   "metadata": {},
   "outputs": [
    {
     "data": {
      "text/plain": [
       "{'ADA': ['A week and a half ago, see here, I preferred for Cardano (ADA) “… wave-b is now underway, which can target as high as $2.97-3.17 for what would then become an “irregular flat,” before (green) wave-c of (red) wave-iv brings the price back down to the ideal target zone of $2.50-2.20 once again.” Bingo. In the meantime, I had told my premium crypto trading members that a break below $2.70 would be bearish. Thus, using the Elliott Wave Principle (EWP) combined with Technical Analyses (TA), my preferred view was the correct one, and now I can look at the new pieces of the never-ending puzzle. Figure 1. ETH daily chart with EWP count and technical indicators. My preferred view of a larger, more complex, i.e., irregular flat 4th wave, remains, but with the drop to $2.04, I must acknowledge the possibility of another option. See Figure 1 above. I’ll get to that in a minute. As long as this week’s low holds, ADA can build on its (red) 5th wave to ideally $3.50 +/- 0.25. See Figure 1A. Namely, so far, ADA has, over the last two days, closed daily inside the ideal (red) wave-iv target zone ($2.22-2.51), at $2.51 and $2.47, respectively, and is now trying to move back above it. Closing prices are most important and thus, so far so good. The 2nd option, shown in Figure 1B, is based on where the new uptrend started. The preferred case has the June low because the July low was a higher high (red wave-i, ii), but it is the July low in the new alternate case. The new possibility suggests the recent rally was only a 1st wave (Red wave-i in figure 1B), and Cardano is now working on (red) intermediate wave-ii. With Tuesday’s low, it follows that ADA had already retraced almost enough to get to the ideal wave-ii target zone ($2.04 vs. $1.99). Thus this option has merit and must be considered going forward. It does mean, bigger picture-wise, the 3rd wave to ideally $5.00-5.25 should soon start. Given Cardano (ADA) has essentially done as forecasted over',\n",
       "  'Thank you for your patience. Our engineers are working quickly to resolve the issue.',\n",
       "  ' Cryptocurrencies were broadly down on Friday as Sweden’s central bank governor said bitcoin could eventually collapse. Bitcoin (BTC-USD) was down roughly 1%, to trade at $45,918 (£33,090) while Ethereum (ETH-USD) tumbled 4.5% to trade at $3,373. Bitcoin, hit by regulatory crackdowns and concerns over the environmental impact of mining it, had fallen below $50,000, after reaching all-time highs of $63,000 in April. It managed to claw its way past the $50,000 mark earlier this week but has since tumbled again. This was despite the fact that Twitter and Reddit users tried to push up the price on ‘bitcoin day’ to celebrate El Salvador\\'s acceptance of the crypto as legal tender. The rollout was fraught with issues including protests from citizens and tech glitches. Bitcoin\\'s woes come as Riksbank Governor Stefan Ingves was reported by Bloomberg as saying: “Private money usually collapses sooner or later. And sure, you can get rich by trading in bitcoin, but it’s comparable to trading in stamps.\" “Investors are cautious about the current fluctuations in bitcoin and ethereum, especially as these benchmarks failed to trim earlier losses, which is usually considered a sign of weakness in the crypto market,” Wael Makarem, senior market strategist at trading broker Exness told Yahoo Finance UK. “On the other hand, the headlines from EU regulators coming closer to implementing new regulations for cryptocurrencies, new anti-money laundering rules and tax reporting requirements adds downside pressure. Investors are afraid of tough rules and regulations that could limit the adoption or use of crypto,” he added. On Thursday, the European Central Bank said it will slow the average pace of asset purchases but will keep the overall size of its quantitative easing program intact. Some analysts say cryptocurrencies have benefited from the liquidity-boosting programmes launched by global central banks. Read more: European markets rise as UK economy recovery slows Meanwhile, one expert has said the price of cardano (ADA-USD), the third biggest cryptocurrency behind bitcoin and ethereum, will beat its all-time highs by the end of the year, reaching $4 by the end of 2021.\\xa0 \"Its price has increased by around 1668%',\n",
       "  ' Count Rick Rieder, BlackRock\\'s chief investment officer of global fixed income, as a believer in cryptocurrencies.\\xa0 \"I think it could have some real upside. My sense is there are more buyers than sellers. It\\'s an asset class that I think is durable,\" Rieder said on Yahoo Finance Live.\\xa0 Rieder revealed he owns \"small pieces\" of crypto in several of his bigger portfolios, and compares the positions to owning stakes in venture capital firms.\\xa0 \"Quite frankly, I am glad I do [own crypto]. This has helped me learn about the evolution of what I think will be a blockchain technology that will continue to grow. So it\\'s something I am glad I got involved with,\" Rieder added. It\\'s safe to say not everyone in the financial services field is upbeat on crypto.\\xa0 Paulson & Co. founder John Paulson— who shot to fame during the financial crisis for raking in billions for his hedge fund by betting against subprime mortgages — recently told Bloomberg crypto will \"eventually prove to be worthless.\" “I wouldn’t recommend anyone invest in cryptocurrencies,\" said Paulson, who turned his hedge fund into a family office in 2020 amid a steady drumbeat of outflows, in the interview. The supremely bearish take comes as several well-known cryptos (such as bitcoin) have rallied hard off the lows seen earlier in the year. Meanwhile, an up and coming crypto like cardano has seen a steady surge this year — through Monday, the asset is up more than 1,300%. \"What we think he [John Paulson] is missing is that bitcoin is much more than just a store of value or digital gold. Bitcoin in particular is a new global monetary system. It\\'s a rules-based monetary policy, which is completely de-centralized and therefore is not subject to the whims of policymakers. In fact, it\\'s a hedge against the whims of policymakers, especially in emerging markets,\" Ark Invest founder Cathie Wood told Yahoo Finance Live. Brian Sozzi is an editor-at-large and anchor at Yahoo Finance. Follow Sozzi on Twitter @BrianSozzi and on LinkedIn. Read the latest financial and business news from Yahoo Finance Follow',\n",
       "  \"The Greed Token is the first crypto music label with Grammy Award Winning producers, Cool & Dre and is set to launch as one of the Cardano blockchain's first tokens. Miami, FL, Sept. 10, 2021 (GLOBE NEWSWIRE) -- Greed Token: $GREED is launching on the Cardano blockchain within days of Cardano releasing their long awaited smart contracts. The Greed Token is developing a whole crypto ecosystem being built around by Greed Music. Grammy Award winning producers and song writers Cool & Dre have teamed up with the Crypto Developer, Peter Parente aka Captain Awesome to create the first crypto music label. The Greed Ecosystem will also be showcasing it’s Metaverse project in Decentraland where you will need NFT private keys to see live streaming in the recording studio of your favorite recording artists working on their projects and their concerts. The Greed NFT Marketplace will support the NFT VIP access keys, Metaverse drivables, wearables, games as well as traditional NFT collectibles and NFT music. The rest of the Ecosystem consist of Farms, Pools and a Swap which will support the tokens, the holders and other coins who would want to join the Greed ecosystem. The Greed Token is a rewards token redistributing the native coin Cardano, $ADA back to holders, has a buy back feature to support the price and anti-bot/anti-whale protection. The Greed Token is not the first token in the ecosystem to launch because his pup Baby Doge Inu : $BabyDogeInu was launched on July 9th 2021 as a community token and considered the HODL token in the ecosystem being rewarded in its own token. Baby Doge Inu is deemed the Crypto Love Chile of DOGE & SHIBA INU. Greed was set to launch to give his pup utility by providing the VIP Metaverse access, drivables wearables and an NFT game. The is also a buyback feature from greed to support Baby Doge Inu and reward those tokens to GREED holders. For more information, press only: Peter Parente info@greedtoken.com For more information: Website: www.greedtoken.com Content Disclaimer:  DISCLAIMER of Liability. IN NO EVENT SHALL OUR PR COMPANY BE\",\n",
       "  ' This week\\'s \"flash crash\" that dragged bitcoin (BTC-USD) back below $50,000 — and sent other digital coins reeling in its wake — marred what should have been the momentous occasion of the first sovereign country on earth adopting a cryptocurrency as legal tender.\\xa0 Despite the ugly price action, most of crypto\\'s true believers are still just that — even as some observers question bitcoin\\'s head-spinning volatility, and El Salvador\\'s decision to throw its weight behind it.\\xa0 Michael Sonnenshein, CEO of Grayscale Investments, the world\\'s largest cryptocurrency fund manager by assets, who told Yahoo Finance Live this week that other countries are likely to join El Salvador in the race to make crypto legal tender. And Matt Hougan, CIO of Bitwise, also told Yahoo Finance Live that “it’s the greatest time, I think, to enter the crypto market. A lot of the first decade of crypto was about zero to one. … Now the question is how fast we scale from one to 100. A lot of that is built on what regulatory clarity we get.” To be sure, it\\'s been a rocky week for digital currencies like bitcoin — which traded above $52,000 on Monday but hovered near $45,000 on Friday — as well as ethereum (ETH-USD) and Cardano (ADA-USD). However, from peak to trough, the latter two didn\\'t lose nearly as much as bitcoin, which suffered offshore outflows upwards of $3 billion during Tuesday\\'s selloff, according to one investor. On the other hand, the price of cryptocurrency (SOL1-USD), which power the Solana blockchain, is already above its pre-flash crash highs, trading above $175 on Friday.\\xa0 In an interview with Yahoo Finance, Jeff Sekinger, a financial guru, founder of the Miami-based crypto hedge fund Orca Capital, said he believes overall crypto market will likely see a lot of growth through the end of this year, despite this week\\'s rout. Like the week of Coinbase’s initial public offering, this week began with another major market event — El Salvador’s new Bitcoin Law, which was expected to be a boon to the industry. Sekinger has witnessed his share of crypto market',\n",
       "  'Last week, in my first update on Cardano (ADA), I was looking for the cryptocurrency to top out soon and fall back “to ideally $2.25-2.55 before the next rally to ideally $3.25-3.75. From there, I then expect an even more significant correction”. Fast forward, and ADA topped that same day and reached $2.47 and $2.50 three and four days later, respectively, and rallied back to the $2.95. Thus, the Elliott Wave Principle (EWP) combined with Technical Analyses (TA) was indeed a reliable and accurate method to forecast the recent highs and lows. The question now is, if the correction is already over? Figure 1. ETH daily chart with EWP count and technical indicators. Last week I showed that “thanks to the EWP, we know with certainty that after wave 3 comes a 4th and 5th wave.” In this case (red) intermediate waves-iii, iv, and v. See Figure 1 above. Last week’s drop to the 23.60% retrace of wave-iii is technically enough for a 4th wave correction. Corrections always comprise of at least three waves (a, b, c), and 4th wave corrections often become -in EWP-terms- flat corrections, triangles, or any combination thereof. See here. Thus the question is if last week’s $2.47 low was all off (red) wave-iv or only (green) wave-a of wave-iv? See Figure 1 above. At his stage, I cannot tell with certainty which of the two options it is but based on the EWP knowledge that 4th wave corrections are often rather complex and longer-lasting, I prefer the latter option. In that case, wave-b is now underway, which can target as high as $2.97-3.17 for what would then become an “irregular flat,” before (green) wave-c of (red) wave-iv brings the price back down to the ideal target zone of $2.50-2.20 once again. Alternatively, ADA will have to rally above $3.17 to tell me wave-iv is complete because, above that price level, the b-wave of an irregular flat would be too long, according to the EWP guidelines. In that case, I will look for ADA to possibly reach as high as $4.50+/-0.25. But it will mean last',\n",
       "  \" Over the past month, the crypto market has looked like a rising tide for all coins from Bitcoin to Cardano — but data suggest growth across the asset class hasn’t been equal. Last week, Bitcoin (BTC-USD) breached $50,000 for the second time in two weeks, extending a rally that put a grim sell-off that started in May further in the rear-view mirror. While notable for its volatility, gains in the largest cryptocurrency may have gotten lost in the swell of rising prices across the entire asset class. With a majority of decentralized finance and non-fungible token (NFT) trading happening on the Ethereum (ETH-USD) blockchain, the second largest cryptocurrency by market capitalization rose by a third from $2,700 to $3,900, a growth rate 17% higher than BTC. And other blockchain-based currencies such as the third highest valued cryptocurrency, Cardano (ADA-USD) has more than doubled while a newer one, Solana (SOL-USD), has more than tripled in value over the past month. ADA and SOL have continued to notch almost daily all time highs for the past two weeks. In fact, new data released on Tuesday from MejoresApuestas.com showed Solana, Dogecoin and Cardano were the fastest-growing cryptos this year. All three posted four-digit increases to their market capitalization, with Solana's surging by 8,616%, and Dogecoin (DOGE-USD) and Cardano following with a 4,351% and 1,499% jump, respectively. Bitcoin IRA, an investment platform that helps retail investors gain crypto exposure in their retirement accounts, saw “record-breaking inflows” of new accounts over the previous month. “We broke our record in the first quarter right before Bitcoin ran from $45,000 to $65,000,” the company’s Chief Operating Officer, Chris Kline told Yahoo Finance. “We’re seeing the same pattern happen again. So this past month [August] felt a lot like April, but about twice as big.” Currently, Bitcoin IRA has close to 120,000 client accounts, with approximately $2 billion in assets on the platform. Although the platform's heft doesn’t move the market, the swell of retail investors opening new accounts — especially for tax-advantaged IRA accounts — is an indicator of how curious investors are as they seek\",\n",
       "  'The cryptocurrency market has resumed its rally, and some analysts are calling the next phase a super bull cycle. Cardano (ADA) has been one of the best performing cryptos in the market. The coin has surpassed Binance Coin (BNB) to become the third-largest cryptocurrency by market cap. However, ADA might surge higher after setting a new all-time high at $3 earlier today. The general cryptocurrency market resumed its rally today after underperforming since the start of the week. Bitcoin was finally able to touch the $50k level again after struggling for the past few days. Ether has also successfully cemented its price above the $3,500, with the Ethereum native coin currently trading at $3,775 per coin. Cardano continues to set the trend in the market, reaching a new all-time high of $3 earlier today. Cardano’s rally coincides with the launch of its Alonzo testnet as the network prepares for a mainnet launch later this month. The Alonzo upgrade is expected to usher in numerous changes to the Cardano blockchain, including the introduction of smart contract features. With the availability of smart contracts, the Cardano blockchain can host a wide range of decentralized finance (DeFi) protocols and NFTs. DeFi and nonfungible tokens are some of the hottest fields in the crypto space, and they are gaining massive adoption globally. Hence, the possibility of NFTs and DeFi coming to the Cardano blockchain is enough to cause a rally. Cardano’s price is up by over 4% in the past 24 hours, and ADA is trading around the $3 mark. The crypto market has been in a bullish trend over the past year despite the slight correction experienced over the summer. Despite the impressive performance displayed by the broader cryptocurrency market, some analysts believe that we are set to enter a Super Bull Cycle. This cycle could see the prices of most cryptocurrencies double or triple over the next few months. Michaël van de Poppe is confident that the prices of cryptocurrencies could continue to rally over the coming months. This article was originally posted on FX Empire EUR/USD Mid-Session Technical Analysis for Septemer',\n",
       "  'The price of Cardano (ADA) is down by more than 7% today despite the blockchain launching smart contract features a few days ago. Cardano (ADA) has been one of the top-performing cryptocurrencies in the world in recent months. The blockchain has undergone various developments over the past few months, and it has added another achievement to its belt. According to the Cardano development team, the Alonzo hard fork was completed over the weekend, introducing Plutus-powered smart contract scripts to the blockchain. This implies that Cardano is the latest blockchain to integrate smart contract features into its network. In a blog post on Saturday, IOHK, the development team behind Cardano, said, “The Alonzo upgrade will bring highly anticipated capabilities to Cardano through the integration of Plutus scripts onto the blockchain. These will allow the implementation of smart contracts on Cardano, enabling a host of new use cases for decentralized applications (DApps) for the very first time.” The development team is anticipating further upgrades to the Cardano blockchain in the coming months and years. The Alonzo upgrade makes it possible for users to write smart contracts on the Cardano network using Plutus scripts. According to the team, Plutus scripts is a purpose-built smart contract development language. It is also an execution platform that leverages the functional programming language Haskell. The cryptocurrency market has been caught in a bearish trend for the past week, and it has continued on the first day of a new week. The prices of most cryptocurrencies have been down by more than 3% over the past 24 hours. ADA, the native cryptocurrency of the Cardano network, has been down by more than 7% in the past 24 hours. The cryptocurrency’s price is down despite the developers launching smart contract features on the network. ADA is currently trading at $2.40 per coin, down by 7.6% in the past 24 hours. Year-to-date, ADA’s performance has been exceptional. The cryptocurrency has been up by more than 1000% since the start of the year. ADA was trading at $0.177 at the start of the year, but it is now trading at $2.40'],\n",
       " 'ETH': [' The total value locked (TVL) on Ethereum Layer-2 solutions has breached the $3bn barrier as DeFi ‘degens’ and Ethereum enthusiasts seek lower gas fees and lucrative DeFi opportunities. According to data from L2Beat – an L2 comparison platform – the total TVL on Layer-2 solutions now stands at more than $3bn, with Arbitrum contributing to $2.2bn – almost 75% – of the total TVL. Data also shows that the daily transaction volume was about 267k yesterday – a growth rate of over 250%. Most of the capital was deposited to the Arbitrum mainnet via the Arbitrum bridge over the previous weekend, with the TVL jumping a considerable amount from $980m on Friday to more than $3bn today. Arbitrum has seen an incredible surge in deposits on its bridge, which allows users to deposit Ethereum via Metamask to the Arbitrum mainnet. Data from Dune analytics shows that the TVL of the Arbitrum bridge has now ported close to $2.2bn in assets and has recorded a seven-day change of 2,457% Users can deposit funds from Layer-1 to Layer-2 solutions via ‘bridges’, which simply connect assets like ETH, WBTC or stablecoins to the solutions mainnet. Currently, the funds cannot be bridged back until seven days later. Additional data shows that across all bridge deposits made, ETH and WETH have contributed to 37% of the value ported over, equalling an estimated $2.6bn. Being an Ethereum Layer-2 solution, and with most projects using ETH as the major currency for determining yields and swaps, it’s estimated that a vast majority of assets bridged via Arbitrum have been ETH or WETH. Much of the TVL on Arbitrum appears to be secured via ArbiNYAN, a yield farming platform that is currently providing DeFi degens with extremely high yields and farming opportunities. Based on data from DefiLlama, ArbiNYAN secures more than $1.4bn in ETH and its native token NYAN, which equals almost 50% of all TVL on Arbitrum. Additional data from DeFiLlama shows that ArbiNYAN dominance sits at a staggering 88% and remains the leading project on Arbitrum. Surprisingly, the TVL of ArbiNYAN far eclipses that of the',\n",
       "  ' Bitcoin, BTC to USD, slid by 11.09% in the week ending 12th September. Reversing a 6.10% gain from the previous week, Bitcoin ended the week at $46,038.9. A bullish start to the week saw Bitcoin rise to a Tuesday intraweek high $52,888.0 before hitting reverse. Falling short of the first major resistance level at $53,590, Bitcoin slid to a Tuesday intraweek low $43,220.0. The sell-off saw Bitcoin fall through the first major support level at $48,280 and the second major support level at $44,780. Bitcoin also fell through the 23.6% FIB of $50,473. Steering clear of the 38.2% FIB of $41,592, however, Bitcoin broke back through major support levels to revisit $47,000 levels before easing back. The pullback saw Bitcoin fall back through the first major support level to end the week at $46,000 levels. 3 days in the red that included an 11.06% tumble on Tuesday delivered the downside for the week. Bitcoin would need to move through the $47,382 pivot to support a run the 23.6% FIB of $50,473 and the first major resistance level at $51,545. Support from the broader market would be needed for Bitcoin to break back through to $50,000 levels. Barring an extended crypto rally, the first major resistance level would likely cap any upside. In the event of an extended breakout, Bitcoin could test resistance at $55,000 before any pullback. The second major resistance level sits at $57,050. Bitcoin would need plenty of support, however, to breakout from last week’s high $52,888.0. Failure to move through the $47,382 pivot would bring the first major support level at $41,877 and the 38.2% FIB of $40,592 into play. Barring an extended sell-off, Bitcoin should steer clear of the second major support level at $37,714. At the time of writing, Bitcoin was down by 1.62% to $45,295.0. A mixed start to the week saw Bitcoin rise to an early Monday morning high $46,269.0 before falling to a low $45,211.0. Bitcoin left the major support and resistance levels untested early on. Ethereum slid by 13.87% in the week ending 13th September. Partially reversing 22.49% breakout from',\n",
       "  ' (Bloomberg) -- Surging demand for NFTs and DeFi apps is allowing backers of Ethereum to dampen the cacophony of Bitcoin maximalists who have long claimed that only the original cryptocurrency matters. Ether, the native token of the most-used blockchain, jumped 36% in August, more than double the 13% return for holders of the biggest digital asset by market value during the same period. So far this year, Ether is outperforming Bitcoin by the widest margin going back to at least 2018, Bloomberg data show. The Ethereum “community has taken up that mantle to a much louder degree and that sort of blockchain development is really having a bullish moment in crypto right now,” said Stephane Ouellette, chief executive and co-founder of FRNT Financial. Many analysts had projected that Ether would rally following a major software upgrade to the Ethereum blockchain in August. The enhancement, code-named London, trims the pace at which the supply of Ether tokens grows. Ahead of the upgrade, many investors argued the reduction of the coin’s supply could result in higher prices due to increased scarcity. Others also said the supply could drop further once Ethereum moves to a different mechanism of verifying transactions, something that could happen in the first quarter of next year. This new verification system will use computers supporting the Ethereum network to stake Ether coins instead of miners in most cases. “The innovation at play in the smart-contract arena had been defeating maximalist mantras for quite some time,” said Mati Greenspan, founder and CEO of Quantum Economics. Still, because a lot of the advancements -- particularly in DeFi and NFTs --are so new, it’s difficult to say exactly how much more growth there will be or what other new sectors might arise, he said. The case for Ether surpassing Bitcoin has been been a constant theme in crypto since the alternative blockchain was created. Bitcoin maximalists maintain that it remains the purest form of digital money and point out that the original cryptocurrency has a market value of about $900 billion, or more than double that of Ether. August marked Ether’s',\n",
       "  ' Cryptocurrencies were broadly down on Friday as Sweden’s central bank governor said bitcoin could eventually collapse. Bitcoin (BTC-USD) was down roughly 1%, to trade at $45,918 (£33,090) while Ethereum (ETH-USD) tumbled 4.5% to trade at $3,373. Bitcoin, hit by regulatory crackdowns and concerns over the environmental impact of mining it, had fallen below $50,000, after reaching all-time highs of $63,000 in April. It managed to claw its way past the $50,000 mark earlier this week but has since tumbled again. This was despite the fact that Twitter and Reddit users tried to push up the price on ‘bitcoin day’ to celebrate El Salvador\\'s acceptance of the crypto as legal tender. The rollout was fraught with issues including protests from citizens and tech glitches. Bitcoin\\'s woes come as Riksbank Governor Stefan Ingves was reported by Bloomberg as saying: “Private money usually collapses sooner or later. And sure, you can get rich by trading in bitcoin, but it’s comparable to trading in stamps.\" “Investors are cautious about the current fluctuations in bitcoin and ethereum, especially as these benchmarks failed to trim earlier losses, which is usually considered a sign of weakness in the crypto market,” Wael Makarem, senior market strategist at trading broker Exness told Yahoo Finance UK. “On the other hand, the headlines from EU regulators coming closer to implementing new regulations for cryptocurrencies, new anti-money laundering rules and tax reporting requirements adds downside pressure. Investors are afraid of tough rules and regulations that could limit the adoption or use of crypto,” he added. On Thursday, the European Central Bank said it will slow the average pace of asset purchases but will keep the overall size of its quantitative easing program intact. Some analysts say cryptocurrencies have benefited from the liquidity-boosting programmes launched by global central banks. Read more: European markets rise as UK economy recovery slows Meanwhile, one expert has said the price of cardano (ADA-USD), the third biggest cryptocurrency behind bitcoin and ethereum, will beat its all-time highs by the end of the year, reaching $4 by the end of 2021.\\xa0 \"Its price has increased by around 1668%',\n",
       "  'Despite pulling back a bit from its all-time high earlier this year, ethereum (ETH-USD) still has a shot to hit $10,000 by year\\'s end, according to one analyst who has been right so far this year.\\xa0 Magnetic Managing Director Megan Kaspar, who called ether\\'s tripling to top $3,000 back when it was still closer to $1,000 in January, told Yahoo Finance Friday that the second-largest cryptocurrency by market cap could still hit her $8,000 to $10,000 price target in 2021. \"Investors are still using crypto as a favorite tool to hedge against inflation,\" she said, adding that two new upgrades are likely to catapult the ethereum network when completed. Those proposals will initiate the \"burn\" or elimination of the fractions of ether that had previously been paid to miners in transactions.\\xa0 \"Towards the end of the year, beginning of next year, we\\'ll have about a million worth of ethereum coming out of supply. So that will initiate it becoming a deflationary asset,\" Kaspar said. At the same time, non-fungible tokens, or NFTs, transacting on the ethereum network have been attracting a lot more attention lately. This week, the cartoon image of a rock, offered through the EtherRock NFT collection, was sold for more than $1.7 million. Overall, monthly NFT sales hit a record high near $900 million during August, according to industry tracker NonFungible.\\xa0 That spike in attention is continuing to bring people into ethereum, since many of the NFT sales on sites like OpenSea and others price NFT auctions in ether. \"I think we\\'ll continue to see this as the younger generation feels comfortable buying and owning assets that are not physical, and that, again, is sort of the tech trend that we\\'re moving towards in dematerialization,\" Kaspar said. Zack Guzman is an anchor for Yahoo Finance Live as well as a senior writer covering crypto, cannabis, startups, and breaking news at Yahoo Finance. Follow him on Twitter @zGuz. Read the latest cryptocurrency and bitcoin news from Yahoo Finance Read the latest financial and business news from Yahoo Finance Follow Yahoo Finance on Twitter, Facebook, Instagram, Flipboard, SmartNews, LinkedIn,',\n",
       "  \" Shares of crypto-related stocks, including Marathon Digital Holdings Inc (NASDAQ: MARA), Riot Blockchain Inc (NASDAQ: RIOT) and Bit Digital, Inc. (NASDAQ: BTBT) are trading higher amid an increase in the price of Bitcoin (CRYPTO: BTC) and Ethereum (CRYPTO: ETH). Bitcoin is trading 2% higher at around $46,791.80 on Thursday. Ethereum is trading 3.6% higher at around $3,509\\xa0on Thursday. Marathon Digital shares are also trading higher after the company announced DMG Blockchain will join Marathon's mining pool, MaraPool. Marathon Digital focuses on mining digital assets. It owns crypto-currency mining machines and a data center to mine digital assets. The company operates in the digital currency blockchain segment and its cryptocurrency machines are located in Canada. Marathon Digital is trading higher by 6.8% at $39.82 per share. Riot Blockchain is focused on building, supporting and operating blockchain technologies. The company's portfolio consists of Verady, Tesspay, Coinsquare and others. Riot Blockchain is trading higher by 4.2% at $31.65 per share. Bit Digital, Inc. engages in the bitcoin mining business. The company was formerly known as Golden Bull Limited and changed its name to Bit Digital, Inc. in September 2020. Bit Digital is trading higher by 2.7% at $11.38 per share. See more from Benzinga Click here for options trades from Benzinga Why Bitcoin-Related And Ethereum-Related Stocks Are Moving Today Why Bitcoin-Related And Ethereum-Related Stocks Are Moving Today © 2021 Benzinga.com. Benzinga does not provide investment advice. All rights reserved. Related Quotes Stop sinking your money into mediocre companies. All of these stocks are more than 40% below their peaks, but at least one important investor thinks they can recover. In this article, we discuss the 10 fintech stocks Redditors are buying. If you want to skip our detailed analysis of these stocks, go directly to the 5 Fintech Stocks Redditors are Buying. Financial technology companies have outperformed the wider banking sector in the past few years, registering growth numbers that have left even market […] In this article, we discuss the 10 stocks that benefit from global chip shortage. If you want to skip our detailed analysis of these stocks, go directly\",\n",
       "  ' Ethereum fell by 3.46% on Monday. Partially reversing a 4.19% gain from Sunday, Ethereum ended the day at $3,286.20. A mixed start to the day saw Ethereum rise to an early morning intraday high $3,430.00 before hitting reverse. Falling short of the first major resistance level at $3,507, Ethereum slid to an early afternoon intraday low $3,111.14. Ethereum fell through the first major support level at $3,266 and the second major support level at $3,128. Ethereum also fell through the 23.6% FIB of $3,369. Finding late support, however Ethereum broke back through the major support levels to end the day at $3,280 levels. At the time of writing, Ethereum was down by 0.38% to $3,273.71. A mixed start to the day saw Ethereum rise to an early morning high $3,288.87 before falling to a low $3,273.48. Ethereum left the major support and resistance levels untested early on. Ethereum would need to move back through the $3,276 pivot to bring the first major resistance level at $3,440 into play. Support from the broader market would be needed, however, for Ethereum to break out from the 23.6% FIB of $3,369. Barring an extended crypto rally, the first major resistance level and Monday’s high $3,430.00 would likely cap the upside. In the event of a broad-based crypto rally, Ethereum could test resistance at $3,700 before any pullback. The second major resistance level sits at $3,595. Failure to move back through the $3,276 pivot would bring the first major support level at $3,122 into play. Barring an extended sell-off, however, Ethereum should steer clear of sub-$3,000 levels. The second major support level sits at $2,957. First Major Support Level: $3,122 Pivot Level: $3,276 First Major Resistance Level: $3,440 23.6% FIB Retracement Level: $3,369 38.2% FIB Retracement Level: $2,740 62% FIB Retracement Level: $1,725 Litecoin fell by 1.99% on Monday. Following a 2.45% decline on Sunday, Litecoin ended the day at $179.36. A bearish start to the day saw Litecoin fall to an early morning intraday low $170.82 before making a move. Litecoin fell through the 23.6% FIB of $178 and the first major',\n",
       "  \"Every week, Benzinga conducts a survey to collect sentiment on what traders are most excited about, interested in or thinking about as they manage and build their personal portfolios. This week we posed the following question to over 1,000 Benzinga visitors on cryptocurrency investing: If you had $5,000 to invest, would you put it on Solana, Ethereum (CRYPTO: ETH) or Dogecoin (CRYPTO: DOGE) right now? Solana: 21.7% Ethereum: 42.8% Dogecoin: 35.5% See Also: How To Buy Solana Ethereum was trading around $3,420 at press time. Ethereum is trading lower over the past week by 12.2% and higher over the past month by 45.3%. Meanwhile, Dogecoin is trading around $0.244. The joke cryptocurrency’s price action continues to turn heads and churn stomachs in 2021. On September 2 the Shibu-Inu themed alt-coin broke up from a descending trendline that had been holding it down since its Aug. 16 high of 35 cents and soared up almost 10% higher. Technically speaking the break of the trend should have carried the crypto higher... Read More Lastly, Solana has skyrocketed from $43.59 to $177.80, translating to a 307.8% return. Like Ethereum, Solana uses smart contracts to host decentralized applications (dApps). However, Solana’s unique parameters allow for significantly cheaper transaction costs while simultaneously increasing the speed of the network... Read More This survey was conducted by Benzinga in September 2021 and included the responses of a diverse population of adults 18 or older. Opting into the survey was completely voluntary, with no incentives offered to potential respondents. The study reflects results from over 1,000 adults. See more from Benzinga Click here for options trades from Benzinga This Vaccine Stock's 3-Month Return Makes Bitcoin, Ethereum And Dogecoin Look Trifling Disney And Apple Lead The Dow Jones © 2021 Benzinga.com. Benzinga does not provide investment advice. All rights reserved. Following last week’s pullback, failure to move through the week’s pivot levels would leave the majors under pressure once more… As two-thirds of South Korea’s cryptocurrency exchanges brace for closure due to regulatory overhaul, investors could lose up to KRW 3 trillion ($2.6 billion). Top news and what to\",\n",
       "  \" Over the past month, the crypto market has looked like a rising tide for all coins from Bitcoin to Cardano — but data suggest growth across the asset class hasn’t been equal. Last week, Bitcoin (BTC-USD) breached $50,000 for the second time in two weeks, extending a rally that put a grim sell-off that started in May further in the rear-view mirror. While notable for its volatility, gains in the largest cryptocurrency may have gotten lost in the swell of rising prices across the entire asset class. With a majority of decentralized finance and non-fungible token (NFT) trading happening on the Ethereum (ETH-USD) blockchain, the second largest cryptocurrency by market capitalization rose by a third from $2,700 to $3,900, a growth rate 17% higher than BTC. And other blockchain-based currencies such as the third highest valued cryptocurrency, Cardano (ADA-USD) has more than doubled while a newer one, Solana (SOL-USD), has more than tripled in value over the past month. ADA and SOL have continued to notch almost daily all time highs for the past two weeks. In fact, new data released on Tuesday from MejoresApuestas.com showed Solana, Dogecoin and Cardano were the fastest-growing cryptos this year. All three posted four-digit increases to their market capitalization, with Solana's surging by 8,616%, and Dogecoin (DOGE-USD) and Cardano following with a 4,351% and 1,499% jump, respectively. Bitcoin IRA, an investment platform that helps retail investors gain crypto exposure in their retirement accounts, saw “record-breaking inflows” of new accounts over the previous month. “We broke our record in the first quarter right before Bitcoin ran from $45,000 to $65,000,” the company’s Chief Operating Officer, Chris Kline told Yahoo Finance. “We’re seeing the same pattern happen again. So this past month [August] felt a lot like April, but about twice as big.” Currently, Bitcoin IRA has close to 120,000 client accounts, with approximately $2 billion in assets on the platform. Although the platform's heft doesn’t move the market, the swell of retail investors opening new accounts — especially for tax-advantaged IRA accounts — is an indicator of how curious investors are as they seek\",\n",
       "  'Thank you for your patience. Our engineers are working quickly to resolve the issue.'],\n",
       " 'BTC': [' By Matjaz Skorjanc of NiceHash This week has brought yet another crazy episode in the cryptocurrency sphere. Investors, crypto users, and miners have no doubt felt a little alarmed.\\xa0 On Tuesday, news broke that the entire cryptocurrency market (nearly every coin) including Bitcoin\\xa0(CRYPTO: BTC), and Ethereum\\xa0(CRYPTO: ETH) plummeted in value due to mania of El Salvador beginning to accept Bitcoin as legal tender. Although on Friday, as I write this, we are now seeing signs of recovery across the market.\\xa0 It is hard to keep track I know. Fluctuating regulation across different countries is creating confusion. It’s a hard market to control.\\xa0 However, for those who embarking on their crypto investment quest, let’s take a step away from the likes of Bitcoin and Ethereum and discuss the potential of what I feel could be a key Alt Coin for the future - Ravencoin (CRYPTO: RVN).\\xa0 The Ravencoin blockchain Ravencoin was discovered in 2018 and is a Bitcoin code fork that allows anyone the ability to issue digital assets and tokens. It’s faster and easier to use than the Bitcoin blockchain that its network is based on. Ravencoin is a Proof-of-Work (PoW) blockchain designed with one specific function – to allow users to issue tokens easily and quickly. In this way, it’s a viable alternative to other blockchains that create assets, such as Ethereum. Tokens issued on RVN (Ravencoin) can be used in many ways and for different purposes. These include real-time asset transfer transactions and NFT (non-fungible tokens). Is Ravencoin the same as the Bitcoin blockchain? Broadly speaking, the Ravencoin network is similar in identity to other platforms like BTC. However, the Ravencoin protocol means that its market cap of total supply, block rewards and mining algorithm is optimised specifically for decentralised mining and efficiency when transferring assets. How does Ravencoin create assets? Ravencoin (RVN) is a blockchain designed to efficiently handle the creation of a token. Tokens issued on this peer-to-peer blockchain network are created for many reasons. The only stipulation is that the purpose of the Ravencoin token is to transfer assets from one person to another.',\n",
       "  \"Though Bitcoin was first created in 2008, most of us had never heard of it until 2017 when it had its first meteoric rise to nearly $20k per coin. More people were then made aware of this revolutionary technology when Bitcoin made its historic bull run from $10k to over $60k in the span of six months from 2020 to 2021. With the advent of Bitcoin, its creator Satoshi Nakamoto also gave us the gift of blockchain. This distributed ledger technology essentially lets millions of people contribute to the same Bitcoin network by lending their computing power for the purpose of verifying transactions while being rewarded in Bitcoin, otherwise known as “mining.” In the midst of cryptocurrency having its meteoric rise to fame, NFTs have now entered into the running for the face of blockchain technology. So far in 2021, billions have been spent on NFTs and they only just hit the mainstream market at the beginning of the year. Both of these technologies succeeded for various reasons but fundamentally they exist because of blockchain’s ability to bring a near bullet-proof level of verification to the age of the internet. This is due to the unique way blockchain stores data: Essentially, each new block of data connects to all the blocks before it in a cryptographic chain in such a way that it's nearly impossible to tamper with. All transactions within the blocks are validated and agreed upon by a consensus mechanism amongst the entire network, ensuring that each transaction is true and correct. Total Network Services, Corp founded in 2019 by blockchain innovator Thomas Carter is a group of people who understand the potential of this technology and find opportunities to infuse blockchain where its unique abilities are needed to create a more sustainable and efficient technological environment. One of the biggest industries that have a need for verification and improved security is ICT, specifically as it relates to supply chain and device management. So what does that mean exactly? It’s the phone in your hand you’re probably reading this article from now. It’s where we do our banking,\",\n",
       "  \"Michael Saylor's MicroStrategy has purchased an additional 5,050 bitcoins for about $243 million. The business enterprise software maker's total bitcoin holdings were valued at $5.1 billion as of Monday's session. Bitcoin traded around $44,500 on Monday, a pullback after reclaiming the $50,000 level in August. See more stories on Insider's business page. MicroStrategy has made another big purchase of bitcoin, bringing the value of its holdings of the most traded cryptocurrency to about $5.1 billion. The company bought 5,050 for about $242.9 million in cash, representing an average price of $48,099 per coin, said CEO Michael Saylor in a message Monday on Twitter. Saylor and MicroStrategy, in a statement filed with the Securities and Exchange Commission, said the company now holds 114,042 bitcoins purchased for $3.16 billion at an average price of about $27,713 per bitcoin. Bitcoin traded around $44,500 during Monday's session, valuing the company's bitcoin holdings at $5.1 billion. Saylor has been a vocal backer of bitcoin and his enthusiasm about the cryptocurrency was highlighted by the August 2020 conversion by Saylor of virtually all of MicroStrategy's cash into bitcoin. Saylor's obsession with bitcoin appears to have come out of the blue, several people who have worked with him told Insider. Bitcoin's price has pulled back from the $50,000 level it had reclaimed in late August. The cryptocurrency had traded above that price in mid-May, bolstered by increased interest among financial institutions and other companies but concerns about regulatory moves in China and US spurred a selloff. Bitcoin's recent retaking of $50,000 was made alongside a broader advance among other digital tokens including ether and so-called alt coins such as cardano on a mix of news in the sector including technical upgrades and further corporate exposure to digital currencies. Crypto exchange Coinbase in August said it would add cryptocurrencies worth $500 million to its balance sheet and invest 10% of future profits into digital assets. Read the original article on Business Insider Due to EU data protection laws, we (Verizon Media), our vendors and our partners need your consent to set cookies on your device and collect data\",\n",
       "  ' Count Rick Rieder, BlackRock\\'s chief investment officer of global fixed income, as a believer in cryptocurrencies.\\xa0 \"I think it could have some real upside. My sense is there are more buyers than sellers. It\\'s an asset class that I think is durable,\" Rieder said on Yahoo Finance Live.\\xa0 Rieder revealed he owns \"small pieces\" of crypto in several of his bigger portfolios, and compares the positions to owning stakes in venture capital firms.\\xa0 \"Quite frankly, I am glad I do [own crypto]. This has helped me learn about the evolution of what I think will be a blockchain technology that will continue to grow. So it\\'s something I am glad I got involved with,\" Rieder added. It\\'s safe to say not everyone in the financial services field is upbeat on crypto.\\xa0 Paulson & Co. founder John Paulson— who shot to fame during the financial crisis for raking in billions for his hedge fund by betting against subprime mortgages — recently told Bloomberg crypto will \"eventually prove to be worthless.\" “I wouldn’t recommend anyone invest in cryptocurrencies,\" said Paulson, who turned his hedge fund into a family office in 2020 amid a steady drumbeat of outflows, in the interview. The supremely bearish take comes as several well-known cryptos (such as bitcoin) have rallied hard off the lows seen earlier in the year. Meanwhile, an up and coming crypto like cardano has seen a steady surge this year — through Monday, the asset is up more than 1,300%. \"What we think he [John Paulson] is missing is that bitcoin is much more than just a store of value or digital gold. Bitcoin in particular is a new global monetary system. It\\'s a rules-based monetary policy, which is completely de-centralized and therefore is not subject to the whims of policymakers. In fact, it\\'s a hedge against the whims of policymakers, especially in emerging markets,\" Ark Invest founder Cathie Wood told Yahoo Finance Live. Brian Sozzi is an editor-at-large and anchor at Yahoo Finance. Follow Sozzi on Twitter @BrianSozzi and on LinkedIn. Read the latest financial and business news from Yahoo Finance Follow',\n",
       "  ' Crypto investors got a fresh injection of volatility on Monday, after Litecoin (LTC-USD) spiked — then quickly tanked — after news of a partnership with Walmart (WMT) was exposed as a hoax. Litecoin rallied as high at 25% in under half an hour, after a fake announcement circulated early Monday that stated the U.S. retail giant would allow customers to pay in the digital currency. It spurred LTC up from $174 to a session high of $232 — before it came back to earth once Walmart knocked down the fake press release. \"As it pertains to Litecoin, the press release is not real,\" a representative for Walmart said in a statement.\\xa0 Litecoin was last hovering above $179 in midday U.S. trading. The drama surrounding the digital coin couldn\\'t have been more ill-timed, with regulators ramping up their scrutiny of the free-wheeling world of crypto trading and lending. Securities and Exchange Commission Chairman Gary Gensler is set to testify before the Senate on Tuesday, with crypto expected to be one of the top discussion items. Some market players were quick to point out that several news outlets advanced the story without verifying it with Walmart, and compared the incident to \"pump and dump\" schemes popular in stocks with little to no liquidity. \"Cryptocurrency is an extremely adversarial environment. News, be it good or bad, should always be verified at the source.\" Neeraj Agrawal, communications director at Coin Center, a Washington D.C. based cryptocurrency nonprofit research and advocacy center, told Yahoo Finance. \"This type of thing is not unique to crypto,\" he added. Charlie Lee, a former Google and Coinbase engineer, created Litecoin in 2011.\\xa0 Currently, Coinmarket Cap ranks Litecoin as the 13th most valuable cryptocurrency, with a market capitalization of $11.8 billion. The hoax added nearly $4 billion to that amount, before it came off its highs. David Hollerith covers cryptocurrency for Yahoo Finance. Follow him @dshollers. READ MORE: Read the latest cryptocurrency and bitcoin news from Yahoo Finance For more information about cryptocurrency, check out: Dogecoin, what is it? How to buy it Ethereum: What is it and how',\n",
       "  ' Following a mixed end to the week for Bitcoin and the cryptos on Sunday, it has been a particularly bearish morning. At the time of writing, Bitcoin, BTC to USD, was down by 2.97% to $44,673.0. A mixed start to the day saw Bitcoin rise to an early morning high $46,269.0 before hitting reverse. Falling well short of the first major resistance level at $46,745, Bitcoin slid to a mid-morning low $44,222.0. The pullback saw Bitcoin fall through the first major support level at $45,053. It has been a bearish morning for the broader crypto market. At the time of writing, Chainlink was down by 10.07% to lead the way down, with Cardano’s ADA (-6.73%) close behind. Binance Coin (-4.58%), Bitcoin Cash SV (-3.59%), Crypto.com Coin (-5.60%), Ethereum (-5.48%), Litecoin (-5.12%), and Ripple’s XRP (-5.77%) also saw deep red Through the early hours, the crypto total market cap rose to an early morning high $2,143bn before falling to a low $2,003bn. At the time of writing, the total market cap stood at $2,044bn. Bitcoin’s dominance fell to an early morning low 40.62% before rising to a late morning high 41.52%. At the time of writing, Bitcoin’s dominance stood at 41.13%. Bitcoin would need to move back through the first major support level and the $45,760 pivot to bring the first major resistance level at $46,745 into play. Support from the broader market will be needed, however, for Bitcoin to breakout from the morning high $46,269.0. Barring a broad-based crypto rally, the first major resistance level and resistance at $47,000 would likely pin Bitcoin back. In the event of an extended rally through the afternoon, Bitcoin could test resistance at $48,000 before any pullback. The second major resistance level sits at $47,452. Failure to move back through the first major support level at $45,053 and the $45,60 pivot would bring the second major support level at $44,068 back into play. Barring an extended sell-off through the afternoon, however, Bitcoin should avoid sub-$44,000. The second major support level at $44,068 should limit the downside. Looking beyond the support and resistance levels,',\n",
       "  'Thank you for your patience. Our engineers are working quickly to resolve the issue.',\n",
       "  \" The U.S. Securities and Exchange Commission (SEC) signaled a big change in policing cryptocurrencies last week, as one of the largest crypto exchanges in the world revealed it was blocked from launching a new crypto lending product. As Coinbase CEO Brian Armstrong explained, the SEC took issue with the company's plans to pay interest to customers so they could earn up to 4% on their crypto assets. The particular crypto asset Coinbase was preparing to offer 4% on was the least volatile asset it offers, a stablecoin called USDC, which attempts to stay pegged in value to $1. As Armstrong also bemoaned on Twitter, other crypto companies have been lending and offering interest on crypto holdings, like bitcoin, ether, and USDC for years. BlockFi, for example, currently offers 8% interest on the stablecoin issued by the famed Winklevoss twins. But as anyone watching the crypto space would know, regulators have increasingly been talking about a need to crack down on exactly that practice. Officials at the Federal Reserve, for example, have even called out USDC's competitor, Tether, for potentially posing a risk to the traditional financial system if investors ever rushed to redeem their tether tokens for $1. The reason being, as Boston Fed President Eric Rosengren laid out back in June, is that neither Tether nor USDC were fully backed by an equivalent amount of dollars in a bank. While Coinbase and Tether's issuer each marketed that both coins were backed 1-for-1 by dollars in the bank, in reality they both held a mix of cash and assets that included bonds and corporate debt that could decline in value. Theoretically, if those other assets were to rapidly drop in value, investors might rush to redeem tokens for dollars sparking the crypto equivalent of a bank run, Rosengren said. Circle, the company behind USDC, recently announced it would be shifting to only holding cash and short-term Treasuries to back its stablecoin. That same day, Coinbase apologized for marketing that USDC was safely backed by dollars in the bank even though it wasn't. Tether still holds riskier assets as collateral\",\n",
       "  '(Bloomberg) -- Fidelity Investments urged the U.S. Securities and Exchange Commission to approve its Bitcoin exchange-traded fund in a private meeting, listing the virtues of an idea that the regulator has been slow to embrace. Executives including Tom Jessop, president of Fidelity Digital Assets, met with SEC officials in a Sept. 8 video call, filings show. They laid out reasons why the regulator should approve the proposed product, including increased investor appetite for virtual currencies, the growth of Bitcoin holders and the existence of similar funds in other countries, according to a presentation from the meeting. Several firms are competing to launch Bitcoin or Bitcoin futures-based ETFs, which crypto enthusiasts view as a key step to broadening the virtual currency’s reach. So far the SEC has taken a cautious approach under chair Gary Gensler and his predecessor Jay Clayton. None of the proposals have received a green light. But Gensler signaled this year that he could be open to a Bitcoin ETF as long as it complies with the strictest rules for mutual funds -- in contrast to most applications, including Fidelity’s, which are filed under 1930s laws that allow stock exchanges to list the products. Gensler also referenced an openness to ETFs based on Bitcoin futures. Fidelity’s presentation, in contrast, downplayed the importance of both of those traits. Read more: SEC’s Gensler Signals Path for Bitcoin ETF With Tough Rules “Bitcoin futures-based products are not a necessary interim step before a Bitcoin ETP,” Fidelity said in the presentation. “Firms should be able to meet investor demand for direct exposure to Bitcoin” through ETFs registered under those 1930s laws, “because the Bitcoin market has matured and can support them.” In March, Fidelity filed its application for its proposed Bitcoin ETF, called the Wise Origin Bitcoin Trust. Other firms seeking approval for similar products include WisdomTree Investments and Ark Investment Management. “An increasingly wide range of investors seeking access to Bitcoin has underscored the market need for a more diversified set of products offering exposure to digital assets to match demand,” Fidelity spokeswoman Nicole Abbott said in an emailed statement. She',\n",
       "  'Cathie Wood, the founder and CEO of Ark Invest, reiterated her trust in Bitcoin, saying yesterday at the SALT conference held by hedge fund SkyBridge Capital that she believes it will reach “over $500,000.” Learn More: Institutional Investors’ Bitcoin ETF Appetite Grows, While SEC still Stalling on ApprovalsInvesting: Here’s How Cathie Wood Picks Her Winning Stocks “If we’re right and companies continue to diversify their cash into something like Bitcoin, and institutional investors start allocating 5% of their funds towards [Bitcoin] — it could be for other cryptos, as well — we believe that the price will be tenfold of where it is today. So instead of $45,000, over $500,000,” Wood said, according to a video posted on Blockworks’ Twitter account. Wood also addressed the regulatory climate regarding cryptos, saying that “no regulators wanted to be blamed for preventing the next big technology breakthrough to happen in the U.S.” “And that has proven true,” she said. Wood also praised chairman Gary Gensler, saying that she is really happy “he understands crypto, and understands the merits of Bitcoin and, in particular, he is a regulator, though, and he’s a hardcore regulator.” Related: Crypto Regulation Will Help Pay for Infrastructure Bill, SEC’s Gensler Compares Industry to ‘Wild West’ Wood talked about the recent regulatory issue Coinbase encountered, when it received a Wells notice — the official way regulators tell a company they intend to sue — over Coinbase Lend, the company’s yet-to-be-launched new product. “What Coinbase did and I was shocked when I saw Wells notice, are you kidding they haven’t even release the product, like what is this? And I think what that Wells notice is doing, it’s a callout by regulators saying “we got to discuss this stuff,” because this is happening very quickly. And I think we are going to bring courts into the system,” Wood said. More: Elon Musk: ‘I Lose Money on Bitcoin’ But Tesla Likely to Accept It as Payment Again Other big names are being extremely bullish on Bitcoin, as well. MicroStrategy CEO Michael Saylor affirmed this with a tweet yesterday: “MicroStrategy has purchased an']}"
      ]
     },
     "execution_count": 19,
     "metadata": {},
     "output_type": "execute_result"
    }
   ],
   "source": [
    "articles = {ticker:scrape_and_process(cleaned_urls[ticker]) for ticker in monitored_tickers}\n",
    "articles"
   ]
  },
  {
   "cell_type": "code",
   "execution_count": 20,
   "metadata": {},
   "outputs": [
    {
     "data": {
      "text/plain": [
       "\"Michael Saylor's MicroStrategy has purchased an additional 5,050 bitcoins for about $243 million. The business enterprise software maker's total bitcoin holdings were valued at $5.1 billion as of Monday's session. Bitcoin traded around $44,500 on Monday, a pullback after reclaiming the $50,000 level in August. See more stories on Insider's business page. MicroStrategy has made another big purchase of bitcoin, bringing the value of its holdings of the most traded cryptocurrency to about $5.1 billion. The company bought 5,050 for about $242.9 million in cash, representing an average price of $48,099 per coin, said CEO Michael Saylor in a message Monday on Twitter. Saylor and MicroStrategy, in a statement filed with the Securities and Exchange Commission, said the company now holds 114,042 bitcoins purchased for $3.16 billion at an average price of about $27,713 per bitcoin. Bitcoin traded around $44,500 during Monday's session, valuing the company's bitcoin holdings at $5.1 billion. Saylor has been a vocal backer of bitcoin and his enthusiasm about the cryptocurrency was highlighted by the August 2020 conversion by Saylor of virtually all of MicroStrategy's cash into bitcoin. Saylor's obsession with bitcoin appears to have come out of the blue, several people who have worked with him told Insider. Bitcoin's price has pulled back from the $50,000 level it had reclaimed in late August. The cryptocurrency had traded above that price in mid-May, bolstered by increased interest among financial institutions and other companies but concerns about regulatory moves in China and US spurred a selloff. Bitcoin's recent retaking of $50,000 was made alongside a broader advance among other digital tokens including ether and so-called alt coins such as cardano on a mix of news in the sector including technical upgrades and further corporate exposure to digital currencies. Crypto exchange Coinbase in August said it would add cryptocurrencies worth $500 million to its balance sheet and invest 10% of future profits into digital assets. Read the original article on Business Insider Due to EU data protection laws, we (Verizon Media), our vendors and our partners need your consent to set cookies on your device and collect data\""
      ]
     },
     "execution_count": 20,
     "metadata": {},
     "output_type": "execute_result"
    }
   ],
   "source": [
    "articles['BTC'][2]"
   ]
  },
  {
   "cell_type": "markdown",
   "metadata": {},
   "source": [
    "## 4.4. Summarise all Articles"
   ]
  },
  {
   "cell_type": "code",
   "execution_count": 21,
   "metadata": {},
   "outputs": [],
   "source": [
    "def summarize(articles):\n",
    "    summaries = []\n",
    "    for article in articles:\n",
    "        input_ids = tokenizer.encode(article, return_tensors='pt')\n",
    "        output = model.generate(input_ids, max_length=55, num_beams=5, early_stopping=True)\n",
    "        summary = tokenizer.decode(output[0], skip_special_tokens=True)\n",
    "        summaries.append(summary)\n",
    "    return summaries"
   ]
  },
  {
   "cell_type": "code",
   "execution_count": 22,
   "metadata": {},
   "outputs": [
    {
     "data": {
      "text/plain": [
       "{'ADA': ['I preferred view of larger, more complex, 4th wave: EWP count and technical indicators.',\n",
       "  'We are aware of the issue and are working to resolve it.',\n",
       "  'Sweden’s central bank governor says ‘private money usually collapses’. Cardano is set to beat its all-time high by 2021',\n",
       "  'Rieder says he owns ‘small pieces’ of the asset. Paulson recently told Bloomberg crypto will ‘eventually prove to be worthless’',\n",
       "  'Greed Music is a crypto music label with Grammy Award winning producers, Cool & Dre.',\n",
       "  '‘It’s the greatest time to enter the crypto market,’ says Bitwise’s Hougan. El Salvador’s new Bitcoin Law overshadowed events this week',\n",
       "  'Is the recent low of $2.47 a 4th wave correction already over? Wave-b is now underway, targeting as high as $2.97-3.17',\n",
       "  'Largest cryptocurrency, Bitcoin, breached $50,000 for the second time in two weeks. Solana, Dogecoin and Cardano all posted four-digit gains',\n",
       "  'ADA has surpassed BNB to become third-largest cryptocurrency by market cap. Network prepares for mainnet launch later this month',\n",
       "  'The cryptocurrency’s price is down by more than 7% despite the blockchain launching smart contract features.'],\n",
       " 'ETH': ['Arbitrum has seen an incredible surge in deposits via Metamask. Defi ‘degens’ seek lower gas fees, lucrative DeFi opportunities',\n",
       "  'Reversing a 6.10% gain from the previous week, Bitcoin ended the week at $46,038.9. Ethereum slid by 13.87% in the week ending 13th September',\n",
       "  'Ether surged 36% in August, more than double Bitcoin’s return. Coin is outperforming Bitcoin by widest margin since at least 2018.',\n",
       "  'Sweden’s central bank governor says ‘private money usually collapses’. Cardano is set to beat its all-time high by 2021',\n",
       "  'Rally in non-fungible tokens is likely to continue, analyst says.',\n",
       "  'Shares of crypto-related stocks are trading higher. Bitcoin and Ethereum are trading higher on Thursday',\n",
       "  'Ethereum falls short of first major resistance level at $3,507. Litecoin falls below first major support level at $178',\n",
       "  'Benzinga visitors say they would put $5,000 into Solana, Ethereum. Solana has soared from $43.59 to $177.80 in the past month',\n",
       "  'Largest cryptocurrency, Bitcoin, breached $50,000 for the second time in two weeks. Solana, Dogecoin and Cardano all posted four-digit gains',\n",
       "  'We are aware of the issue and are working to resolve it.'],\n",
       " 'BTC': ['Is Ravencoin a potential Alt Coin for the future?',\n",
       "  'NFTs have entered into the market for the first time in 2021. Total Network Services, Corp founded in 2019 by blockchain innovator Thomas Carter',\n",
       "  'MicroStrategy CEO Michael Saylor has been a vocal backer of the cryptocurrency. Bitcoin traded around $44,500 on Monday, a pullback',\n",
       "  'Rieder says he owns ‘small pieces’ of the asset. Paulson recently told Bloomberg crypto will ‘eventually prove to be worthless’',\n",
       "  'A fake press release said the U.S. retail giant would allow customers to pay in Litecoin.',\n",
       "  'Bitcoin falls well short of first major resistance level at $46,745. Chainlink, ADA, and crypto total market cap all fall in early hours',\n",
       "  'We are aware of the issue and are working to resolve it.',\n",
       "  'Regulators are starting to take a hard look at crypto lending. Coinbase had been preparing to offer 4% on stablecoin USDC',\n",
       "  'Fidelity executives met with SEC officials. Several firms are seeking approval for Bitcoin ETFs',\n",
       "  'Cathie Wood says Bitcoin price could reach ‘over $500,000’. She also praised regulator Gensler, saying ‘he understands crypto’']}"
      ]
     },
     "execution_count": 22,
     "metadata": {},
     "output_type": "execute_result"
    }
   ],
   "source": [
    "summaries = {ticker:summarize(articles[ticker]) for ticker in monitored_tickers}\n",
    "summaries"
   ]
  },
  {
   "cell_type": "code",
   "execution_count": 23,
   "metadata": {},
   "outputs": [
    {
     "data": {
      "text/plain": [
       "['Is Ravencoin a potential Alt Coin for the future?',\n",
       " 'NFTs have entered into the market for the first time in 2021. Total Network Services, Corp founded in 2019 by blockchain innovator Thomas Carter',\n",
       " 'MicroStrategy CEO Michael Saylor has been a vocal backer of the cryptocurrency. Bitcoin traded around $44,500 on Monday, a pullback',\n",
       " 'Rieder says he owns ‘small pieces’ of the asset. Paulson recently told Bloomberg crypto will ‘eventually prove to be worthless’',\n",
       " 'A fake press release said the U.S. retail giant would allow customers to pay in Litecoin.',\n",
       " 'Bitcoin falls well short of first major resistance level at $46,745. Chainlink, ADA, and crypto total market cap all fall in early hours',\n",
       " 'We are aware of the issue and are working to resolve it.',\n",
       " 'Regulators are starting to take a hard look at crypto lending. Coinbase had been preparing to offer 4% on stablecoin USDC',\n",
       " 'Fidelity executives met with SEC officials. Several firms are seeking approval for Bitcoin ETFs',\n",
       " 'Cathie Wood says Bitcoin price could reach ‘over $500,000’. She also praised regulator Gensler, saying ‘he understands crypto’']"
      ]
     },
     "execution_count": 23,
     "metadata": {},
     "output_type": "execute_result"
    }
   ],
   "source": [
    "summaries['BTC']"
   ]
  },
  {
   "cell_type": "markdown",
   "metadata": {},
   "source": [
    "# 5. Adding Sentiment Analysis"
   ]
  },
  {
   "cell_type": "code",
   "execution_count": 24,
   "metadata": {},
   "outputs": [],
   "source": [
    "from transformers import pipeline\n",
    "sentiment = pipeline('sentiment-analysis')"
   ]
  },
  {
   "cell_type": "code",
   "execution_count": 25,
   "metadata": {},
   "outputs": [
    {
     "data": {
      "text/plain": [
       "[{'label': 'NEGATIVE', 'score': 0.9317285418510437},\n",
       " {'label': 'NEGATIVE', 'score': 0.9988366961479187},\n",
       " {'label': 'POSITIVE', 'score': 0.9076218605041504},\n",
       " {'label': 'NEGATIVE', 'score': 0.9995661973953247},\n",
       " {'label': 'NEGATIVE', 'score': 0.9450134038925171},\n",
       " {'label': 'NEGATIVE', 'score': 0.9426094889640808},\n",
       " {'label': 'NEGATIVE', 'score': 0.9992786645889282},\n",
       " {'label': 'POSITIVE', 'score': 0.9941855669021606},\n",
       " {'label': 'NEGATIVE', 'score': 0.6406136155128479},\n",
       " {'label': 'POSITIVE', 'score': 0.9979087710380554}]"
      ]
     },
     "execution_count": 25,
     "metadata": {},
     "output_type": "execute_result"
    }
   ],
   "source": [
    "sentiment(summaries['ETH'])"
   ]
  },
  {
   "cell_type": "code",
   "execution_count": 26,
   "metadata": {},
   "outputs": [
    {
     "data": {
      "text/plain": [
       "{'ADA': [{'label': 'NEGATIVE', 'score': 0.9294495582580566},\n",
       "  {'label': 'POSITIVE', 'score': 0.9979087710380554},\n",
       "  {'label': 'NEGATIVE', 'score': 0.9995661973953247},\n",
       "  {'label': 'NEGATIVE', 'score': 0.9993500113487244},\n",
       "  {'label': 'NEGATIVE', 'score': 0.9760673642158508},\n",
       "  {'label': 'POSITIVE', 'score': 0.9992268681526184},\n",
       "  {'label': 'NEGATIVE', 'score': 0.9983871579170227},\n",
       "  {'label': 'NEGATIVE', 'score': 0.6406136751174927},\n",
       "  {'label': 'POSITIVE', 'score': 0.8167056441307068},\n",
       "  {'label': 'NEGATIVE', 'score': 0.9996849298477173}],\n",
       " 'ETH': [{'label': 'NEGATIVE', 'score': 0.9317285418510437},\n",
       "  {'label': 'NEGATIVE', 'score': 0.9988366961479187},\n",
       "  {'label': 'POSITIVE', 'score': 0.9076218605041504},\n",
       "  {'label': 'NEGATIVE', 'score': 0.9995661973953247},\n",
       "  {'label': 'NEGATIVE', 'score': 0.9450134038925171},\n",
       "  {'label': 'NEGATIVE', 'score': 0.9426094889640808},\n",
       "  {'label': 'NEGATIVE', 'score': 0.9992786645889282},\n",
       "  {'label': 'POSITIVE', 'score': 0.9941855669021606},\n",
       "  {'label': 'NEGATIVE', 'score': 0.6406136155128479},\n",
       "  {'label': 'POSITIVE', 'score': 0.9979087710380554}],\n",
       " 'BTC': [{'label': 'NEGATIVE', 'score': 0.996727705001831},\n",
       "  {'label': 'POSITIVE', 'score': 0.9918705821037292},\n",
       "  {'label': 'NEGATIVE', 'score': 0.9408400058746338},\n",
       "  {'label': 'NEGATIVE', 'score': 0.9993500113487244},\n",
       "  {'label': 'NEGATIVE', 'score': 0.9994137287139893},\n",
       "  {'label': 'NEGATIVE', 'score': 0.9995904564857483},\n",
       "  {'label': 'POSITIVE', 'score': 0.9979087710380554},\n",
       "  {'label': 'NEGATIVE', 'score': 0.9973118305206299},\n",
       "  {'label': 'NEGATIVE', 'score': 0.8364861011505127},\n",
       "  {'label': 'POSITIVE', 'score': 0.9950817227363586}]}"
      ]
     },
     "execution_count": 26,
     "metadata": {},
     "output_type": "execute_result"
    }
   ],
   "source": [
    "scores = {ticker:sentiment(summaries[ticker]) for ticker in monitored_tickers}\n",
    "scores"
   ]
  },
  {
   "cell_type": "code",
   "execution_count": 27,
   "metadata": {},
   "outputs": [
    {
     "name": "stdout",
     "output_type": "stream",
     "text": [
      "Sweden’s central bank governor says ‘private money usually collapses’. Cardano is set to beat its all-time high by 2021 NEGATIVE 0.9995661973953247\n"
     ]
    }
   ],
   "source": [
    "print(summaries['ETH'][3], scores['ETH'][3]['label'], scores['ETH'][3]['score'])"
   ]
  },
  {
   "cell_type": "code",
   "execution_count": 28,
   "metadata": {},
   "outputs": [
    {
     "data": {
      "text/plain": [
       "0.9317285418510437"
      ]
     },
     "execution_count": 28,
     "metadata": {},
     "output_type": "execute_result"
    }
   ],
   "source": [
    "scores['ETH'][0]['score']"
   ]
  },
  {
   "cell_type": "markdown",
   "metadata": {},
   "source": [
    "# 6. Exporting Results to CSV"
   ]
  },
  {
   "cell_type": "code",
   "execution_count": 29,
   "metadata": {},
   "outputs": [
    {
     "data": {
      "text/plain": [
       "{'ADA': ['I preferred view of larger, more complex, 4th wave: EWP count and technical indicators.',\n",
       "  'We are aware of the issue and are working to resolve it.',\n",
       "  'Sweden’s central bank governor says ‘private money usually collapses’. Cardano is set to beat its all-time high by 2021',\n",
       "  'Rieder says he owns ‘small pieces’ of the asset. Paulson recently told Bloomberg crypto will ‘eventually prove to be worthless’',\n",
       "  'Greed Music is a crypto music label with Grammy Award winning producers, Cool & Dre.',\n",
       "  '‘It’s the greatest time to enter the crypto market,’ says Bitwise’s Hougan. El Salvador’s new Bitcoin Law overshadowed events this week',\n",
       "  'Is the recent low of $2.47 a 4th wave correction already over? Wave-b is now underway, targeting as high as $2.97-3.17',\n",
       "  'Largest cryptocurrency, Bitcoin, breached $50,000 for the second time in two weeks. Solana, Dogecoin and Cardano all posted four-digit gains',\n",
       "  'ADA has surpassed BNB to become third-largest cryptocurrency by market cap. Network prepares for mainnet launch later this month',\n",
       "  'The cryptocurrency’s price is down by more than 7% despite the blockchain launching smart contract features.'],\n",
       " 'ETH': ['Arbitrum has seen an incredible surge in deposits via Metamask. Defi ‘degens’ seek lower gas fees, lucrative DeFi opportunities',\n",
       "  'Reversing a 6.10% gain from the previous week, Bitcoin ended the week at $46,038.9. Ethereum slid by 13.87% in the week ending 13th September',\n",
       "  'Ether surged 36% in August, more than double Bitcoin’s return. Coin is outperforming Bitcoin by widest margin since at least 2018.',\n",
       "  'Sweden’s central bank governor says ‘private money usually collapses’. Cardano is set to beat its all-time high by 2021',\n",
       "  'Rally in non-fungible tokens is likely to continue, analyst says.',\n",
       "  'Shares of crypto-related stocks are trading higher. Bitcoin and Ethereum are trading higher on Thursday',\n",
       "  'Ethereum falls short of first major resistance level at $3,507. Litecoin falls below first major support level at $178',\n",
       "  'Benzinga visitors say they would put $5,000 into Solana, Ethereum. Solana has soared from $43.59 to $177.80 in the past month',\n",
       "  'Largest cryptocurrency, Bitcoin, breached $50,000 for the second time in two weeks. Solana, Dogecoin and Cardano all posted four-digit gains',\n",
       "  'We are aware of the issue and are working to resolve it.'],\n",
       " 'BTC': ['Is Ravencoin a potential Alt Coin for the future?',\n",
       "  'NFTs have entered into the market for the first time in 2021. Total Network Services, Corp founded in 2019 by blockchain innovator Thomas Carter',\n",
       "  'MicroStrategy CEO Michael Saylor has been a vocal backer of the cryptocurrency. Bitcoin traded around $44,500 on Monday, a pullback',\n",
       "  'Rieder says he owns ‘small pieces’ of the asset. Paulson recently told Bloomberg crypto will ‘eventually prove to be worthless’',\n",
       "  'A fake press release said the U.S. retail giant would allow customers to pay in Litecoin.',\n",
       "  'Bitcoin falls well short of first major resistance level at $46,745. Chainlink, ADA, and crypto total market cap all fall in early hours',\n",
       "  'We are aware of the issue and are working to resolve it.',\n",
       "  'Regulators are starting to take a hard look at crypto lending. Coinbase had been preparing to offer 4% on stablecoin USDC',\n",
       "  'Fidelity executives met with SEC officials. Several firms are seeking approval for Bitcoin ETFs',\n",
       "  'Cathie Wood says Bitcoin price could reach ‘over $500,000’. She also praised regulator Gensler, saying ‘he understands crypto’']}"
      ]
     },
     "execution_count": 29,
     "metadata": {},
     "output_type": "execute_result"
    }
   ],
   "source": [
    "summaries"
   ]
  },
  {
   "cell_type": "code",
   "execution_count": 30,
   "metadata": {},
   "outputs": [
    {
     "data": {
      "text/plain": [
       "{'ADA': [{'label': 'NEGATIVE', 'score': 0.9294495582580566},\n",
       "  {'label': 'POSITIVE', 'score': 0.9979087710380554},\n",
       "  {'label': 'NEGATIVE', 'score': 0.9995661973953247},\n",
       "  {'label': 'NEGATIVE', 'score': 0.9993500113487244},\n",
       "  {'label': 'NEGATIVE', 'score': 0.9760673642158508},\n",
       "  {'label': 'POSITIVE', 'score': 0.9992268681526184},\n",
       "  {'label': 'NEGATIVE', 'score': 0.9983871579170227},\n",
       "  {'label': 'NEGATIVE', 'score': 0.6406136751174927},\n",
       "  {'label': 'POSITIVE', 'score': 0.8167056441307068},\n",
       "  {'label': 'NEGATIVE', 'score': 0.9996849298477173}],\n",
       " 'ETH': [{'label': 'NEGATIVE', 'score': 0.9317285418510437},\n",
       "  {'label': 'NEGATIVE', 'score': 0.9988366961479187},\n",
       "  {'label': 'POSITIVE', 'score': 0.9076218605041504},\n",
       "  {'label': 'NEGATIVE', 'score': 0.9995661973953247},\n",
       "  {'label': 'NEGATIVE', 'score': 0.9450134038925171},\n",
       "  {'label': 'NEGATIVE', 'score': 0.9426094889640808},\n",
       "  {'label': 'NEGATIVE', 'score': 0.9992786645889282},\n",
       "  {'label': 'POSITIVE', 'score': 0.9941855669021606},\n",
       "  {'label': 'NEGATIVE', 'score': 0.6406136155128479},\n",
       "  {'label': 'POSITIVE', 'score': 0.9979087710380554}],\n",
       " 'BTC': [{'label': 'NEGATIVE', 'score': 0.996727705001831},\n",
       "  {'label': 'POSITIVE', 'score': 0.9918705821037292},\n",
       "  {'label': 'NEGATIVE', 'score': 0.9408400058746338},\n",
       "  {'label': 'NEGATIVE', 'score': 0.9993500113487244},\n",
       "  {'label': 'NEGATIVE', 'score': 0.9994137287139893},\n",
       "  {'label': 'NEGATIVE', 'score': 0.9995904564857483},\n",
       "  {'label': 'POSITIVE', 'score': 0.9979087710380554},\n",
       "  {'label': 'NEGATIVE', 'score': 0.9973118305206299},\n",
       "  {'label': 'NEGATIVE', 'score': 0.8364861011505127},\n",
       "  {'label': 'POSITIVE', 'score': 0.9950817227363586}]}"
      ]
     },
     "execution_count": 30,
     "metadata": {},
     "output_type": "execute_result"
    }
   ],
   "source": [
    "scores"
   ]
  },
  {
   "cell_type": "code",
   "execution_count": 31,
   "metadata": {},
   "outputs": [
    {
     "data": {
      "text/plain": [
       "{'ADA': ['https://finance.yahoo.com/news/cardano-ada-expected-pullback-came-170945648.html',\n",
       "  'https://finance.yahoo.com/news/cardano-smart-contracts-hit-public-103919542.html',\n",
       "  'https://finance.yahoo.com/news/bitcoin-price-cryptocurrencies-sweden-trading-stamps-ethereum-100929220.html',\n",
       "  'https://finance.yahoo.com/news/cryptocurriencies-are-a-durable-asset-class-with-real-upside-black-rock-fixed-income-cio-160259991.html',\n",
       "  'https://finance.yahoo.com/news/greed-one-first-launch-cardano-180100414.html',\n",
       "  'https://finance.yahoo.com/news/undaunted-by-bitcoin-flash-crash-true-believers-say-its-the-greatest-time-to-get-into-crypto-214309569.html',\n",
       "  'https://finance.yahoo.com/news/cardano-ada-expect-pullback-another-192023603.html',\n",
       "  'https://finance.yahoo.com/news/what-augusts-record-breaking-month-for-crypto-flows-means-for-bitcoin-163906276.html',\n",
       "  'https://finance.yahoo.com/news/cardano-hits-3-mark-first-155147241.html',\n",
       "  'https://finance.yahoo.com/news/ada-down-7-today-despite-115931217.html'],\n",
       " 'ETH': ['https://finance.yahoo.com/news/ethereum-layer-2-tvl-breaks-113845277.html',\n",
       "  'https://finance.yahoo.com/news/bitcoin-ethereum-weekly-technical-analysis-015342376.html',\n",
       "  'https://finance.yahoo.com/news/nfts-defi-boost-ethereum-dims-154222433.html',\n",
       "  'https://finance.yahoo.com/news/bitcoin-price-cryptocurrencies-sweden-trading-stamps-ethereum-100929220.html',\n",
       "  'https://finance.yahoo.com/news/crypto-analyst-who-called-ethereums-climb-to-3400-reiterates-a-10000-call-195159080.html',\n",
       "  'https://finance.yahoo.com/news/why-bitcoin-related-ethereum-related-151329728.html',\n",
       "  'https://finance.yahoo.com/news/ethereum-litecoin-ripple-xrp-daily-001720248.html',\n",
       "  'https://finance.yahoo.com/news/had-5-000-now-put-182159163.html',\n",
       "  'https://finance.yahoo.com/news/what-augusts-record-breaking-month-for-crypto-flows-means-for-bitcoin-163906276.html',\n",
       "  'https://finance.yahoo.com/video/ethereum-hits-highest-levels-since-201441481.html'],\n",
       " 'BTC': ['https://finance.yahoo.com/news/emerging-crypto-coins-could-ravencoin-194232498.html',\n",
       "  'https://finance.yahoo.com/news/beyond-satoshis-bitcoin-next-poster-213032640.html',\n",
       "  'https://finance.yahoo.com/amphtml/news/microstrategy-adds-another-5-050-172248283.html',\n",
       "  'https://finance.yahoo.com/news/cryptocurriencies-are-a-durable-asset-class-with-real-upside-black-rock-fixed-income-cio-160259991.html',\n",
       "  'https://finance.yahoo.com/news/litecoin-whipsawed-by-walmart-hoax-exposing-extremely-adversarial-environment-of-crypto-163629770.html',\n",
       "  'https://finance.yahoo.com/news/bitcoin-price-prediction-bears-eyeing-133903929.html',\n",
       "  'https://finance.yahoo.com/video/cinema-stocks-jump-china-crowded-182932171.html',\n",
       "  'https://finance.yahoo.com/news/this-crypto-looking-to-solve-the-sec-crackdown-is-up-6000-in-2021-135816741.html',\n",
       "  'https://finance.yahoo.com/news/fidelity-pushed-bitcoin-etf-approval-230824408.html',\n",
       "  'https://finance.yahoo.com/news/bitcoin-bulls-cathie-wood-says-215220452.html']}"
      ]
     },
     "execution_count": 31,
     "metadata": {},
     "output_type": "execute_result"
    }
   ],
   "source": [
    "cleaned_urls"
   ]
  },
  {
   "cell_type": "code",
   "execution_count": 32,
   "metadata": {},
   "outputs": [
    {
     "data": {
      "text/plain": [
       "range(0, 10)"
      ]
     },
     "execution_count": 32,
     "metadata": {},
     "output_type": "execute_result"
    }
   ],
   "source": [
    "range(len(summaries['ETH']))"
   ]
  },
  {
   "cell_type": "code",
   "execution_count": 33,
   "metadata": {},
   "outputs": [
    {
     "data": {
      "text/plain": [
       "'Sweden’s central bank governor says ‘private money usually collapses’. Cardano is set to beat its all-time high by 2021'"
      ]
     },
     "execution_count": 33,
     "metadata": {},
     "output_type": "execute_result"
    }
   ],
   "source": [
    "summaries['ETH'][3]"
   ]
  },
  {
   "cell_type": "code",
   "execution_count": 34,
   "metadata": {},
   "outputs": [],
   "source": [
    "def create_output_array(summaries, scores, urls):\n",
    "    output = []\n",
    "    for ticker in monitored_tickers:\n",
    "        for counter in range(len(summaries[ticker])):\n",
    "            output_this = [\n",
    "                ticker,\n",
    "                summaries[ticker][counter],\n",
    "                scores[ticker][counter]['label'],\n",
    "                scores[ticker][counter]['score'],\n",
    "                urls[ticker][counter]\n",
    "            ]\n",
    "            output.append(output_this)\n",
    "    return output"
   ]
  },
  {
   "cell_type": "code",
   "execution_count": 35,
   "metadata": {},
   "outputs": [
    {
     "data": {
      "text/plain": [
       "[['ADA',\n",
       "  'I preferred view of larger, more complex, 4th wave: EWP count and technical indicators.',\n",
       "  'NEGATIVE',\n",
       "  0.9294495582580566,\n",
       "  'https://finance.yahoo.com/news/cardano-ada-expected-pullback-came-170945648.html'],\n",
       " ['ADA',\n",
       "  'We are aware of the issue and are working to resolve it.',\n",
       "  'POSITIVE',\n",
       "  0.9979087710380554,\n",
       "  'https://finance.yahoo.com/news/cardano-smart-contracts-hit-public-103919542.html'],\n",
       " ['ADA',\n",
       "  'Sweden’s central bank governor says ‘private money usually collapses’. Cardano is set to beat its all-time high by 2021',\n",
       "  'NEGATIVE',\n",
       "  0.9995661973953247,\n",
       "  'https://finance.yahoo.com/news/bitcoin-price-cryptocurrencies-sweden-trading-stamps-ethereum-100929220.html'],\n",
       " ['ADA',\n",
       "  'Rieder says he owns ‘small pieces’ of the asset. Paulson recently told Bloomberg crypto will ‘eventually prove to be worthless’',\n",
       "  'NEGATIVE',\n",
       "  0.9993500113487244,\n",
       "  'https://finance.yahoo.com/news/cryptocurriencies-are-a-durable-asset-class-with-real-upside-black-rock-fixed-income-cio-160259991.html'],\n",
       " ['ADA',\n",
       "  'Greed Music is a crypto music label with Grammy Award winning producers, Cool & Dre.',\n",
       "  'NEGATIVE',\n",
       "  0.9760673642158508,\n",
       "  'https://finance.yahoo.com/news/greed-one-first-launch-cardano-180100414.html'],\n",
       " ['ADA',\n",
       "  '‘It’s the greatest time to enter the crypto market,’ says Bitwise’s Hougan. El Salvador’s new Bitcoin Law overshadowed events this week',\n",
       "  'POSITIVE',\n",
       "  0.9992268681526184,\n",
       "  'https://finance.yahoo.com/news/undaunted-by-bitcoin-flash-crash-true-believers-say-its-the-greatest-time-to-get-into-crypto-214309569.html'],\n",
       " ['ADA',\n",
       "  'Is the recent low of $2.47 a 4th wave correction already over? Wave-b is now underway, targeting as high as $2.97-3.17',\n",
       "  'NEGATIVE',\n",
       "  0.9983871579170227,\n",
       "  'https://finance.yahoo.com/news/cardano-ada-expect-pullback-another-192023603.html'],\n",
       " ['ADA',\n",
       "  'Largest cryptocurrency, Bitcoin, breached $50,000 for the second time in two weeks. Solana, Dogecoin and Cardano all posted four-digit gains',\n",
       "  'NEGATIVE',\n",
       "  0.6406136751174927,\n",
       "  'https://finance.yahoo.com/news/what-augusts-record-breaking-month-for-crypto-flows-means-for-bitcoin-163906276.html'],\n",
       " ['ADA',\n",
       "  'ADA has surpassed BNB to become third-largest cryptocurrency by market cap. Network prepares for mainnet launch later this month',\n",
       "  'POSITIVE',\n",
       "  0.8167056441307068,\n",
       "  'https://finance.yahoo.com/news/cardano-hits-3-mark-first-155147241.html'],\n",
       " ['ADA',\n",
       "  'The cryptocurrency’s price is down by more than 7% despite the blockchain launching smart contract features.',\n",
       "  'NEGATIVE',\n",
       "  0.9996849298477173,\n",
       "  'https://finance.yahoo.com/news/ada-down-7-today-despite-115931217.html'],\n",
       " ['ETH',\n",
       "  'Arbitrum has seen an incredible surge in deposits via Metamask. Defi ‘degens’ seek lower gas fees, lucrative DeFi opportunities',\n",
       "  'NEGATIVE',\n",
       "  0.9317285418510437,\n",
       "  'https://finance.yahoo.com/news/ethereum-layer-2-tvl-breaks-113845277.html'],\n",
       " ['ETH',\n",
       "  'Reversing a 6.10% gain from the previous week, Bitcoin ended the week at $46,038.9. Ethereum slid by 13.87% in the week ending 13th September',\n",
       "  'NEGATIVE',\n",
       "  0.9988366961479187,\n",
       "  'https://finance.yahoo.com/news/bitcoin-ethereum-weekly-technical-analysis-015342376.html'],\n",
       " ['ETH',\n",
       "  'Ether surged 36% in August, more than double Bitcoin’s return. Coin is outperforming Bitcoin by widest margin since at least 2018.',\n",
       "  'POSITIVE',\n",
       "  0.9076218605041504,\n",
       "  'https://finance.yahoo.com/news/nfts-defi-boost-ethereum-dims-154222433.html'],\n",
       " ['ETH',\n",
       "  'Sweden’s central bank governor says ‘private money usually collapses’. Cardano is set to beat its all-time high by 2021',\n",
       "  'NEGATIVE',\n",
       "  0.9995661973953247,\n",
       "  'https://finance.yahoo.com/news/bitcoin-price-cryptocurrencies-sweden-trading-stamps-ethereum-100929220.html'],\n",
       " ['ETH',\n",
       "  'Rally in non-fungible tokens is likely to continue, analyst says.',\n",
       "  'NEGATIVE',\n",
       "  0.9450134038925171,\n",
       "  'https://finance.yahoo.com/news/crypto-analyst-who-called-ethereums-climb-to-3400-reiterates-a-10000-call-195159080.html'],\n",
       " ['ETH',\n",
       "  'Shares of crypto-related stocks are trading higher. Bitcoin and Ethereum are trading higher on Thursday',\n",
       "  'NEGATIVE',\n",
       "  0.9426094889640808,\n",
       "  'https://finance.yahoo.com/news/why-bitcoin-related-ethereum-related-151329728.html'],\n",
       " ['ETH',\n",
       "  'Ethereum falls short of first major resistance level at $3,507. Litecoin falls below first major support level at $178',\n",
       "  'NEGATIVE',\n",
       "  0.9992786645889282,\n",
       "  'https://finance.yahoo.com/news/ethereum-litecoin-ripple-xrp-daily-001720248.html'],\n",
       " ['ETH',\n",
       "  'Benzinga visitors say they would put $5,000 into Solana, Ethereum. Solana has soared from $43.59 to $177.80 in the past month',\n",
       "  'POSITIVE',\n",
       "  0.9941855669021606,\n",
       "  'https://finance.yahoo.com/news/had-5-000-now-put-182159163.html'],\n",
       " ['ETH',\n",
       "  'Largest cryptocurrency, Bitcoin, breached $50,000 for the second time in two weeks. Solana, Dogecoin and Cardano all posted four-digit gains',\n",
       "  'NEGATIVE',\n",
       "  0.6406136155128479,\n",
       "  'https://finance.yahoo.com/news/what-augusts-record-breaking-month-for-crypto-flows-means-for-bitcoin-163906276.html'],\n",
       " ['ETH',\n",
       "  'We are aware of the issue and are working to resolve it.',\n",
       "  'POSITIVE',\n",
       "  0.9979087710380554,\n",
       "  'https://finance.yahoo.com/video/ethereum-hits-highest-levels-since-201441481.html'],\n",
       " ['BTC',\n",
       "  'Is Ravencoin a potential Alt Coin for the future?',\n",
       "  'NEGATIVE',\n",
       "  0.996727705001831,\n",
       "  'https://finance.yahoo.com/news/emerging-crypto-coins-could-ravencoin-194232498.html'],\n",
       " ['BTC',\n",
       "  'NFTs have entered into the market for the first time in 2021. Total Network Services, Corp founded in 2019 by blockchain innovator Thomas Carter',\n",
       "  'POSITIVE',\n",
       "  0.9918705821037292,\n",
       "  'https://finance.yahoo.com/news/beyond-satoshis-bitcoin-next-poster-213032640.html'],\n",
       " ['BTC',\n",
       "  'MicroStrategy CEO Michael Saylor has been a vocal backer of the cryptocurrency. Bitcoin traded around $44,500 on Monday, a pullback',\n",
       "  'NEGATIVE',\n",
       "  0.9408400058746338,\n",
       "  'https://finance.yahoo.com/amphtml/news/microstrategy-adds-another-5-050-172248283.html'],\n",
       " ['BTC',\n",
       "  'Rieder says he owns ‘small pieces’ of the asset. Paulson recently told Bloomberg crypto will ‘eventually prove to be worthless’',\n",
       "  'NEGATIVE',\n",
       "  0.9993500113487244,\n",
       "  'https://finance.yahoo.com/news/cryptocurriencies-are-a-durable-asset-class-with-real-upside-black-rock-fixed-income-cio-160259991.html'],\n",
       " ['BTC',\n",
       "  'A fake press release said the U.S. retail giant would allow customers to pay in Litecoin.',\n",
       "  'NEGATIVE',\n",
       "  0.9994137287139893,\n",
       "  'https://finance.yahoo.com/news/litecoin-whipsawed-by-walmart-hoax-exposing-extremely-adversarial-environment-of-crypto-163629770.html'],\n",
       " ['BTC',\n",
       "  'Bitcoin falls well short of first major resistance level at $46,745. Chainlink, ADA, and crypto total market cap all fall in early hours',\n",
       "  'NEGATIVE',\n",
       "  0.9995904564857483,\n",
       "  'https://finance.yahoo.com/news/bitcoin-price-prediction-bears-eyeing-133903929.html'],\n",
       " ['BTC',\n",
       "  'We are aware of the issue and are working to resolve it.',\n",
       "  'POSITIVE',\n",
       "  0.9979087710380554,\n",
       "  'https://finance.yahoo.com/video/cinema-stocks-jump-china-crowded-182932171.html'],\n",
       " ['BTC',\n",
       "  'Regulators are starting to take a hard look at crypto lending. Coinbase had been preparing to offer 4% on stablecoin USDC',\n",
       "  'NEGATIVE',\n",
       "  0.9973118305206299,\n",
       "  'https://finance.yahoo.com/news/this-crypto-looking-to-solve-the-sec-crackdown-is-up-6000-in-2021-135816741.html'],\n",
       " ['BTC',\n",
       "  'Fidelity executives met with SEC officials. Several firms are seeking approval for Bitcoin ETFs',\n",
       "  'NEGATIVE',\n",
       "  0.8364861011505127,\n",
       "  'https://finance.yahoo.com/news/fidelity-pushed-bitcoin-etf-approval-230824408.html'],\n",
       " ['BTC',\n",
       "  'Cathie Wood says Bitcoin price could reach ‘over $500,000’. She also praised regulator Gensler, saying ‘he understands crypto’',\n",
       "  'POSITIVE',\n",
       "  0.9950817227363586,\n",
       "  'https://finance.yahoo.com/news/bitcoin-bulls-cathie-wood-says-215220452.html']]"
      ]
     },
     "execution_count": 35,
     "metadata": {},
     "output_type": "execute_result"
    }
   ],
   "source": [
    "final_output = create_output_array(summaries, scores, cleaned_urls)\n",
    "final_output"
   ]
  },
  {
   "cell_type": "code",
   "execution_count": 36,
   "metadata": {},
   "outputs": [],
   "source": [
    "final_output.insert(0, ['Ticker', 'Summary', 'Label', 'Confidence', 'URL'])"
   ]
  },
  {
   "cell_type": "code",
   "execution_count": 37,
   "metadata": {},
   "outputs": [
    {
     "data": {
      "text/plain": [
       "[['Ticker', 'Summary', 'Label', 'Confidence', 'URL'],\n",
       " ['ADA',\n",
       "  'I preferred view of larger, more complex, 4th wave: EWP count and technical indicators.',\n",
       "  'NEGATIVE',\n",
       "  0.9294495582580566,\n",
       "  'https://finance.yahoo.com/news/cardano-ada-expected-pullback-came-170945648.html'],\n",
       " ['ADA',\n",
       "  'We are aware of the issue and are working to resolve it.',\n",
       "  'POSITIVE',\n",
       "  0.9979087710380554,\n",
       "  'https://finance.yahoo.com/news/cardano-smart-contracts-hit-public-103919542.html'],\n",
       " ['ADA',\n",
       "  'Sweden’s central bank governor says ‘private money usually collapses’. Cardano is set to beat its all-time high by 2021',\n",
       "  'NEGATIVE',\n",
       "  0.9995661973953247,\n",
       "  'https://finance.yahoo.com/news/bitcoin-price-cryptocurrencies-sweden-trading-stamps-ethereum-100929220.html'],\n",
       " ['ADA',\n",
       "  'Rieder says he owns ‘small pieces’ of the asset. Paulson recently told Bloomberg crypto will ‘eventually prove to be worthless’',\n",
       "  'NEGATIVE',\n",
       "  0.9993500113487244,\n",
       "  'https://finance.yahoo.com/news/cryptocurriencies-are-a-durable-asset-class-with-real-upside-black-rock-fixed-income-cio-160259991.html'],\n",
       " ['ADA',\n",
       "  'Greed Music is a crypto music label with Grammy Award winning producers, Cool & Dre.',\n",
       "  'NEGATIVE',\n",
       "  0.9760673642158508,\n",
       "  'https://finance.yahoo.com/news/greed-one-first-launch-cardano-180100414.html'],\n",
       " ['ADA',\n",
       "  '‘It’s the greatest time to enter the crypto market,’ says Bitwise’s Hougan. El Salvador’s new Bitcoin Law overshadowed events this week',\n",
       "  'POSITIVE',\n",
       "  0.9992268681526184,\n",
       "  'https://finance.yahoo.com/news/undaunted-by-bitcoin-flash-crash-true-believers-say-its-the-greatest-time-to-get-into-crypto-214309569.html'],\n",
       " ['ADA',\n",
       "  'Is the recent low of $2.47 a 4th wave correction already over? Wave-b is now underway, targeting as high as $2.97-3.17',\n",
       "  'NEGATIVE',\n",
       "  0.9983871579170227,\n",
       "  'https://finance.yahoo.com/news/cardano-ada-expect-pullback-another-192023603.html'],\n",
       " ['ADA',\n",
       "  'Largest cryptocurrency, Bitcoin, breached $50,000 for the second time in two weeks. Solana, Dogecoin and Cardano all posted four-digit gains',\n",
       "  'NEGATIVE',\n",
       "  0.6406136751174927,\n",
       "  'https://finance.yahoo.com/news/what-augusts-record-breaking-month-for-crypto-flows-means-for-bitcoin-163906276.html'],\n",
       " ['ADA',\n",
       "  'ADA has surpassed BNB to become third-largest cryptocurrency by market cap. Network prepares for mainnet launch later this month',\n",
       "  'POSITIVE',\n",
       "  0.8167056441307068,\n",
       "  'https://finance.yahoo.com/news/cardano-hits-3-mark-first-155147241.html'],\n",
       " ['ADA',\n",
       "  'The cryptocurrency’s price is down by more than 7% despite the blockchain launching smart contract features.',\n",
       "  'NEGATIVE',\n",
       "  0.9996849298477173,\n",
       "  'https://finance.yahoo.com/news/ada-down-7-today-despite-115931217.html'],\n",
       " ['ETH',\n",
       "  'Arbitrum has seen an incredible surge in deposits via Metamask. Defi ‘degens’ seek lower gas fees, lucrative DeFi opportunities',\n",
       "  'NEGATIVE',\n",
       "  0.9317285418510437,\n",
       "  'https://finance.yahoo.com/news/ethereum-layer-2-tvl-breaks-113845277.html'],\n",
       " ['ETH',\n",
       "  'Reversing a 6.10% gain from the previous week, Bitcoin ended the week at $46,038.9. Ethereum slid by 13.87% in the week ending 13th September',\n",
       "  'NEGATIVE',\n",
       "  0.9988366961479187,\n",
       "  'https://finance.yahoo.com/news/bitcoin-ethereum-weekly-technical-analysis-015342376.html'],\n",
       " ['ETH',\n",
       "  'Ether surged 36% in August, more than double Bitcoin’s return. Coin is outperforming Bitcoin by widest margin since at least 2018.',\n",
       "  'POSITIVE',\n",
       "  0.9076218605041504,\n",
       "  'https://finance.yahoo.com/news/nfts-defi-boost-ethereum-dims-154222433.html'],\n",
       " ['ETH',\n",
       "  'Sweden’s central bank governor says ‘private money usually collapses’. Cardano is set to beat its all-time high by 2021',\n",
       "  'NEGATIVE',\n",
       "  0.9995661973953247,\n",
       "  'https://finance.yahoo.com/news/bitcoin-price-cryptocurrencies-sweden-trading-stamps-ethereum-100929220.html'],\n",
       " ['ETH',\n",
       "  'Rally in non-fungible tokens is likely to continue, analyst says.',\n",
       "  'NEGATIVE',\n",
       "  0.9450134038925171,\n",
       "  'https://finance.yahoo.com/news/crypto-analyst-who-called-ethereums-climb-to-3400-reiterates-a-10000-call-195159080.html'],\n",
       " ['ETH',\n",
       "  'Shares of crypto-related stocks are trading higher. Bitcoin and Ethereum are trading higher on Thursday',\n",
       "  'NEGATIVE',\n",
       "  0.9426094889640808,\n",
       "  'https://finance.yahoo.com/news/why-bitcoin-related-ethereum-related-151329728.html'],\n",
       " ['ETH',\n",
       "  'Ethereum falls short of first major resistance level at $3,507. Litecoin falls below first major support level at $178',\n",
       "  'NEGATIVE',\n",
       "  0.9992786645889282,\n",
       "  'https://finance.yahoo.com/news/ethereum-litecoin-ripple-xrp-daily-001720248.html'],\n",
       " ['ETH',\n",
       "  'Benzinga visitors say they would put $5,000 into Solana, Ethereum. Solana has soared from $43.59 to $177.80 in the past month',\n",
       "  'POSITIVE',\n",
       "  0.9941855669021606,\n",
       "  'https://finance.yahoo.com/news/had-5-000-now-put-182159163.html'],\n",
       " ['ETH',\n",
       "  'Largest cryptocurrency, Bitcoin, breached $50,000 for the second time in two weeks. Solana, Dogecoin and Cardano all posted four-digit gains',\n",
       "  'NEGATIVE',\n",
       "  0.6406136155128479,\n",
       "  'https://finance.yahoo.com/news/what-augusts-record-breaking-month-for-crypto-flows-means-for-bitcoin-163906276.html'],\n",
       " ['ETH',\n",
       "  'We are aware of the issue and are working to resolve it.',\n",
       "  'POSITIVE',\n",
       "  0.9979087710380554,\n",
       "  'https://finance.yahoo.com/video/ethereum-hits-highest-levels-since-201441481.html'],\n",
       " ['BTC',\n",
       "  'Is Ravencoin a potential Alt Coin for the future?',\n",
       "  'NEGATIVE',\n",
       "  0.996727705001831,\n",
       "  'https://finance.yahoo.com/news/emerging-crypto-coins-could-ravencoin-194232498.html'],\n",
       " ['BTC',\n",
       "  'NFTs have entered into the market for the first time in 2021. Total Network Services, Corp founded in 2019 by blockchain innovator Thomas Carter',\n",
       "  'POSITIVE',\n",
       "  0.9918705821037292,\n",
       "  'https://finance.yahoo.com/news/beyond-satoshis-bitcoin-next-poster-213032640.html'],\n",
       " ['BTC',\n",
       "  'MicroStrategy CEO Michael Saylor has been a vocal backer of the cryptocurrency. Bitcoin traded around $44,500 on Monday, a pullback',\n",
       "  'NEGATIVE',\n",
       "  0.9408400058746338,\n",
       "  'https://finance.yahoo.com/amphtml/news/microstrategy-adds-another-5-050-172248283.html'],\n",
       " ['BTC',\n",
       "  'Rieder says he owns ‘small pieces’ of the asset. Paulson recently told Bloomberg crypto will ‘eventually prove to be worthless’',\n",
       "  'NEGATIVE',\n",
       "  0.9993500113487244,\n",
       "  'https://finance.yahoo.com/news/cryptocurriencies-are-a-durable-asset-class-with-real-upside-black-rock-fixed-income-cio-160259991.html'],\n",
       " ['BTC',\n",
       "  'A fake press release said the U.S. retail giant would allow customers to pay in Litecoin.',\n",
       "  'NEGATIVE',\n",
       "  0.9994137287139893,\n",
       "  'https://finance.yahoo.com/news/litecoin-whipsawed-by-walmart-hoax-exposing-extremely-adversarial-environment-of-crypto-163629770.html'],\n",
       " ['BTC',\n",
       "  'Bitcoin falls well short of first major resistance level at $46,745. Chainlink, ADA, and crypto total market cap all fall in early hours',\n",
       "  'NEGATIVE',\n",
       "  0.9995904564857483,\n",
       "  'https://finance.yahoo.com/news/bitcoin-price-prediction-bears-eyeing-133903929.html'],\n",
       " ['BTC',\n",
       "  'We are aware of the issue and are working to resolve it.',\n",
       "  'POSITIVE',\n",
       "  0.9979087710380554,\n",
       "  'https://finance.yahoo.com/video/cinema-stocks-jump-china-crowded-182932171.html'],\n",
       " ['BTC',\n",
       "  'Regulators are starting to take a hard look at crypto lending. Coinbase had been preparing to offer 4% on stablecoin USDC',\n",
       "  'NEGATIVE',\n",
       "  0.9973118305206299,\n",
       "  'https://finance.yahoo.com/news/this-crypto-looking-to-solve-the-sec-crackdown-is-up-6000-in-2021-135816741.html'],\n",
       " ['BTC',\n",
       "  'Fidelity executives met with SEC officials. Several firms are seeking approval for Bitcoin ETFs',\n",
       "  'NEGATIVE',\n",
       "  0.8364861011505127,\n",
       "  'https://finance.yahoo.com/news/fidelity-pushed-bitcoin-etf-approval-230824408.html'],\n",
       " ['BTC',\n",
       "  'Cathie Wood says Bitcoin price could reach ‘over $500,000’. She also praised regulator Gensler, saying ‘he understands crypto’',\n",
       "  'POSITIVE',\n",
       "  0.9950817227363586,\n",
       "  'https://finance.yahoo.com/news/bitcoin-bulls-cathie-wood-says-215220452.html']]"
      ]
     },
     "execution_count": 37,
     "metadata": {},
     "output_type": "execute_result"
    }
   ],
   "source": [
    "final_output"
   ]
  },
  {
   "cell_type": "code",
   "execution_count": 38,
   "metadata": {},
   "outputs": [],
   "source": [
    "import csv\n",
    "with open('assetsummaries.csv', mode='w', newline='') as f:\n",
    "    csv_writer = csv.writer(f, delimiter=',', quotechar='\"', quoting=csv.QUOTE_MINIMAL)\n",
    "    csv_writer.writerows(final_output)"
   ]
  }
 ],
 "metadata": {
  "kernelspec": {
   "display_name": "Python 3",
   "language": "python",
   "name": "python3"
  },
  "language_info": {
   "codemirror_mode": {
    "name": "ipython",
    "version": 3
   },
   "file_extension": ".py",
   "mimetype": "text/x-python",
   "name": "python",
   "nbconvert_exporter": "python",
   "pygments_lexer": "ipython3",
   "version": "3.8.5"
  }
 },
 "nbformat": 4,
 "nbformat_minor": 4
}
