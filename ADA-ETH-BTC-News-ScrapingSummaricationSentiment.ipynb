{
 "cells": [
  {
   "cell_type": "markdown",
   "metadata": {},
   "source": [
    "# 1. Install and Import Baseline Dependencies"
   ]
  },
  {
   "cell_type": "code",
   "execution_count": 1,
   "metadata": {},
   "outputs": [
    {
     "name": "stdout",
     "output_type": "stream",
     "text": [
      "Requirement already satisfied: transformers in c:\\users\\moto\\anaconda3\\lib\\site-packages (4.5.1)\n",
      "Requirement already satisfied: filelock in c:\\users\\moto\\anaconda3\\lib\\site-packages (from transformers) (3.0.12)\n",
      "Requirement already satisfied: regex!=2019.12.17 in c:\\users\\moto\\anaconda3\\lib\\site-packages (from transformers) (2021.8.3)\n",
      "Requirement already satisfied: packaging in c:\\users\\moto\\anaconda3\\lib\\site-packages (from transformers) (21.0)\n",
      "Requirement already satisfied: numpy>=1.17 in c:\\users\\moto\\anaconda3\\lib\\site-packages (from transformers) (1.19.5)\n",
      "Requirement already satisfied: tqdm>=4.27 in c:\\users\\moto\\anaconda3\\lib\\site-packages (from transformers) (4.62.1)\n",
      "Requirement already satisfied: requests in c:\\users\\moto\\anaconda3\\lib\\site-packages (from transformers) (2.25.1)\n",
      "Requirement already satisfied: sacremoses in c:\\users\\moto\\anaconda3\\lib\\site-packages (from transformers) (0.0.45)\n",
      "Requirement already satisfied: tokenizers<0.11,>=0.10.1 in c:\\users\\moto\\anaconda3\\lib\\site-packages (from transformers) (0.10.2)\n",
      "Requirement already satisfied: colorama in c:\\users\\moto\\anaconda3\\lib\\site-packages (from tqdm>=4.27->transformers) (0.4.4)\n",
      "Requirement already satisfied: pyparsing>=2.0.2 in c:\\users\\moto\\anaconda3\\lib\\site-packages (from packaging->transformers) (2.4.7)\n",
      "Requirement already satisfied: chardet<5,>=3.0.2 in c:\\users\\moto\\anaconda3\\lib\\site-packages (from requests->transformers) (4.0.0)\n",
      "Requirement already satisfied: idna<3,>=2.5 in c:\\users\\moto\\anaconda3\\lib\\site-packages (from requests->transformers) (2.10)\n",
      "Requirement already satisfied: urllib3<1.27,>=1.21.1 in c:\\users\\moto\\anaconda3\\lib\\site-packages (from requests->transformers) (1.26.6)\n",
      "Requirement already satisfied: certifi>=2017.4.17 in c:\\users\\moto\\anaconda3\\lib\\site-packages (from requests->transformers) (2021.5.30)\n",
      "Requirement already satisfied: six in c:\\users\\moto\\anaconda3\\lib\\site-packages (from sacremoses->transformers) (1.15.0)\n",
      "Requirement already satisfied: click in c:\\users\\moto\\anaconda3\\lib\\site-packages (from sacremoses->transformers) (7.1.2)\n",
      "Requirement already satisfied: joblib in c:\\users\\moto\\anaconda3\\lib\\site-packages (from sacremoses->transformers) (1.0.1)\n"
     ]
    },
    {
     "name": "stderr",
     "output_type": "stream",
     "text": [
      "WARNING: Ignoring invalid distribution -umpy (c:\\users\\moto\\anaconda3\\lib\\site-packages)\n",
      "WARNING: Ignoring invalid distribution -umpy (c:\\users\\moto\\anaconda3\\lib\\site-packages)\n",
      "WARNING: Ignoring invalid distribution -umpy (c:\\users\\moto\\anaconda3\\lib\\site-packages)\n",
      "WARNING: Ignoring invalid distribution -umpy (c:\\users\\moto\\anaconda3\\lib\\site-packages)\n",
      "WARNING: Ignoring invalid distribution -umpy (c:\\users\\moto\\anaconda3\\lib\\site-packages)\n",
      "WARNING: Ignoring invalid distribution -umpy (c:\\users\\moto\\anaconda3\\lib\\site-packages)\n"
     ]
    }
   ],
   "source": [
    "!pip install transformers"
   ]
  },
  {
   "cell_type": "code",
   "execution_count": 2,
   "metadata": {},
   "outputs": [],
   "source": [
    "from transformers import PegasusTokenizer, PegasusForConditionalGeneration\n",
    "from bs4 import BeautifulSoup\n",
    "import requests"
   ]
  },
  {
   "cell_type": "markdown",
   "metadata": {},
   "source": [
    "# 2. Setup Summarization Model"
   ]
  },
  {
   "cell_type": "code",
   "execution_count": 3,
   "metadata": {},
   "outputs": [],
   "source": [
    "model_name = \"human-centered-summarization/financial-summarization-pegasus\"\n",
    "tokenizer = PegasusTokenizer.from_pretrained(model_name)\n",
    "model = PegasusForConditionalGeneration.from_pretrained(model_name)"
   ]
  },
  {
   "cell_type": "markdown",
   "metadata": {},
   "source": [
    "# 3. Summarize a Single Article"
   ]
  },
  {
   "cell_type": "code",
   "execution_count": 4,
   "metadata": {},
   "outputs": [],
   "source": [
    "url = \"https://finance.yahoo.com/news/bitcoin-crashes-below-50000-163721506.html\"\n",
    "r = requests.get(url)\n",
    "soup = BeautifulSoup(r.text, 'html.parser')\n",
    "paragraphs = soup.find_all('p')"
   ]
  },
  {
   "cell_type": "code",
   "execution_count": 5,
   "metadata": {},
   "outputs": [
    {
     "data": {
      "text/plain": [
       "'Thank you for your patience.'"
      ]
     },
     "execution_count": 5,
     "metadata": {},
     "output_type": "execute_result"
    }
   ],
   "source": [
    "paragraphs[0].text"
   ]
  },
  {
   "cell_type": "code",
   "execution_count": 6,
   "metadata": {},
   "outputs": [],
   "source": [
    "text = [paragraph.text for paragraph in paragraphs]\n",
    "words = ' '.join(text).split(' ')[:400]\n",
    "ARTICLE = ' '.join(words)"
   ]
  },
  {
   "cell_type": "code",
   "execution_count": 7,
   "metadata": {},
   "outputs": [
    {
     "data": {
      "text/plain": [
       "'Thank you for your patience. Our engineers are working quickly to resolve the issue.'"
      ]
     },
     "execution_count": 7,
     "metadata": {},
     "output_type": "execute_result"
    }
   ],
   "source": [
    "ARTICLE"
   ]
  },
  {
   "cell_type": "code",
   "execution_count": 8,
   "metadata": {},
   "outputs": [],
   "source": [
    "input_ids = tokenizer.encode(ARTICLE, return_tensors='pt')\n",
    "output = model.generate(input_ids, max_length=55, num_beams=5, early_stopping=True)\n",
    "summary = tokenizer.decode(output[0], skip_special_tokens=True)"
   ]
  },
  {
   "cell_type": "code",
   "execution_count": 9,
   "metadata": {},
   "outputs": [
    {
     "data": {
      "text/plain": [
       "'We are aware of the issue and are working to resolve it.'"
      ]
     },
     "execution_count": 9,
     "metadata": {},
     "output_type": "execute_result"
    }
   ],
   "source": [
    "summary"
   ]
  },
  {
   "cell_type": "markdown",
   "metadata": {},
   "source": [
    "# 4. Building a News and Sentiment Pipeline"
   ]
  },
  {
   "cell_type": "code",
   "execution_count": 10,
   "metadata": {},
   "outputs": [],
   "source": [
    "monitored_tickers = ['ADA', 'ETH', 'BTC']"
   ]
  },
  {
   "cell_type": "markdown",
   "metadata": {},
   "source": [
    "## 4.1. Search for Stock News using Google and Yahoo Finance"
   ]
  },
  {
   "cell_type": "code",
   "execution_count": 11,
   "metadata": {},
   "outputs": [],
   "source": [
    "def search_for_stock_news_urls(ticker):\n",
    "    search_url = \"https://www.google.com/search?q=yahoo+finance+{}&tbm=nws\".format(ticker)\n",
    "    r = requests.get(search_url)\n",
    "    soup = BeautifulSoup(r.text, 'html.parser')\n",
    "    atags = soup.find_all('a')\n",
    "    hrefs = [link['href'] for link in atags]\n",
    "    return hrefs "
   ]
  },
  {
   "cell_type": "code",
   "execution_count": 12,
   "metadata": {},
   "outputs": [
    {
     "data": {
      "text/plain": [
       "{'ADA': ['/?sa=X&ved=0ahUKEwik5fnniu7yAhU3BGMBHR77CtkQOwgC',\n",
       "  '/?output=search&ie=UTF-8&tbm=nws&sa=X&ved=0ahUKEwik5fnniu7yAhU3BGMBHR77CtkQPAgE',\n",
       "  '/search?q=yahoo+finance+ADA&tbm=nws&ie=UTF-8&gbv=1&sei=4v43YaTsKbeIjLsPnvaryA0',\n",
       "  '/search?q=yahoo+finance+ADA&ie=UTF-8&source=lnms&sa=X&ved=0ahUKEwik5fnniu7yAhU3BGMBHR77CtkQ_AUIBygA',\n",
       "  '/search?q=yahoo+finance+ADA&ie=UTF-8&tbm=isch&source=lnms&sa=X&ved=0ahUKEwik5fnniu7yAhU3BGMBHR77CtkQ_AUICSgC',\n",
       "  '/search?q=yahoo+finance+ADA&ie=UTF-8&tbm=shop&source=lnms&sa=X&ved=0ahUKEwik5fnniu7yAhU3BGMBHR77CtkQ_AUICigD',\n",
       "  'https://maps.google.com/maps?q=yahoo+finance+ADA&um=1&ie=UTF-8&sa=X&ved=0ahUKEwik5fnniu7yAhU3BGMBHR77CtkQ_AUICygE',\n",
       "  '/search?q=yahoo+finance+ADA&ie=UTF-8&tbm=vid&source=lnms&sa=X&ved=0ahUKEwik5fnniu7yAhU3BGMBHR77CtkQ_AUIDCgF',\n",
       "  '/search?q=yahoo+finance+ADA&ie=UTF-8&tbm=bks&source=lnms&sa=X&ved=0ahUKEwik5fnniu7yAhU3BGMBHR77CtkQ_AUIDSgG',\n",
       "  '/advanced_search',\n",
       "  '/search?q=yahoo+finance+ADA&ie=UTF-8&tbm=nws&source=lnt&tbs=qdr:h&sa=X&ved=0ahUKEwik5fnniu7yAhU3BGMBHR77CtkQpwUIDw',\n",
       "  '/search?q=yahoo+finance+ADA&ie=UTF-8&tbm=nws&source=lnt&tbs=qdr:d&sa=X&ved=0ahUKEwik5fnniu7yAhU3BGMBHR77CtkQpwUIEA',\n",
       "  '/search?q=yahoo+finance+ADA&ie=UTF-8&tbm=nws&source=lnt&tbs=qdr:w&sa=X&ved=0ahUKEwik5fnniu7yAhU3BGMBHR77CtkQpwUIEQ',\n",
       "  '/search?q=yahoo+finance+ADA&ie=UTF-8&tbm=nws&source=lnt&tbs=qdr:m&sa=X&ved=0ahUKEwik5fnniu7yAhU3BGMBHR77CtkQpwUIEg',\n",
       "  '/search?q=yahoo+finance+ADA&ie=UTF-8&tbm=nws&source=lnt&tbs=qdr:y&sa=X&ved=0ahUKEwik5fnniu7yAhU3BGMBHR77CtkQpwUIEw',\n",
       "  '/search?q=yahoo+finance+ADA&ie=UTF-8&tbm=nws&source=lnt&tbs=ar:1&sa=X&ved=0ahUKEwik5fnniu7yAhU3BGMBHR77CtkQpwUIFA',\n",
       "  '/search?q=yahoo+finance+ADA&ie=UTF-8&tbm=nws&source=lnt&tbs=sbd:1&sa=X&ved=0ahUKEwik5fnniu7yAhU3BGMBHR77CtkQpwUIFg',\n",
       "  '/url?q=https://finance.yahoo.com/news/what-augusts-record-breaking-month-for-crypto-flows-means-for-bitcoin-163906276.html&sa=U&ved=2ahUKEwik5fnniu7yAhU3BGMBHR77CtkQxfQBMAB6BAgAEAE&usg=AOvVaw2fcypMx5v9uJPeV44ySuH4',\n",
       "  '/url?q=https://finance.yahoo.com/news/what-augusts-record-breaking-month-for-crypto-flows-means-for-bitcoin-163906276.html&sa=U&ved=2ahUKEwik5fnniu7yAhU3BGMBHR77CtkQ0Y8FMAB6BAgAEAI&usg=AOvVaw0x8fvwunCNCQ5uHgViV8lu',\n",
       "  '/url?q=https://finance.yahoo.com/news/cardano-ada-expect-pullback-another-192023603.html&sa=U&ved=2ahUKEwik5fnniu7yAhU3BGMBHR77CtkQxfQBMAF6BAgIEAE&usg=AOvVaw2sqz3KuP3ji-15bow4wR18',\n",
       "  '/url?q=https://finance.yahoo.com/news/cardano-ada-expect-pullback-another-192023603.html&sa=U&ved=2ahUKEwik5fnniu7yAhU3BGMBHR77CtkQ0Y8FMAF6BAgIEAI&usg=AOvVaw1fuVy1X2hOiSBCnIpke9eT',\n",
       "  '/url?q=https://finance.yahoo.com/video/explaining-crypto-price-plunge-212051886.html&sa=U&ved=2ahUKEwik5fnniu7yAhU3BGMBHR77CtkQxfQBMAJ6BAgJEAE&usg=AOvVaw1Av4BWBpYK2vcbJ8CjYWOk',\n",
       "  '/url?q=https://finance.yahoo.com/video/explaining-crypto-price-plunge-212051886.html&sa=U&ved=2ahUKEwik5fnniu7yAhU3BGMBHR77CtkQ0Y8FMAJ6BAgJEAI&usg=AOvVaw23pVhIAdzBk3Hcekun6dRE',\n",
       "  '/url?q=https://finance.yahoo.com/news/cardano-ada-reaches-time-high-221801619.html&sa=U&ved=2ahUKEwik5fnniu7yAhU3BGMBHR77CtkQxfQBMAN6BAgHEAE&usg=AOvVaw3oe2oIx2vcjjohjmSbdIBp',\n",
       "  '/url?q=https://finance.yahoo.com/news/cardano-ada-reaches-time-high-221801619.html&sa=U&ved=2ahUKEwik5fnniu7yAhU3BGMBHR77CtkQ0Y8FMAN6BAgHEAI&usg=AOvVaw14GXxbUvV2_xDHUGfTjbul',\n",
       "  '/url?q=https://finance.yahoo.com/news/cardano-hits-3-mark-first-155147241.html&sa=U&ved=2ahUKEwik5fnniu7yAhU3BGMBHR77CtkQxfQBMAR6BAgGEAE&usg=AOvVaw0ymj7E1_Y5ZTQ2prjhoi3z',\n",
       "  '/url?q=https://finance.yahoo.com/news/cardano-hits-3-mark-first-155147241.html&sa=U&ved=2ahUKEwik5fnniu7yAhU3BGMBHR77CtkQ0Y8FMAR6BAgGEAI&usg=AOvVaw3XK17UmQFKOO4Z-rqd8z6Z',\n",
       "  '/url?q=https://finance.yahoo.com/video/ethereum-hits-highest-levels-since-201441481.html&sa=U&ved=2ahUKEwik5fnniu7yAhU3BGMBHR77CtkQxfQBMAV6BAgBEAE&usg=AOvVaw1h-c_vFri6gjwmzwwSydjk',\n",
       "  '/url?q=https://finance.yahoo.com/video/ethereum-hits-highest-levels-since-201441481.html&sa=U&ved=2ahUKEwik5fnniu7yAhU3BGMBHR77CtkQ0Y8FMAV6BAgBEAI&usg=AOvVaw0F5pLa8BVOhgfWECUXDLQ_',\n",
       "  '/url?q=https://finance.yahoo.com/news/institutions-load-24m-eth-ada-142945976.html&sa=U&ved=2ahUKEwik5fnniu7yAhU3BGMBHR77CtkQxfQBMAZ6BAgEEAE&usg=AOvVaw0afYFRP5yo5-t8vu-bn_ND',\n",
       "  '/url?q=https://finance.yahoo.com/news/institutions-load-24m-eth-ada-142945976.html&sa=U&ved=2ahUKEwik5fnniu7yAhU3BGMBHR77CtkQ0Y8FMAZ6BAgEEAI&usg=AOvVaw2jSOni1Q88jE5RaBs76C8w',\n",
       "  '/url?q=https://finance.yahoo.com/news/cardano-launch-erc-20-ethereum-110017667.html&sa=U&ved=2ahUKEwik5fnniu7yAhU3BGMBHR77CtkQxfQBMAd6BAgFEAE&usg=AOvVaw0SaDKRrHNr-uNwOgUn5qup',\n",
       "  '/url?q=https://finance.yahoo.com/news/cardano-launch-erc-20-ethereum-110017667.html&sa=U&ved=2ahUKEwik5fnniu7yAhU3BGMBHR77CtkQ0Y8FMAd6BAgFEAI&usg=AOvVaw0gPAKXENBWAeADPtSLxFQq',\n",
       "  '/url?q=https://finance.yahoo.com/news/cardaswap-finance-determined-turn-uniswap-180900658.html&sa=U&ved=2ahUKEwik5fnniu7yAhU3BGMBHR77CtkQxfQBMAh6BAgDEAE&usg=AOvVaw1DJ6hgnLXdI4gCJeoW304m',\n",
       "  '/url?q=https://finance.yahoo.com/news/cardaswap-finance-determined-turn-uniswap-180900658.html&sa=U&ved=2ahUKEwik5fnniu7yAhU3BGMBHR77CtkQ0Y8FMAh6BAgDEAI&usg=AOvVaw0Sn1wtmsDBnPBNiZpjZnyV',\n",
       "  '/url?q=https://finance.yahoo.com/news/ada-sol-lead-way-crypto-110019476.html&sa=U&ved=2ahUKEwik5fnniu7yAhU3BGMBHR77CtkQxfQBMAl6BAgCEAE&usg=AOvVaw2ikgNuNb0brTnTOKzhZcQp',\n",
       "  '/url?q=https://finance.yahoo.com/news/ada-sol-lead-way-crypto-110019476.html&sa=U&ved=2ahUKEwik5fnniu7yAhU3BGMBHR77CtkQ0Y8FMAl6BAgCEAI&usg=AOvVaw03dPe5v7PgWmQXiGebzXo1',\n",
       "  '/search?q=yahoo+finance+ADA&ie=UTF-8&tbm=nws&ei=4v43YaTsKbeIjLsPnvaryA0&start=10&sa=N',\n",
       "  '/url?q=https://support.google.com/websearch%3Fp%3Dws_settings_location%26hl%3Den&sa=U&ved=0ahUKEwik5fnniu7yAhU3BGMBHR77CtkQty4IVQ&usg=AOvVaw3IPWJ-hLHVpWTwfjtRGCtZ',\n",
       "  '/url?q=https://accounts.google.com/ServiceLogin%3Fcontinue%3Dhttps://www.google.com/search%253Fq%253Dyahoo%252Bfinance%252BADA%2526tbm%253Dnws%26hl%3Den&sa=U&ved=0ahUKEwik5fnniu7yAhU3BGMBHR77CtkQxs8CCFY&usg=AOvVaw1_R5x-Bz56GWVdarHfBVNU',\n",
       "  'https://www.google.com/preferences?hl=en&fg=1&sa=X&ved=0ahUKEwik5fnniu7yAhU3BGMBHR77CtkQ5fUCCFc',\n",
       "  'https://policies.google.com/privacy?hl=en&fg=1',\n",
       "  'https://policies.google.com/terms?hl=en&fg=1'],\n",
       " 'ETH': ['/?sa=X&ved=0ahUKEwiEppnoiu7yAhVK8uAKHfJyD8oQOwgC',\n",
       "  '/?output=search&ie=UTF-8&tbm=nws&sa=X&ved=0ahUKEwiEppnoiu7yAhVK8uAKHfJyD8oQPAgE',\n",
       "  '/search?q=yahoo+finance+ETH&tbm=nws&ie=UTF-8&gbv=1&sei=4_43YcSoDMrkgwfy5b3QDA',\n",
       "  '/search?q=yahoo+finance+ETH&ie=UTF-8&source=lnms&sa=X&ved=0ahUKEwiEppnoiu7yAhVK8uAKHfJyD8oQ_AUIBygA',\n",
       "  '/search?q=yahoo+finance+ETH&ie=UTF-8&tbm=shop&source=lnms&sa=X&ved=0ahUKEwiEppnoiu7yAhVK8uAKHfJyD8oQ_AUICSgC',\n",
       "  '/search?q=yahoo+finance+ETH&ie=UTF-8&tbm=vid&source=lnms&sa=X&ved=0ahUKEwiEppnoiu7yAhVK8uAKHfJyD8oQ_AUICigD',\n",
       "  '/search?q=yahoo+finance+ETH&ie=UTF-8&tbm=isch&source=lnms&sa=X&ved=0ahUKEwiEppnoiu7yAhVK8uAKHfJyD8oQ_AUICygE',\n",
       "  'https://maps.google.com/maps?q=yahoo+finance+ETH&um=1&ie=UTF-8&sa=X&ved=0ahUKEwiEppnoiu7yAhVK8uAKHfJyD8oQ_AUIDCgF',\n",
       "  '/search?q=yahoo+finance+ETH&ie=UTF-8&tbm=bks&source=lnms&sa=X&ved=0ahUKEwiEppnoiu7yAhVK8uAKHfJyD8oQ_AUIDSgG',\n",
       "  '/advanced_search',\n",
       "  '/search?q=yahoo+finance+ETH&ie=UTF-8&tbm=nws&source=lnt&tbs=qdr:h&sa=X&ved=0ahUKEwiEppnoiu7yAhVK8uAKHfJyD8oQpwUIDw',\n",
       "  '/search?q=yahoo+finance+ETH&ie=UTF-8&tbm=nws&source=lnt&tbs=qdr:d&sa=X&ved=0ahUKEwiEppnoiu7yAhVK8uAKHfJyD8oQpwUIEA',\n",
       "  '/search?q=yahoo+finance+ETH&ie=UTF-8&tbm=nws&source=lnt&tbs=qdr:w&sa=X&ved=0ahUKEwiEppnoiu7yAhVK8uAKHfJyD8oQpwUIEQ',\n",
       "  '/search?q=yahoo+finance+ETH&ie=UTF-8&tbm=nws&source=lnt&tbs=qdr:m&sa=X&ved=0ahUKEwiEppnoiu7yAhVK8uAKHfJyD8oQpwUIEg',\n",
       "  '/search?q=yahoo+finance+ETH&ie=UTF-8&tbm=nws&source=lnt&tbs=qdr:y&sa=X&ved=0ahUKEwiEppnoiu7yAhVK8uAKHfJyD8oQpwUIEw',\n",
       "  '/search?q=yahoo+finance+ETH&ie=UTF-8&tbm=nws&source=lnt&tbs=ar:1&sa=X&ved=0ahUKEwiEppnoiu7yAhVK8uAKHfJyD8oQpwUIFA',\n",
       "  '/search?q=yahoo+finance+ETH&ie=UTF-8&tbm=nws&source=lnt&tbs=sbd:1&sa=X&ved=0ahUKEwiEppnoiu7yAhVK8uAKHfJyD8oQpwUIFg',\n",
       "  '/url?q=https://finance.yahoo.com/news/bitcoin-crashes-below-50000-163721506.html&sa=U&ved=2ahUKEwiEppnoiu7yAhVK8uAKHfJyD8oQxfQBegQIARAB&usg=AOvVaw0K8cVPMfT5I4w0ZjUhfZnE',\n",
       "  '/url?q=https://finance.yahoo.com/news/bitcoin-crashes-below-50000-163721506.html&sa=U&ved=2ahUKEwiEppnoiu7yAhVK8uAKHfJyD8oQ0Y8FegQIARAC&usg=AOvVaw0ZGWngHMCxJytNd-swd7Ms',\n",
       "  '/url?q=https://finance.yahoo.com/news/why-bitcoin-related-ethereum-related-151300113.html&sa=U&ved=2ahUKEwiEppnoiu7yAhVK8uAKHfJyD8oQxfQBegQICBAB&usg=AOvVaw0SpYb3CwzFwMXgc4nS7sqZ',\n",
       "  '/url?q=https://finance.yahoo.com/news/why-bitcoin-related-ethereum-related-151300113.html&sa=U&ved=2ahUKEwiEppnoiu7yAhVK8uAKHfJyD8oQ0Y8FegQICBAC&usg=AOvVaw3iAMrISydo1VZCdL7tKqHj',\n",
       "  '/url?q=https://finance.yahoo.com/news/what-augusts-record-breaking-month-for-crypto-flows-means-for-bitcoin-163906276.html&sa=U&ved=2ahUKEwiEppnoiu7yAhVK8uAKHfJyD8oQxfQBegQICRAB&usg=AOvVaw0vbUEzGrnuffQkxEZzWvxx',\n",
       "  '/url?q=https://finance.yahoo.com/news/what-augusts-record-breaking-month-for-crypto-flows-means-for-bitcoin-163906276.html&sa=U&ved=2ahUKEwiEppnoiu7yAhVK8uAKHfJyD8oQ0Y8FegQICRAC&usg=AOvVaw26gugcewQUAik0dlkQoAas',\n",
       "  '/url?q=https://finance.yahoo.com/news/bitcoin-ether-war-standard-chartered-115729714.html&sa=U&ved=2ahUKEwiEppnoiu7yAhVK8uAKHfJyD8oQxfQBegQIBxAB&usg=AOvVaw0ObvnVkVGuxx1ltMv-p3jW',\n",
       "  '/url?q=https://finance.yahoo.com/news/bitcoin-ether-war-standard-chartered-115729714.html&sa=U&ved=2ahUKEwiEppnoiu7yAhVK8uAKHfJyD8oQ0Y8FegQIBxAC&usg=AOvVaw2_HeDKHDfwzAItQHhbH-6J',\n",
       "  '/url?q=https://finance.yahoo.com/news/ethereum-litecoin-ripple-xrp-daily-001447430.html&sa=U&ved=2ahUKEwiEppnoiu7yAhVK8uAKHfJyD8oQxfQBegQIAxAB&usg=AOvVaw0Tuw2dq0KElpx7EEt0c3yw',\n",
       "  '/url?q=https://finance.yahoo.com/news/ethereum-litecoin-ripple-xrp-daily-001447430.html&sa=U&ved=2ahUKEwiEppnoiu7yAhVK8uAKHfJyD8oQ0Y8FegQIAxAC&usg=AOvVaw3lg6ADAoHVRZ4y4k4w9a-x',\n",
       "  '/url?q=https://finance.yahoo.com/news/token-ethereum-rival-solana-jumps-062253042.html&sa=U&ved=2ahUKEwiEppnoiu7yAhVK8uAKHfJyD8oQxfQBegQIBBAB&usg=AOvVaw2wiw7Qz8-6pyWunvLQ-06Z',\n",
       "  '/url?q=https://finance.yahoo.com/news/token-ethereum-rival-solana-jumps-062253042.html&sa=U&ved=2ahUKEwiEppnoiu7yAhVK8uAKHfJyD8oQ0Y8FegQIBBAC&usg=AOvVaw0IEu88QHMQB1x5QzOeUsqh',\n",
       "  '/url?q=https://finance.yahoo.com/news/bitcoin-digital-gold-significant-upward-111258831.html&sa=U&ved=2ahUKEwiEppnoiu7yAhVK8uAKHfJyD8oQxfQBegQIAhAB&usg=AOvVaw0WO470wjI01fvMi9xaR5AS',\n",
       "  '/url?q=https://finance.yahoo.com/news/bitcoin-digital-gold-significant-upward-111258831.html&sa=U&ved=2ahUKEwiEppnoiu7yAhVK8uAKHfJyD8oQ0Y8FegQIAhAC&usg=AOvVaw1AH0bd6UxxWa-reDJyOmeb',\n",
       "  '/url?q=https://finance.yahoo.com/news/bitcoin-ethereum-weekly-technical-analysis-022133478.html&sa=U&ved=2ahUKEwiEppnoiu7yAhVK8uAKHfJyD8oQxfQBegQIBhAB&usg=AOvVaw3O-aNIuuyzpXjzcESN3w2n',\n",
       "  '/url?q=https://finance.yahoo.com/news/bitcoin-ethereum-weekly-technical-analysis-022133478.html&sa=U&ved=2ahUKEwiEppnoiu7yAhVK8uAKHfJyD8oQ0Y8FegQIBhAC&usg=AOvVaw3Lk3CLcQepF5hD-14uOcLY',\n",
       "  '/url?q=https://finance.yahoo.com/news/ethereum-litecoin-ripple-xrp-daily-005205258.html&sa=U&ved=2ahUKEwiEppnoiu7yAhVK8uAKHfJyD8oQxfQBegQIBRAB&usg=AOvVaw2gDGPOuCpHfQGqstZp4QjS',\n",
       "  '/url?q=https://finance.yahoo.com/news/ethereum-litecoin-ripple-xrp-daily-005205258.html&sa=U&ved=2ahUKEwiEppnoiu7yAhVK8uAKHfJyD8oQ0Y8FegQIBRAC&usg=AOvVaw2ZRrGgbtffQADJ5PvRit_6',\n",
       "  '/url?q=https://finance.yahoo.com/news/ethereum-litecoin-ripple-xrp-daily-003506829.html&sa=U&ved=2ahUKEwiEppnoiu7yAhVK8uAKHfJyD8oQxfQBegQIABAB&usg=AOvVaw1Cov_apik-2lbwP6Me2s3i',\n",
       "  '/url?q=https://finance.yahoo.com/news/ethereum-litecoin-ripple-xrp-daily-003506829.html&sa=U&ved=2ahUKEwiEppnoiu7yAhVK8uAKHfJyD8oQ0Y8FegQIABAC&usg=AOvVaw39I7nP5KDaDd9IDixkXZKs',\n",
       "  '/search?q=yahoo+finance+ETH&ie=UTF-8&tbm=nws&ei=4_43YcSoDMrkgwfy5b3QDA&start=10&sa=N',\n",
       "  '/url?q=https://support.google.com/websearch%3Fp%3Dws_settings_location%26hl%3Den&sa=U&ved=0ahUKEwiEppnoiu7yAhVK8uAKHfJyD8oQty4IVQ&usg=AOvVaw0Z4iZ745JE2MqcgS8DYoSe',\n",
       "  '/url?q=https://accounts.google.com/ServiceLogin%3Fcontinue%3Dhttps://www.google.com/search%253Fq%253Dyahoo%252Bfinance%252BETH%2526tbm%253Dnws%26hl%3Den&sa=U&ved=0ahUKEwiEppnoiu7yAhVK8uAKHfJyD8oQxs8CCFY&usg=AOvVaw33BSndWOdo7HpybP0wIA1q',\n",
       "  'https://www.google.com/preferences?hl=en&fg=1&sa=X&ved=0ahUKEwiEppnoiu7yAhVK8uAKHfJyD8oQ5fUCCFc',\n",
       "  'https://policies.google.com/privacy?hl=en&fg=1',\n",
       "  'https://policies.google.com/terms?hl=en&fg=1'],\n",
       " 'BTC': ['/?sa=X&ved=0ahUKEwi11sDoiu7yAhUgAWMBHUpPBeMQOwgC',\n",
       "  '/?output=search&ie=UTF-8&tbm=nws&sa=X&ved=0ahUKEwi11sDoiu7yAhUgAWMBHUpPBeMQPAgE',\n",
       "  '/search?q=yahoo+finance+BTC&tbm=nws&ie=UTF-8&gbv=1&sei=4_43YfXYM6CCjLsPyp6VmA4',\n",
       "  '/search?q=yahoo+finance+BTC&ie=UTF-8&source=lnms&sa=X&ved=0ahUKEwi11sDoiu7yAhUgAWMBHUpPBeMQ_AUIBygA',\n",
       "  '/search?q=yahoo+finance+BTC&ie=UTF-8&tbm=shop&source=lnms&sa=X&ved=0ahUKEwi11sDoiu7yAhUgAWMBHUpPBeMQ_AUICSgC',\n",
       "  '/search?q=yahoo+finance+BTC&ie=UTF-8&tbm=vid&source=lnms&sa=X&ved=0ahUKEwi11sDoiu7yAhUgAWMBHUpPBeMQ_AUICigD',\n",
       "  '/search?q=yahoo+finance+BTC&ie=UTF-8&tbm=isch&source=lnms&sa=X&ved=0ahUKEwi11sDoiu7yAhUgAWMBHUpPBeMQ_AUICygE',\n",
       "  'https://maps.google.com/maps?q=yahoo+finance+BTC&um=1&ie=UTF-8&sa=X&ved=0ahUKEwi11sDoiu7yAhUgAWMBHUpPBeMQ_AUIDCgF',\n",
       "  '/search?q=yahoo+finance+BTC&ie=UTF-8&tbm=bks&source=lnms&sa=X&ved=0ahUKEwi11sDoiu7yAhUgAWMBHUpPBeMQ_AUIDSgG',\n",
       "  '/advanced_search',\n",
       "  '/search?q=yahoo+finance+BTC&ie=UTF-8&tbm=nws&source=lnt&tbs=qdr:h&sa=X&ved=0ahUKEwi11sDoiu7yAhUgAWMBHUpPBeMQpwUIDw',\n",
       "  '/search?q=yahoo+finance+BTC&ie=UTF-8&tbm=nws&source=lnt&tbs=qdr:d&sa=X&ved=0ahUKEwi11sDoiu7yAhUgAWMBHUpPBeMQpwUIEA',\n",
       "  '/search?q=yahoo+finance+BTC&ie=UTF-8&tbm=nws&source=lnt&tbs=qdr:w&sa=X&ved=0ahUKEwi11sDoiu7yAhUgAWMBHUpPBeMQpwUIEQ',\n",
       "  '/search?q=yahoo+finance+BTC&ie=UTF-8&tbm=nws&source=lnt&tbs=qdr:m&sa=X&ved=0ahUKEwi11sDoiu7yAhUgAWMBHUpPBeMQpwUIEg',\n",
       "  '/search?q=yahoo+finance+BTC&ie=UTF-8&tbm=nws&source=lnt&tbs=qdr:y&sa=X&ved=0ahUKEwi11sDoiu7yAhUgAWMBHUpPBeMQpwUIEw',\n",
       "  '/search?q=yahoo+finance+BTC&ie=UTF-8&tbm=nws&source=lnt&tbs=ar:1&sa=X&ved=0ahUKEwi11sDoiu7yAhUgAWMBHUpPBeMQpwUIFA',\n",
       "  '/search?q=yahoo+finance+BTC&ie=UTF-8&tbm=nws&source=lnt&tbs=sbd:1&sa=X&ved=0ahUKEwi11sDoiu7yAhUgAWMBHUpPBeMQpwUIFg',\n",
       "  '/url?q=https://finance.yahoo.com/news/what-augusts-record-breaking-month-for-crypto-flows-means-for-bitcoin-163906276.html&sa=U&ved=2ahUKEwi11sDoiu7yAhUgAWMBHUpPBeMQxfQBMAB6BAgDEAE&usg=AOvVaw1-nE-xWeggWdlk4Ck0u0cz',\n",
       "  '/url?q=https://finance.yahoo.com/news/what-augusts-record-breaking-month-for-crypto-flows-means-for-bitcoin-163906276.html&sa=U&ved=2ahUKEwi11sDoiu7yAhUgAWMBHUpPBeMQ0Y8FMAB6BAgDEAI&usg=AOvVaw0o1NeRmWOqUNWizoJ6vOHl',\n",
       "  '/url?q=https://finance.yahoo.com/news/bitcoin-crashes-below-50000-163721506.html&sa=U&ved=2ahUKEwi11sDoiu7yAhUgAWMBHUpPBeMQxfQBMAF6BAgJEAE&usg=AOvVaw1I4DifuXIL_yvVM0QvAu-W',\n",
       "  '/url?q=https://finance.yahoo.com/news/bitcoin-crashes-below-50000-163721506.html&sa=U&ved=2ahUKEwi11sDoiu7yAhUgAWMBHUpPBeMQ0Y8FMAF6BAgJEAI&usg=AOvVaw0XVF6Dy1bxlIwahjWC9rM8',\n",
       "  '/url?q=https://finance.yahoo.com/news/el-salvador-accepts-bitcoin-legal-currency-162452362.html&sa=U&ved=2ahUKEwi11sDoiu7yAhUgAWMBHUpPBeMQxfQBMAJ6BAgIEAE&usg=AOvVaw03-MazrwEk937ekOhqHZdD',\n",
       "  '/url?q=https://finance.yahoo.com/news/el-salvador-accepts-bitcoin-legal-currency-162452362.html&sa=U&ved=2ahUKEwi11sDoiu7yAhUgAWMBHUpPBeMQ0Y8FMAJ6BAgIEAI&usg=AOvVaw1Xl9ZndA6HATqBo3eo07_S',\n",
       "  '/url?q=https://ca.finance.yahoo.com/news/bitcoin-el-salvador-cryptocurrencies-legal-tender-ethereum-230124576.html&sa=U&ved=2ahUKEwi11sDoiu7yAhUgAWMBHUpPBeMQxfQBMAN6BAgHEAE&usg=AOvVaw0KYnws0oI1_NlOCeuaETh4',\n",
       "  '/url?q=https://ca.finance.yahoo.com/news/bitcoin-el-salvador-cryptocurrencies-legal-tender-ethereum-230124576.html&sa=U&ved=2ahUKEwi11sDoiu7yAhUgAWMBHUpPBeMQ0Y8FMAN6BAgHEAI&usg=AOvVaw2EVHuUdnJ_N9F-uKpCBWhf',\n",
       "  '/url?q=https://finance.yahoo.com/news/bitcoin-digital-gold-significant-upward-111258831.html&sa=U&ved=2ahUKEwi11sDoiu7yAhUgAWMBHUpPBeMQxfQBMAR6BAgAEAE&usg=AOvVaw3-1AUWVY7S7Wh1_2AHxZoC',\n",
       "  '/url?q=https://finance.yahoo.com/news/bitcoin-digital-gold-significant-upward-111258831.html&sa=U&ved=2ahUKEwi11sDoiu7yAhUgAWMBHUpPBeMQ0Y8FMAR6BAgAEAI&usg=AOvVaw0MRGf4u4UbgFV8gaBiUFwD',\n",
       "  '/url?q=https://finance.yahoo.com/news/bitcoin-is-the-future-despite-billionaire-haters-ark-invests-cathie-wood-102641275.html&sa=U&ved=2ahUKEwi11sDoiu7yAhUgAWMBHUpPBeMQxfQBMAV6BAgEEAE&usg=AOvVaw2ER96sUgQZRC_OFfv7VRuo',\n",
       "  '/url?q=https://finance.yahoo.com/news/bitcoin-is-the-future-despite-billionaire-haters-ark-invests-cathie-wood-102641275.html&sa=U&ved=2ahUKEwi11sDoiu7yAhUgAWMBHUpPBeMQ0Y8FMAV6BAgEEAI&usg=AOvVaw2GYuIfeGBTR3lIQx21gxNW',\n",
       "  '/url?q=https://finance.yahoo.com/news/emerging-markets-latam-currencies-weaken-142459953.html&sa=U&ved=2ahUKEwi11sDoiu7yAhUgAWMBHUpPBeMQxfQBMAZ6BAgGEAE&usg=AOvVaw1iY_eGG6_IuCiRIVRVF7Zh',\n",
       "  '/url?q=https://finance.yahoo.com/news/emerging-markets-latam-currencies-weaken-142459953.html&sa=U&ved=2ahUKEwi11sDoiu7yAhUgAWMBHUpPBeMQ0Y8FMAZ6BAgGEAI&usg=AOvVaw2MPWFmSvECTFq0zC-RM_s0',\n",
       "  '/url?q=https://finance.yahoo.com/news/vast-bank-bitcoin-move-shows-101024039.html&sa=U&ved=2ahUKEwi11sDoiu7yAhUgAWMBHUpPBeMQxfQBMAd6BAgBEAE&usg=AOvVaw0eABmnY36zd0ERgny5Vxfh',\n",
       "  '/url?q=https://finance.yahoo.com/news/vast-bank-bitcoin-move-shows-101024039.html&sa=U&ved=2ahUKEwi11sDoiu7yAhUgAWMBHUpPBeMQ0Y8FMAd6BAgBEAI&usg=AOvVaw1LjF9x-v6urTIBMSWTNw7L',\n",
       "  '/url?q=https://finance.yahoo.com/news/cryptocurrency-market-size-reach-usd-150000198.html&sa=U&ved=2ahUKEwi11sDoiu7yAhUgAWMBHUpPBeMQxfQBMAh6BAgFEAE&usg=AOvVaw1n_9a4_49YSrvx1sM-wQgM',\n",
       "  '/url?q=https://finance.yahoo.com/news/cryptocurrency-market-size-reach-usd-150000198.html&sa=U&ved=2ahUKEwi11sDoiu7yAhUgAWMBHUpPBeMQ0Y8FMAh6BAgFEAI&usg=AOvVaw3oSPEZPBx8Ec_WjTJazkKJ',\n",
       "  '/url?q=https://finance.yahoo.com/news/china-euro-data-cheer-bitcoin-064223805.html&sa=U&ved=2ahUKEwi11sDoiu7yAhUgAWMBHUpPBeMQxfQBMAl6BAgCEAE&usg=AOvVaw1hyMYuRfr_kIBtIQh4jWys',\n",
       "  '/url?q=https://finance.yahoo.com/news/china-euro-data-cheer-bitcoin-064223805.html&sa=U&ved=2ahUKEwi11sDoiu7yAhUgAWMBHUpPBeMQ0Y8FMAl6BAgCEAI&usg=AOvVaw2FH_mf6sDgao-MKoT78ODA',\n",
       "  '/search?q=yahoo+finance+BTC&ie=UTF-8&tbm=nws&ei=4_43YfXYM6CCjLsPyp6VmA4&start=10&sa=N',\n",
       "  '/url?q=https://support.google.com/websearch%3Fp%3Dws_settings_location%26hl%3Den&sa=U&ved=0ahUKEwi11sDoiu7yAhUgAWMBHUpPBeMQty4IVQ&usg=AOvVaw1ndidEjbTdrk6mgnieVyz3',\n",
       "  '/url?q=https://accounts.google.com/ServiceLogin%3Fcontinue%3Dhttps://www.google.com/search%253Fq%253Dyahoo%252Bfinance%252BBTC%2526tbm%253Dnws%26hl%3Den&sa=U&ved=0ahUKEwi11sDoiu7yAhUgAWMBHUpPBeMQxs8CCFY&usg=AOvVaw1G45EhEhDM_ZEjHlIggwnx',\n",
       "  'https://www.google.com/preferences?hl=en&fg=1&sa=X&ved=0ahUKEwi11sDoiu7yAhUgAWMBHUpPBeMQ5fUCCFc',\n",
       "  'https://policies.google.com/privacy?hl=en&fg=1',\n",
       "  'https://policies.google.com/terms?hl=en&fg=1']}"
      ]
     },
     "execution_count": 12,
     "metadata": {},
     "output_type": "execute_result"
    }
   ],
   "source": [
    "raw_urls = {ticker:search_for_stock_news_urls(ticker) for ticker in monitored_tickers}\n",
    "raw_urls"
   ]
  },
  {
   "cell_type": "code",
   "execution_count": 13,
   "metadata": {},
   "outputs": [
    {
     "data": {
      "text/plain": [
       "['/?sa=X&ved=0ahUKEwi11sDoiu7yAhUgAWMBHUpPBeMQOwgC',\n",
       " '/?output=search&ie=UTF-8&tbm=nws&sa=X&ved=0ahUKEwi11sDoiu7yAhUgAWMBHUpPBeMQPAgE',\n",
       " '/search?q=yahoo+finance+BTC&tbm=nws&ie=UTF-8&gbv=1&sei=4_43YfXYM6CCjLsPyp6VmA4',\n",
       " '/search?q=yahoo+finance+BTC&ie=UTF-8&source=lnms&sa=X&ved=0ahUKEwi11sDoiu7yAhUgAWMBHUpPBeMQ_AUIBygA',\n",
       " '/search?q=yahoo+finance+BTC&ie=UTF-8&tbm=shop&source=lnms&sa=X&ved=0ahUKEwi11sDoiu7yAhUgAWMBHUpPBeMQ_AUICSgC',\n",
       " '/search?q=yahoo+finance+BTC&ie=UTF-8&tbm=vid&source=lnms&sa=X&ved=0ahUKEwi11sDoiu7yAhUgAWMBHUpPBeMQ_AUICigD',\n",
       " '/search?q=yahoo+finance+BTC&ie=UTF-8&tbm=isch&source=lnms&sa=X&ved=0ahUKEwi11sDoiu7yAhUgAWMBHUpPBeMQ_AUICygE',\n",
       " 'https://maps.google.com/maps?q=yahoo+finance+BTC&um=1&ie=UTF-8&sa=X&ved=0ahUKEwi11sDoiu7yAhUgAWMBHUpPBeMQ_AUIDCgF',\n",
       " '/search?q=yahoo+finance+BTC&ie=UTF-8&tbm=bks&source=lnms&sa=X&ved=0ahUKEwi11sDoiu7yAhUgAWMBHUpPBeMQ_AUIDSgG',\n",
       " '/advanced_search',\n",
       " '/search?q=yahoo+finance+BTC&ie=UTF-8&tbm=nws&source=lnt&tbs=qdr:h&sa=X&ved=0ahUKEwi11sDoiu7yAhUgAWMBHUpPBeMQpwUIDw',\n",
       " '/search?q=yahoo+finance+BTC&ie=UTF-8&tbm=nws&source=lnt&tbs=qdr:d&sa=X&ved=0ahUKEwi11sDoiu7yAhUgAWMBHUpPBeMQpwUIEA',\n",
       " '/search?q=yahoo+finance+BTC&ie=UTF-8&tbm=nws&source=lnt&tbs=qdr:w&sa=X&ved=0ahUKEwi11sDoiu7yAhUgAWMBHUpPBeMQpwUIEQ',\n",
       " '/search?q=yahoo+finance+BTC&ie=UTF-8&tbm=nws&source=lnt&tbs=qdr:m&sa=X&ved=0ahUKEwi11sDoiu7yAhUgAWMBHUpPBeMQpwUIEg',\n",
       " '/search?q=yahoo+finance+BTC&ie=UTF-8&tbm=nws&source=lnt&tbs=qdr:y&sa=X&ved=0ahUKEwi11sDoiu7yAhUgAWMBHUpPBeMQpwUIEw',\n",
       " '/search?q=yahoo+finance+BTC&ie=UTF-8&tbm=nws&source=lnt&tbs=ar:1&sa=X&ved=0ahUKEwi11sDoiu7yAhUgAWMBHUpPBeMQpwUIFA',\n",
       " '/search?q=yahoo+finance+BTC&ie=UTF-8&tbm=nws&source=lnt&tbs=sbd:1&sa=X&ved=0ahUKEwi11sDoiu7yAhUgAWMBHUpPBeMQpwUIFg',\n",
       " '/url?q=https://finance.yahoo.com/news/what-augusts-record-breaking-month-for-crypto-flows-means-for-bitcoin-163906276.html&sa=U&ved=2ahUKEwi11sDoiu7yAhUgAWMBHUpPBeMQxfQBMAB6BAgDEAE&usg=AOvVaw1-nE-xWeggWdlk4Ck0u0cz',\n",
       " '/url?q=https://finance.yahoo.com/news/what-augusts-record-breaking-month-for-crypto-flows-means-for-bitcoin-163906276.html&sa=U&ved=2ahUKEwi11sDoiu7yAhUgAWMBHUpPBeMQ0Y8FMAB6BAgDEAI&usg=AOvVaw0o1NeRmWOqUNWizoJ6vOHl',\n",
       " '/url?q=https://finance.yahoo.com/news/bitcoin-crashes-below-50000-163721506.html&sa=U&ved=2ahUKEwi11sDoiu7yAhUgAWMBHUpPBeMQxfQBMAF6BAgJEAE&usg=AOvVaw1I4DifuXIL_yvVM0QvAu-W',\n",
       " '/url?q=https://finance.yahoo.com/news/bitcoin-crashes-below-50000-163721506.html&sa=U&ved=2ahUKEwi11sDoiu7yAhUgAWMBHUpPBeMQ0Y8FMAF6BAgJEAI&usg=AOvVaw0XVF6Dy1bxlIwahjWC9rM8',\n",
       " '/url?q=https://finance.yahoo.com/news/el-salvador-accepts-bitcoin-legal-currency-162452362.html&sa=U&ved=2ahUKEwi11sDoiu7yAhUgAWMBHUpPBeMQxfQBMAJ6BAgIEAE&usg=AOvVaw03-MazrwEk937ekOhqHZdD',\n",
       " '/url?q=https://finance.yahoo.com/news/el-salvador-accepts-bitcoin-legal-currency-162452362.html&sa=U&ved=2ahUKEwi11sDoiu7yAhUgAWMBHUpPBeMQ0Y8FMAJ6BAgIEAI&usg=AOvVaw1Xl9ZndA6HATqBo3eo07_S',\n",
       " '/url?q=https://ca.finance.yahoo.com/news/bitcoin-el-salvador-cryptocurrencies-legal-tender-ethereum-230124576.html&sa=U&ved=2ahUKEwi11sDoiu7yAhUgAWMBHUpPBeMQxfQBMAN6BAgHEAE&usg=AOvVaw0KYnws0oI1_NlOCeuaETh4',\n",
       " '/url?q=https://ca.finance.yahoo.com/news/bitcoin-el-salvador-cryptocurrencies-legal-tender-ethereum-230124576.html&sa=U&ved=2ahUKEwi11sDoiu7yAhUgAWMBHUpPBeMQ0Y8FMAN6BAgHEAI&usg=AOvVaw2EVHuUdnJ_N9F-uKpCBWhf',\n",
       " '/url?q=https://finance.yahoo.com/news/bitcoin-digital-gold-significant-upward-111258831.html&sa=U&ved=2ahUKEwi11sDoiu7yAhUgAWMBHUpPBeMQxfQBMAR6BAgAEAE&usg=AOvVaw3-1AUWVY7S7Wh1_2AHxZoC',\n",
       " '/url?q=https://finance.yahoo.com/news/bitcoin-digital-gold-significant-upward-111258831.html&sa=U&ved=2ahUKEwi11sDoiu7yAhUgAWMBHUpPBeMQ0Y8FMAR6BAgAEAI&usg=AOvVaw0MRGf4u4UbgFV8gaBiUFwD',\n",
       " '/url?q=https://finance.yahoo.com/news/bitcoin-is-the-future-despite-billionaire-haters-ark-invests-cathie-wood-102641275.html&sa=U&ved=2ahUKEwi11sDoiu7yAhUgAWMBHUpPBeMQxfQBMAV6BAgEEAE&usg=AOvVaw2ER96sUgQZRC_OFfv7VRuo',\n",
       " '/url?q=https://finance.yahoo.com/news/bitcoin-is-the-future-despite-billionaire-haters-ark-invests-cathie-wood-102641275.html&sa=U&ved=2ahUKEwi11sDoiu7yAhUgAWMBHUpPBeMQ0Y8FMAV6BAgEEAI&usg=AOvVaw2GYuIfeGBTR3lIQx21gxNW',\n",
       " '/url?q=https://finance.yahoo.com/news/emerging-markets-latam-currencies-weaken-142459953.html&sa=U&ved=2ahUKEwi11sDoiu7yAhUgAWMBHUpPBeMQxfQBMAZ6BAgGEAE&usg=AOvVaw1iY_eGG6_IuCiRIVRVF7Zh',\n",
       " '/url?q=https://finance.yahoo.com/news/emerging-markets-latam-currencies-weaken-142459953.html&sa=U&ved=2ahUKEwi11sDoiu7yAhUgAWMBHUpPBeMQ0Y8FMAZ6BAgGEAI&usg=AOvVaw2MPWFmSvECTFq0zC-RM_s0',\n",
       " '/url?q=https://finance.yahoo.com/news/vast-bank-bitcoin-move-shows-101024039.html&sa=U&ved=2ahUKEwi11sDoiu7yAhUgAWMBHUpPBeMQxfQBMAd6BAgBEAE&usg=AOvVaw0eABmnY36zd0ERgny5Vxfh',\n",
       " '/url?q=https://finance.yahoo.com/news/vast-bank-bitcoin-move-shows-101024039.html&sa=U&ved=2ahUKEwi11sDoiu7yAhUgAWMBHUpPBeMQ0Y8FMAd6BAgBEAI&usg=AOvVaw1LjF9x-v6urTIBMSWTNw7L',\n",
       " '/url?q=https://finance.yahoo.com/news/cryptocurrency-market-size-reach-usd-150000198.html&sa=U&ved=2ahUKEwi11sDoiu7yAhUgAWMBHUpPBeMQxfQBMAh6BAgFEAE&usg=AOvVaw1n_9a4_49YSrvx1sM-wQgM',\n",
       " '/url?q=https://finance.yahoo.com/news/cryptocurrency-market-size-reach-usd-150000198.html&sa=U&ved=2ahUKEwi11sDoiu7yAhUgAWMBHUpPBeMQ0Y8FMAh6BAgFEAI&usg=AOvVaw3oSPEZPBx8Ec_WjTJazkKJ',\n",
       " '/url?q=https://finance.yahoo.com/news/china-euro-data-cheer-bitcoin-064223805.html&sa=U&ved=2ahUKEwi11sDoiu7yAhUgAWMBHUpPBeMQxfQBMAl6BAgCEAE&usg=AOvVaw1hyMYuRfr_kIBtIQh4jWys',\n",
       " '/url?q=https://finance.yahoo.com/news/china-euro-data-cheer-bitcoin-064223805.html&sa=U&ved=2ahUKEwi11sDoiu7yAhUgAWMBHUpPBeMQ0Y8FMAl6BAgCEAI&usg=AOvVaw2FH_mf6sDgao-MKoT78ODA',\n",
       " '/search?q=yahoo+finance+BTC&ie=UTF-8&tbm=nws&ei=4_43YfXYM6CCjLsPyp6VmA4&start=10&sa=N',\n",
       " '/url?q=https://support.google.com/websearch%3Fp%3Dws_settings_location%26hl%3Den&sa=U&ved=0ahUKEwi11sDoiu7yAhUgAWMBHUpPBeMQty4IVQ&usg=AOvVaw1ndidEjbTdrk6mgnieVyz3',\n",
       " '/url?q=https://accounts.google.com/ServiceLogin%3Fcontinue%3Dhttps://www.google.com/search%253Fq%253Dyahoo%252Bfinance%252BBTC%2526tbm%253Dnws%26hl%3Den&sa=U&ved=0ahUKEwi11sDoiu7yAhUgAWMBHUpPBeMQxs8CCFY&usg=AOvVaw1G45EhEhDM_ZEjHlIggwnx',\n",
       " 'https://www.google.com/preferences?hl=en&fg=1&sa=X&ved=0ahUKEwi11sDoiu7yAhUgAWMBHUpPBeMQ5fUCCFc',\n",
       " 'https://policies.google.com/privacy?hl=en&fg=1',\n",
       " 'https://policies.google.com/terms?hl=en&fg=1']"
      ]
     },
     "execution_count": 13,
     "metadata": {},
     "output_type": "execute_result"
    }
   ],
   "source": [
    "raw_urls['BTC']"
   ]
  },
  {
   "cell_type": "markdown",
   "metadata": {},
   "source": [
    "## 4.2. Strip out unwanted URLs"
   ]
  },
  {
   "cell_type": "code",
   "execution_count": 14,
   "metadata": {},
   "outputs": [],
   "source": [
    "import re"
   ]
  },
  {
   "cell_type": "code",
   "execution_count": 15,
   "metadata": {},
   "outputs": [],
   "source": [
    "exclude_list = ['maps', 'policies', 'preferences', 'accounts', 'support']"
   ]
  },
  {
   "cell_type": "code",
   "execution_count": 16,
   "metadata": {},
   "outputs": [],
   "source": [
    "def strip_unwanted_urls(urls, exclude_list):\n",
    "    val = []\n",
    "    for url in urls: \n",
    "        if 'https://' in url and not any(exclude_word in url for exclude_word in exclude_list):\n",
    "            res = re.findall(r'(https?://\\S+)', url)[0].split('&')[0]\n",
    "            val.append(res)\n",
    "    return list(set(val))"
   ]
  },
  {
   "cell_type": "code",
   "execution_count": 17,
   "metadata": {},
   "outputs": [
    {
     "data": {
      "text/plain": [
       "{'ADA': ['https://finance.yahoo.com/news/what-augusts-record-breaking-month-for-crypto-flows-means-for-bitcoin-163906276.html',\n",
       "  'https://finance.yahoo.com/news/institutions-load-24m-eth-ada-142945976.html',\n",
       "  'https://finance.yahoo.com/news/cardano-ada-expect-pullback-another-192023603.html',\n",
       "  'https://finance.yahoo.com/news/ada-sol-lead-way-crypto-110019476.html',\n",
       "  'https://finance.yahoo.com/video/explaining-crypto-price-plunge-212051886.html',\n",
       "  'https://finance.yahoo.com/news/cardano-hits-3-mark-first-155147241.html',\n",
       "  'https://finance.yahoo.com/news/cardano-launch-erc-20-ethereum-110017667.html',\n",
       "  'https://finance.yahoo.com/news/cardaswap-finance-determined-turn-uniswap-180900658.html',\n",
       "  'https://finance.yahoo.com/video/ethereum-hits-highest-levels-since-201441481.html',\n",
       "  'https://finance.yahoo.com/news/cardano-ada-reaches-time-high-221801619.html'],\n",
       " 'ETH': ['https://finance.yahoo.com/news/bitcoin-ether-war-standard-chartered-115729714.html',\n",
       "  'https://finance.yahoo.com/news/what-augusts-record-breaking-month-for-crypto-flows-means-for-bitcoin-163906276.html',\n",
       "  'https://finance.yahoo.com/news/ethereum-litecoin-ripple-xrp-daily-005205258.html',\n",
       "  'https://finance.yahoo.com/news/ethereum-litecoin-ripple-xrp-daily-001447430.html',\n",
       "  'https://finance.yahoo.com/news/bitcoin-crashes-below-50000-163721506.html',\n",
       "  'https://finance.yahoo.com/news/why-bitcoin-related-ethereum-related-151300113.html',\n",
       "  'https://finance.yahoo.com/news/bitcoin-ethereum-weekly-technical-analysis-022133478.html',\n",
       "  'https://finance.yahoo.com/news/bitcoin-digital-gold-significant-upward-111258831.html',\n",
       "  'https://finance.yahoo.com/news/ethereum-litecoin-ripple-xrp-daily-003506829.html',\n",
       "  'https://finance.yahoo.com/news/token-ethereum-rival-solana-jumps-062253042.html'],\n",
       " 'BTC': ['https://ca.finance.yahoo.com/news/bitcoin-el-salvador-cryptocurrencies-legal-tender-ethereum-230124576.html',\n",
       "  'https://finance.yahoo.com/news/what-augusts-record-breaking-month-for-crypto-flows-means-for-bitcoin-163906276.html',\n",
       "  'https://finance.yahoo.com/news/emerging-markets-latam-currencies-weaken-142459953.html',\n",
       "  'https://finance.yahoo.com/news/el-salvador-accepts-bitcoin-legal-currency-162452362.html',\n",
       "  'https://finance.yahoo.com/news/cryptocurrency-market-size-reach-usd-150000198.html',\n",
       "  'https://finance.yahoo.com/news/bitcoin-crashes-below-50000-163721506.html',\n",
       "  'https://finance.yahoo.com/news/china-euro-data-cheer-bitcoin-064223805.html',\n",
       "  'https://finance.yahoo.com/news/bitcoin-is-the-future-despite-billionaire-haters-ark-invests-cathie-wood-102641275.html',\n",
       "  'https://finance.yahoo.com/news/bitcoin-digital-gold-significant-upward-111258831.html',\n",
       "  'https://finance.yahoo.com/news/vast-bank-bitcoin-move-shows-101024039.html']}"
      ]
     },
     "execution_count": 17,
     "metadata": {},
     "output_type": "execute_result"
    }
   ],
   "source": [
    "cleaned_urls = {ticker:strip_unwanted_urls(raw_urls[ticker], exclude_list) for ticker in monitored_tickers}\n",
    "cleaned_urls"
   ]
  },
  {
   "cell_type": "markdown",
   "metadata": {},
   "source": [
    "## 4.3. Search and Scrape Cleaned URLs"
   ]
  },
  {
   "cell_type": "code",
   "execution_count": 18,
   "metadata": {},
   "outputs": [],
   "source": [
    "def scrape_and_process(URLs):\n",
    "    ARTICLES = []\n",
    "    for url in URLs: \n",
    "        r = requests.get(url)\n",
    "        soup = BeautifulSoup(r.text, 'html.parser')\n",
    "        paragraphs = soup.find_all('p')\n",
    "        text = [paragraph.text for paragraph in paragraphs]\n",
    "        words = ' '.join(text).split(' ')[:350]\n",
    "        ARTICLE = ' '.join(words)\n",
    "        ARTICLES.append(ARTICLE)\n",
    "    return ARTICLES"
   ]
  },
  {
   "cell_type": "code",
   "execution_count": 19,
   "metadata": {},
   "outputs": [
    {
     "data": {
      "text/plain": [
       "{'ADA': [\" Over the past month, the crypto market has looked like a rising tide for all coins from Bitcoin to Cardano — but data suggest growth across the asset class hasn’t been equal. Last week, Bitcoin (BTC-USD) breached $50,000 for the second time in two weeks, extending a rally that put a grim sell-off that started in May further in the rear-view mirror. While notable for its volatility, gains in the largest cryptocurrency may have gotten lost in the swell of rising prices across the entire asset class. With a majority of decentralized finance and non-fungible token (NFT) trading happening on the Ethereum (ETH-USD) blockchain, the second largest cryptocurrency by market capitalization rose by a third from $2,700 to $3,900, a growth rate 17 percent higher than BTC. And other blockchain-based currencies such as the third highest valued cryptocurrency, Cardano (ADA-USD) has more than doubled while a newer one, Solana (SOL-USD), has more than tripled in value over the past month. ADA and SOL have continued to notch almost daily all time highs for the past two weeks. In fact, new data released on Tuesday from MejoresApuestas.com showed Solana, Dogecoin and Cardano were the fastest-growing cryptos this year. All three posted four-digit increases to their market capitalization, with Solana's surging by 8,616%, and Dogecoin (DOGE-USD) and Cardano following with a 4,351% and 1,499% jump, respectively. Bitcoin IRA, an investment platform that helps retail investors gain crypto exposure in their retirement accounts, saw “record-breaking inflows” of new accounts over the previous month. “We broke our record in the first quarter right before Bitcoin ran from $45,000 to $65,000,” the company’s Chief Operating Officer, Chris Kline told Yahoo Finance. “We’re seeing the same pattern happen again. So this past month [August] felt a lot like April, but about twice as big.” Currently, Bitcoin IRA has close to 120,000 client accounts, with approximately $2 billion in assets on the platform. Although the platform's heft doesn’t move the market, the swell of retail investors opening new accounts — especially for tax-advantaged IRA accounts — is an indicator of how curious investors are as they\",\n",
       "  \"What Happened: Market-leading altcoins amassed significant gains from institutional funds over the past seven days as Bitcoin (CRYPTO: BTC) continued to record outflows for an eighth consecutive week. According to the latest CoinShares report examining weekly digital asset flows, Cardano (CRYPTO: ADA) reported $10.1 million in inflows this week – its largest on record. ADA, now the third-largest cryptocurrency by market cap, has consistently seen massive inflows over the past few weeks. The token’s price has rallied by over 100% over the past month, driven by momentum surrounding its upcoming Alonzo hard fork that will bring smart contract functionality to the blockchain. Read Also: What is Cardano? Solana (CRYPTO: SOL) is another crypto asset that institutions have been paying attention to of late. The Proof-of-Stake (PoS) blockchain has rallied by 200% since the beginning of the month and has continued to hit fresh all-time highs. Last week, SOL saw $7.1 million in inflows from institutions. Since the end of last week, the token’s price has already appreciated over 50%. This week, SOL saw $2.7 million in inflows, and market sentiment surrounding the coin remained high. Institutional sentiment towards the leading altcoin Ethereum (CRYPTO: ETH), too, appears to have picked up. ETH saw an influx of $17.2 million this week, after months of recording moderate inflows, and now represents 32% of total digital asset AUM. Read Also: What is Solana? However, the same can’t be said for the market-leading crypto-asset Bitcoin, which recorded $3.8 million in outflows over the week. According to CoinShares, 14 out of the last 18 weeks have seen outflows from Bitcoin. Price Action: At press time, Bitcoin was trading at $47,601, gaining just 0.70% over the past 24-hours. Ethereum was up by 7.30% over the same period, trading at a price of $3,414. Cardano was trading at $2.78, and Solana was trading at an all-time high of $125.22. See more from Benzinga Click here for options trades from Benzinga Bill Miller's Fund Discloses Owning Shares Worth M In Grayscale Bitcoin Trust Cathie Wood: Institutions Used The Correction This Year To Move Into Bitcoin © 2021 Benzinga.com. Benzinga\",\n",
       "  'Last week, in my first update on Cardano (ADA), I was looking for the cryptocurrency to top out soon and fall back “to ideally $2.25-2.55 before the next rally to ideally $3.25-3.75. From there, I then expect an even more significant correction”. Fast forward, and ADA topped that same day and reached $2.47 and $2.50 three and four days later, respectively, and rallied back to the $2.95. Thus, the Elliott Wave Principle (EWP) combined with Technical Analyses (TA) was indeed a reliable and accurate method to forecast the recent highs and lows. The question now is, if the correction is already over? Figure 1. ETH daily chart with EWP count and technical indicators. Last week I showed that “thanks to the EWP, we know with certainty that after wave 3 comes a 4th and 5th wave.” In this case (red) intermediate waves-iii, iv, and v. See Figure 1 above. Last week’s drop to the 23.60% retrace of wave-iii is technically enough for a 4th wave correction. Corrections always comprise of at least three waves (a, b, c), and 4th wave corrections often become -in EWP-terms- flat corrections, triangles, or any combination thereof. See here. Thus the question is if last week’s $2.47 low was all off (red) wave-iv or only (green) wave-a of wave-iv? See Figure 1 above. At his stage, I cannot tell with certainty which of the two options it is but based on the EWP knowledge that 4th wave corrections are often rather complex and longer-lasting, I prefer the latter option. In that case, wave-b is now underway, which can target as high as $2.97-3.17 for what would then become an “irregular flat,” before (green) wave-c of (red) wave-iv brings the price back down to the ideal target zone of $2.50-2.20 once again. Alternatively, ADA will have to rally above $3.17 to tell me wave-iv is complete because, above that price level, the b-wave of an irregular flat would be too long, according to the EWP guidelines. In that case, I will look for ADA to possibly reach as high as $4.50+/-0.25. But it will mean last',\n",
       "  ' The crypto market is a sea of red, with Solana’s SOL, Cardano’s ADA tokens and other alternative cryptocurrencies taking a bigger hit than bitcoin and ether. The move seems typical of a breather often observed after notable rallies. ADA was trading at $2.67 at 10:53 UTC, representing a 7.6% drop on a 24-hour basis, and SOL was nursing a 13% loss at $68, according to data source Messari. ADA debuted on Japanese cryptocurrency exchanges today. Earlier this month, Sebastien Guillemot, CTO at dcSpark and a former executive of Cardano-founding entity EMURGO, hailed ADA’s entry to Japan as being similar to a listing on Coinbase, the U.S.-based, Nasdaq-listed crypto exchange and institutions’ preferred avenue to accumulate bitcoin. XRP, polkadot and dogecoin were also down more than 8%. Meanwhile, bitcoin was changing hands at $47,500, down 3.7%, and ether traded 5.5% lower at $3,100, CoinDesk 20 data show. All sub-sectors, including decentralized finance and non-fungible tokens, were flashing red. Related: Bitcoin Miners Hold Onto Rigs, Betting the Bull Run Will Continue According to analytics platform Laevitas, alternative cryptocurrencies were looking ripe for a pullback as holding long positions in many of the coins had become too costly. “Paying over 100% annualized for longs can’t be sustained forever,” Laevitas tweeted, adding that the price drop looks like a healthy correction. Some of the coins like ADA and SOL looked overbought, having recently rallied to record highs and outperformed bitcoin by a significant margin. For instance, ADA had rallied 187% and SOL 272% in the past four weeks, more than twice as much as bitcoin’s 70%. “The duo of Cardano (ADA) and Solana (SOL) has seen a meteoric rise in price and valuation lately, with both printing new all-time highs at $2.97 and $81.81 respectively,” Pavel Shkitin, CEO of the cryptocurrency exchange Nominex.io said. “Despite the superiority in both tokens’ technologies, the surge in the past days is somewhat unprecedented, and the current reversal is an expected reaction.” James Wo, founder, and CEO of the Digital Finance Group said it is normal for investors to reduce exposure and take profits to enter at',\n",
       "  'Thank you for your patience. Our engineers are working quickly to resolve the issue.',\n",
       "  'The cryptocurrency market has resumed its rally, and some analysts are calling the next phase a super bull cycle. Cardano (ADA) has been one of the best performing cryptos in the market. The coin has surpassed Binance Coin (BNB) to become the third-largest cryptocurrency by market cap. However, ADA might surge higher after setting a new all-time high at $3 earlier today. The general cryptocurrency market resumed its rally today after underperforming since the start of the week. Bitcoin was finally able to touch the $50k level again after struggling for the past few days. Ether has also successfully cemented its price above the $3,500, with the Ethereum native coin currently trading at $3,775 per coin. Cardano continues to set the trend in the market, reaching a new all-time high of $3 earlier today. Cardano’s rally coincides with the launch of its Alonzo testnet as the network prepares for a mainnet launch later this month. The Alonzo upgrade is expected to usher in numerous changes to the Cardano blockchain, including the introduction of smart contract features. With the availability of smart contracts, the Cardano blockchain can host a wide range of decentralized finance (DeFi) protocols and NFTs. DeFi and nonfungible tokens are some of the hottest fields in the crypto space, and they are gaining massive adoption globally. Hence, the possibility of NFTs and DeFi coming to the Cardano blockchain is enough to cause a rally. Cardano’s price is up by over 4% in the past 24 hours, and ADA is trading around the $3 mark. The crypto market has been in a bullish trend over the past year despite the slight correction experienced over the summer. Despite the impressive performance displayed by the broader cryptocurrency market, some analysts believe that we are set to enter a Super Bull Cycle. This cycle could see the prices of most cryptocurrencies double or triple over the next few months. Michaël van de Poppe is confident that the prices of cryptocurrencies could continue to rally over the coming months. This article was originally posted on FX Empire EUR/USD Mid-Session Technical Analysis for Septemer',\n",
       "  'Cardano (ADA) will launch new ERC-20 converter bridge next week as company founder Charles Hoskinson targets Ethereum tokens as ripe fruit for picking. The feature is expected to launch on September 12th as a component of the massively anticipated Alonzo Hard Fork upgrade. With the new tool going live on the testnet next week, hopes are high – and investors are giddy with excitement following last week’s impressive bull run to new all-time highs. We first learned about the the ERC-20 tool in back in May, however, the latest revelation came from comments given by the IOHK project manager Francisco Landino during the Cardano 360 event. The blockchain developer explained that users of Ethereum-based tokens will be to switch over to enjoy the benefits of Cardano’s transaction capacity and lower fees as soon as the new tool is deployed. The launch of the converter is likely to add to the rift between Ethereum’s Vitalik Buterin and his co-founder turned rival Charles Hoskinson (Cardano’s founder). According to the ADA founder, more than 100 companies have already announced that they will be moving across from Ethereum to Cardano. Interestingly some analysts suggest the ERC-20 converter could enhance security for ERC-20 users. The first token to be migrated to Cardano upon launch will be SingularityNET – a network specialising in decentralised artificial intelligence. The start-up plans to be the first to migrate, moving its native AGIX token across to the Cardano network. This comes after a swathe of positive news coming out of the Cardano project with Hoskinson recently announcing his intention to put in a bid to build a blockchain-based national ID system in Ethiopia, IOHK successfully getting ADA listed in the super strict Japanese regulatory environment, and of course the new ATH for Cardano in the past week’s juicy price action. If you want to find out more information about Ethereum or cryptocurrencies in general, then use the search box at the top of this page. Here’s an article to get you started. As with any investment, it pays to do some homework before you part with your money. The prices',\n",
       "  'Thank you for your patience. Our engineers are working quickly to resolve the issue.',\n",
       "  'Thank you for your patience. Our engineers are working quickly to resolve the issue.',\n",
       "  \"What Happened: The Cardano (CRYPTO: ADA) blockchain saw its native token’s price breach the all-important $3 mark earlier today. At the time of writing, ADA was trading at $3.00 after gaining 4.41% over the last 24-hours and around 20% over the last seven days. Leading up to the breakout in price was the successful launch of smart contracts on the Cardano blockchain’s testnet. The testnet is a version of the blockchain network that is used to test and experiment with new functionalities before it is implemented on the mainnet, or the actual network. After smart contract functionality is successfully implemented on Cardano, the Proof-of-Stake (PoS) blockchain will be on par with platforms like Ethereum (CRYPTO: ETH) and Solana (CRYPTO: SOL) that already support the creation and use of decentralized applications (dApps). Aside from the upcoming network upgrades, another bullish catalyst for the cryptocurrency in recent weeks has been the massive inflow of funds from institutional investors. Over the past seven days, weekly inflows to Cardano investment products exceeded a record $10 million. The week before, it led inflows to crypto products even as Bitcoin (CRYPTO: BTC) and Ethereum saw outflows of $24 million. Read Next: Cardano Founder Sees Bigger Role For Crypto In Afghanistan After US Withdrawal See more from Benzinga Click here for options trades from Benzinga Institutions Load Up On M Of ETH, ADA, SOL As BTC Records 8 Consecutive Weeks Of Outflows Ethereum Competitor Solana Leads Digital Asset Weekly Inflows With .1M © 2021 Benzinga.com. Benzinga does not provide investment advice. All rights reserved. What happened Shares of satellite communications company Globalstar (NYSEMKT: GSAT) jumped 9.5% as of 9:45 a.m. EDT Thursday -- but don't get too excited. It seems this pop was inspired by kind of a nonevent. Lithium supplies could remain constrained through 2025. Nio isn't the only automaker dealing with the chip shortage, and it may be having less of an impact than some first thought. Pullbacks have translated into lower prices, but not every lower-priced name is worth purchasing just yet. PIMCO founder sees yields rising to the point that bond funds are\"],\n",
       " 'ETH': ['Thank you for your patience. Our engineers are working quickly to resolve the issue.',\n",
       "  \" Over the past month, the crypto market has looked like a rising tide for all coins from Bitcoin to Cardano — but data suggest growth across the asset class hasn’t been equal. Last week, Bitcoin (BTC-USD) breached $50,000 for the second time in two weeks, extending a rally that put a grim sell-off that started in May further in the rear-view mirror. While notable for its volatility, gains in the largest cryptocurrency may have gotten lost in the swell of rising prices across the entire asset class. With a majority of decentralized finance and non-fungible token (NFT) trading happening on the Ethereum (ETH-USD) blockchain, the second largest cryptocurrency by market capitalization rose by a third from $2,700 to $3,900, a growth rate 17 percent higher than BTC. And other blockchain-based currencies such as the third highest valued cryptocurrency, Cardano (ADA-USD) has more than doubled while a newer one, Solana (SOL-USD), has more than tripled in value over the past month. ADA and SOL have continued to notch almost daily all time highs for the past two weeks. In fact, new data released on Tuesday from MejoresApuestas.com showed Solana, Dogecoin and Cardano were the fastest-growing cryptos this year. All three posted four-digit increases to their market capitalization, with Solana's surging by 8,616%, and Dogecoin (DOGE-USD) and Cardano following with a 4,351% and 1,499% jump, respectively. Bitcoin IRA, an investment platform that helps retail investors gain crypto exposure in their retirement accounts, saw “record-breaking inflows” of new accounts over the previous month. “We broke our record in the first quarter right before Bitcoin ran from $45,000 to $65,000,” the company’s Chief Operating Officer, Chris Kline told Yahoo Finance. “We’re seeing the same pattern happen again. So this past month [August] felt a lot like April, but about twice as big.” Currently, Bitcoin IRA has close to 120,000 client accounts, with approximately $2 billion in assets on the platform. Although the platform's heft doesn’t move the market, the swell of retail investors opening new accounts — especially for tax-advantaged IRA accounts — is an indicator of how curious investors are as they\",\n",
       "  ' Ethereum rose by 1.66% on Sunday. Reversing a 1.33% loss from Saturday, Ethereum ended the week up by 22.49% to $3,952.17. A mixed start to the day saw Ethereum fall to an early morning intraday low $3,835.70 before making a move. Steering clear of the first major support level at $3,825, Ethereum rallied to a late intraday high $3,982.64. Ethereum broke through the first major resistance level at $3,960 before easing back. At the time of writing, Ethereum was down by 0.29% to $3,940.60. A mixed start to the day saw Ethereum rise to an early morning high $3,964.21 before falling to a low $3,926.55. Ethereum left the major support and resistance levels untested early on. Ethereum would need to avoid the $3,924 pivot to bring the first major resistance level at $4,011 into play. Support from the broader market would be needed, however, for Ethereum to break back through to $4,000 levels. Barring another extended crypto rally, the first major resistance level would likely cap any upside. In the event of a broad-based crypto rally, Ethereum could test resistance at $4,150 before any pullback. The second major resistance level sits at $4,070. A fall through the $3,924 pivot would bring the first major support level at $3,864 into play. Barring another extended sell-off, however, Ethereum should steer clear of sub-$3,800 levels. The second major support level sits at $3,777. First Major Support Level: $3,864 Pivot Level: $3,924 First Major Resistance Level: $4,011 23.6% FIB Retracement Level: $3,369 38.2% FIB Retracement Level: $2,740 62% FIB Retracement Level: $1,725 Litecoin rallied by 9.49% on Sunday. Following a 0.55% decline on Saturday, Litecoin ended the week up by 33.14% to $232.30. A mixed start to the day saw Litecoin fall to an early morning intraday low $210.57 before making a move. Steering clear of the first major support level at $205, Litecoin rallied to a late intraday high $323.64. Litecoin broke through the first major resistance level at $222 and the second major resistance level at $232. More significantly, Litecoin also broke through the 38.2% FIB of $223 to end the',\n",
       "  'Thank you for your patience. Our engineers are working quickly to resolve the issue.',\n",
       "  'Thank you for your patience. Our engineers are working quickly to resolve the issue.',\n",
       "  \" Shares of crypto-related stocks, including Marathon Digital Holdings Inc (NASDAQ: MARA), Riot Blockchain Inc (NASDAQ: RIOT) and Coinbase Global, Inc. (NASDAQ: COIN) are trading lower amid a decrease in the price of Bitcoin (CRYPTO: BTC) and Ethereum (CRYPTO: ETH). Bitcoin is trading 9% lower at around $47,900 Tuesday morning. Ethereum is trading 11.5% lower at around $3,470 Tuesday morning. Marathon Digital focuses on mining digital assets. It owns crypto-currency mining machines and a data center to mine digital assets. The company operates in the digital currency blockchain segment and its cryptocurrency machines are located in Canada. Marathon Digital is trading lower by 7.9% at $40 per share. Riot Blockchain is focused on building, supporting and operating blockchain technologies. The company's portfolio consists of Verady, Tesspay, Coinsquare and others. Riot Blockchain is trading lower by 7% at $32 per share. Coinbase Global, Inc. provides financial infrastructure and technology for the cryptoeconomy. Coinbase is trading lower by 3.9% at $267.50 per share. See more from Benzinga Click here for options trades from Benzinga Why Bitcoin-Related And Ethereum-Related Stocks Are Rising © 2021 Benzinga.com. Benzinga does not provide investment advice. All rights reserved. Related Quotes Our call of the day from Miller Tabak + Co.'s Matt Maley warns of parallels between markets today and what's been seen in some pre-bear and bear years. Here's what he suggests investors do next. Price volatility makes many in El Salvador less than optimistic about the currency’s adoption. The largest automotive market in the world is expected to almost triple sales of new energy vehicles. The Nasdaq Composite (NASDAQINDEX: ^IXIC) has consistently hit new highs for quite a while since the coronavirus bear market in early 2020.  Before the market opened on Tuesday morning, it looked as though the Nasdaq might take a bit of a breather, as Nasdaq futures were down about 18 points to 15,633 as of 7 a.m. EDT.  Match Group (NASDAQ: MTCH) has become the giant of online dating, with its popular Tinder app driving its performance over the past several years. In this article, we will examine the reasons\",\n",
       "  ' Bitcoin, BTC to USD, rose by 6.10% in the week ending 5th September. Reversing a 0.95% decline from the previous week, Bitcoin ended the week at $51,780.0. A bearish start to the week saw Bitcoin fall to a Wednesday intraweek low $46,590.0 before making a move. Steering clear of the first major support level at $46,554, Bitcoin rallied to a Sunday intraweek high $51,900.0. Bitcoin broke through the 23.6% FIB of $50,473 and the first major resistance level at $50,802 to end the week at $51,700 levels. 5 days in the green that included a 3.53% rise on Wednesday and a 3.77% rally on Sunday delivered the upside for the week. Bitcoin would need to avoid the 23.6% FIB of $50,473 and the $50,090 pivot to support a run the first major resistance level at $53,590. Support from the broader market would be needed for Bitcoin to break back through to $53,000 levels. Barring an extended crypto rally, the first major resistance level and resistance at $54,000 would likely cap any upside. In the event of an extended breakout, Bitcoin could test the second major resistance level at $55,400. A fall through the 23.6% FIB and the $50,090 pivot would bring the first major support level at $48,280 into play. Barring an extended sell-off, Bitcoin should steer clear of sub-$45,000 levels. The second major support level sits at $44,780. At the time of writing, Bitcoin was flat at $51,782.6. A mixed start to the week saw Bitcoin fall to an early Monday low $51,503.0 before rising to a high $51,924.0. Bitcoin left the major support and resistance levels untested early on. Ethereum rallied by 22.49% in the week ending 6th September. Following a 0.46% decline from the previous week, Ethereum ended the week at $3,952.17. A mixed start to the week saw Ethereum fall to a Monday intraweek low $3,145.45 before making a move. Steering clear of the first major support level at $3,058, Ethereum rallied to a Friday intraweek high $4,030.35. Ethereum broke through the week’s major resistance levels and also through the 23.6% FIB of $3,369 to',\n",
       "  ' Bitcoin has been touted as the digital gold in various quarters, and an investment trust now believes the cryptocurrency’s upward potential is massive. Bitcoin has been one of the leading financial assets in the world over the past decade, delivering thousands of percentages in profits to the early investors. The past few months have seen numerous hedge funds and other institutional investors enter the cryptocurrency market. Their entry marks a new phase for Bitcoin, and some of them believe that it has a huge upward potential. Miller Opportunity Trust, a fund founded by billionaire investor Bill Miller, believes that Bitcoin as a digital gold still has significant upward potential. The fund discussed its recent exposure to Bitcoin and said it could seek to boost its investment over the next few years. While talking about its decision to gain exposure to Bitcoin via the Grayscale Bitcoin Trust (GBTC), Miller Opportunity Trust said Bitcoin is the digital gold, and its potential is still massive. Gold’s market cap is over $11 trillion while Bitcoin has just around $11 trillion, with the Bill Miller fund stating that Bitcoin still has a long way to go to catch up to Gold. The firm stated that we are still early in a continuing adoption curve. It warned that Bitcoin will be volatile but it believes the risk-reward for the coin is attractive. Bill Miller is bullish on Bitcoin, stating that there is no asset in the world that combines Bitcoin’s liquidity with its upside potential. More hedge funds and institutional investors have been entering the cryptocurrency market. Bitcoin and Ethereum are the two most sought-after cryptocurrencies as they remain the market leaders. Bitcoin has been struggling below the $50k mark in recent weeks but was finally able to settle above that resistance level during the weekend. BTC is up by over 3.5% in the last 24 hours, and it is trading above $51k per coin at the moment. If the current bullish trend continues, BTC could cross the $55k level over the next few days. Bitcoin (BTC) is closing in on its all-time high price',\n",
       "  ' Ethereum rose by 4.01% on Friday. Reversing a 1.08% fall from Thursday, Ethereum ended the day at $3,940.06. A mixed start to the day saw Ethereum fall to an early morning intraday low $3,710.59 before making a move. Ethereum fell through the first major support level at $3,728 before rallying to an early afternoon intraday high $4,030.35. Ethereum broke through the day’s major resistance levels before a late pullback to sub-$4,000. The pullback saw Ethereum fall back through the third major resistance level at $4,014 to end the day at $3,900 levels. At the time of writing, Ethereum was up by 0.69% to $3,967.27. A mixed start to the day saw Ethereum fall to an early morning low $3,915.00 before rising to a high $3,970.00. Ethereum left the major support and resistance levels untested early on. Ethereum would need to avoid the $3,894 pivot to bring the first major resistance level at $4,077 into play. Support from the broader market would be needed, however, for Ethereum to break out from Friday’s high $4,030.35. Barring another extended crypto rally, the first major resistance level and resistance at $4,100 would likely cap any upside. In the event of a broad-based crypto rally, Ethereum could test the second major resistance level at $4,213. A fall through the $3,894 pivot would bring the first major support level at $3,757 into play. Barring another extended sell-off, however, Ethereum should steer clear of sub-$3,600 levels. The second major support level sits at $3,574. First Major Support Level: $3,757 Pivot Level: $3,894 First Major Resistance Level: $4,077 23.6% FIB Retracement Level: $3,369 38.2% FIB Retracement Level: $2,740 62% FIB Retracement Level: $1,725 Litecoin surged by 16.25% on Friday. Following a 1.40% gain on Thursday, Litecoin ended the day at $213.28. A bearish start to the day saw Litecoin fall to an early morning intraday low $179.87 before making a move. Finding support at the first major support level at $179, Litecoin surged to a late intraday high $218.00. Litecoin broke through the day’s major resistance levels to wrap up the day at $213 levels. At the',\n",
       "  '(Bloomberg) -- The cryptocurrency linked to the Solana network has jumped to seventh spot among the world’s top 10 largest virtual coins amid optimism that the blockchain could be a long term competitor to Ethereum. Solana’s SOL token has tripled in about three weeks and now has a market value of more than $41 billion, according to CoinGecko. Proponents tout the claimed speed and lower cost of transactions on Solana for decentralized finance and digital collectibles, applications where Ethereum dominates. “Solana has a growing ecosystem, projects are being built on it and it’s benefited hugely from the mania that’s taking place in NFTs,” Antoni Trenchev, co-founder at crypto lender Nexo, wrote in an email. NFTs are non-fungible tokens used to trade digital collectibles. He said the backing of crypto figure Sam Bankman-Fried -- chief executive of crypto exchange FTX -- is helping. Solana bills itself as the world’s fastest blockchain and its website says the average cost per transaction is $0.00025. In June it announced that it had raised $314 million in a funding round with investors including Bankman-Fried’s Alameda Research, venture capital firm Andreessen Horowitz, Polychain Capital and CoinShares. Late last month, Jump Trading-affiliated crypto market data provider Pyth Network went live on Solana’s mainnet, a development that’s expected to help bolster the world of decentralized finance. There are plans for it soon to be able to broadcast market data through the so-called Wormhole Network. “It’s becoming too big to ignore and offers a different smart contract solution to Ethereum,” Jonathan Cheesman, head of over-the-counter and institutional sales at FTX, wrote in an email. So-called alternative coins like Solana’s SOL, Cardano’s ADA and Binance Coin have surged in recent weeks, taking some of the limelight from top tokens Bitcoin and Ether in a broad crypto revival from a May rout. Bitcoin has also rallied and came close to $52,000 on Monday. Skeptics argue the technological upgrades propelling some tokens may not justify the scale of the rallies. More stories like this are available on bloomberg.com Subscribe now to stay ahead with the most trusted business news source. ©2021 Bloomberg'],\n",
       " 'BTC': ['Sign up for the Canada Weekly Brief and get all you need to know delivered right to your inbox  El Salvador has become the first country in the world to make bitcoin (BTC-USD) legal tender. The world\\'s largest cryptocurrency is now formally part of the nation\\'s economy following an announcement made by president Nayib Bukele\\'s government earlier in June. The development comes amid protest and uncertainty as questions remain about bitcoin\\'s integration into the country\\'s financial system and general access to the new technology among Salvadorans where 32.7% of the population remains below the poverty line. Furthermore, only 58% of the population have access to the internet, which is necessary for bitcoin transactions. Now that the law has come into effect every Salvadoran will soon be offered a government-run digital wallet containing $30 (£21.70) worth of bitcoin. This \"Chivo Wallet\" will be \"easy to use,\" according to a statement from the legal adviser to the Salvadoran president, Javier Argueta.\\xa0 The official added that the government \"will promote the necessary training and mechanisms so that the population can access transactions in bitcoin.\" Read more: FCA issues fresh warning on \\'pump and dump\\' crypto scams President Bukele\\'s administration has been keen to address concerns about article 7 of the new law, which stipulates that acceptance of bitcoin as payment is compulsory. However, in late August, his spokesman Ernesto Sanabria told CoinDesk that “the president has been clear in saying that the use of bitcoin is not mandatory.\"\\xa0 Argueta has also reassured Salvadorans that, \"the state will provide alternatives that allow the user to carry out transactions in bitcoin, as well as having automatic and instant convertibility from bitcoin to dollar if desired.\"\\xa0 Another major concern among Salvadorans is that the law could eventually evolve to see salaries being paid in the cryptocurrency. However, the Salvadoran government in an official statement has said it will \"guarantee that salaries, pensions and accounting operations will continue to be applied in dollars as the reference currency.\" Regardless of Bukele’s reassurances, there remains a high degree of suspicion within El Salvador that the law has a',\n",
       "  \" Over the past month, the crypto market has looked like a rising tide for all coins from Bitcoin to Cardano — but data suggest growth across the asset class hasn’t been equal. Last week, Bitcoin (BTC-USD) breached $50,000 for the second time in two weeks, extending a rally that put a grim sell-off that started in May further in the rear-view mirror. While notable for its volatility, gains in the largest cryptocurrency may have gotten lost in the swell of rising prices across the entire asset class. With a majority of decentralized finance and non-fungible token (NFT) trading happening on the Ethereum (ETH-USD) blockchain, the second largest cryptocurrency by market capitalization rose by a third from $2,700 to $3,900, a growth rate 17 percent higher than BTC. And other blockchain-based currencies such as the third highest valued cryptocurrency, Cardano (ADA-USD) has more than doubled while a newer one, Solana (SOL-USD), has more than tripled in value over the past month. ADA and SOL have continued to notch almost daily all time highs for the past two weeks. In fact, new data released on Tuesday from MejoresApuestas.com showed Solana, Dogecoin and Cardano were the fastest-growing cryptos this year. All three posted four-digit increases to their market capitalization, with Solana's surging by 8,616%, and Dogecoin (DOGE-USD) and Cardano following with a 4,351% and 1,499% jump, respectively. Bitcoin IRA, an investment platform that helps retail investors gain crypto exposure in their retirement accounts, saw “record-breaking inflows” of new accounts over the previous month. “We broke our record in the first quarter right before Bitcoin ran from $45,000 to $65,000,” the company’s Chief Operating Officer, Chris Kline told Yahoo Finance. “We’re seeing the same pattern happen again. So this past month [August] felt a lot like April, but about twice as big.” Currently, Bitcoin IRA has close to 120,000 client accounts, with approximately $2 billion in assets on the platform. Although the platform's heft doesn’t move the market, the swell of retail investors opening new accounts — especially for tax-advantaged IRA accounts — is an indicator of how curious investors are as they\",\n",
       "  'Thank you for your patience. Our engineers are working quickly to resolve the issue.',\n",
       "  \"El Salvador is officially the first country in the world to accept Bitcoin as legal currency. CNBC reports the Central American nation's Bitcoin law took effect on September 7th, letting Salvadorans use the cryptocurrency in physical and online shops. Accordingly, locals can use a Chivo wallet app on their phones to make purchases and manage their funds. The government has been eager to give itself a good start. President Nayib Bukele revealed El Salvador had bought 550 Bitcoin as of this writing (about $26 million), and the country's Congress passed a law last week establishing a $150 million fund to aid conversions from Bitcoin to US dollars (also accepted in El Salvador). Bukele previously claimed the move would not only foster investment, tourism and overall economic development, but would make El Salvador's financial system more inclusive by courting the 70 percent of residents who don't have bank accounts. It's also an acknowledgment of the financial reality of the country. Its economy relies in part on remittances from migrants, and Bitcoin theoretically streamlines those transfers. Not everyone is thrilled with the decision, though. Cointelegraph noted that some Salvadorans have protested the adoption of Bitcoin, arguing that politicians didn't consult with the public. They're also worried cryptocurrency's volatility could pose a serious risk next to the relative stability of the US dollar. Reuters added\\xa0that police briefly held an outspoken critic of the Bitcoin law, Mario Gomez. Officials said it was related to a financial fraud investigation, but supporters were concerned this was an act of intimidation meant to silence political opposition. We wouldn't count on other countries rushing to join El Salvador. Countries like the US are exploring central bank cryptocurrencies, potentially more stable and easily regulated than Bitcoin. Other countries are hostile. China banned many companies and institutions from handling cryptocurrency, and India has looked into banning private currencies. There's also the simple matter of varying economic conditions. Successful Bitcoin adoption in El Salvador wouldn't guarantee success elsewhere — other countries might gain little if anything from embracing digital money. El Salvador holds 400 bitcoins, President Nayib Bukele said on Monday,\",\n",
       "  'BANGALORE, India, Sept. 7, 2021 /PRNewswire/ -- Cryptocurrency Market By Offering (Hardware [ASIC, GPU, FPGA, and Others] and Software), Process (Mining and Transaction), Type (Bitcoin [BTC], Ethereum [ETH], Tether [USDT], Binance Coin [BNB], Cardano [ADA], Ripple [XRP], and Others), and End User (Trading, Retail & Ecommerce, Banking, and Others): Global Opportunity Analysis and Industry Forecast, 2021–2030. It is published in Valuates Reports under the Business Finance Category. The global cryptocurrency market size was valued at USD 1.49 billion in 2020 and is projected to reach USD 4.94 billion by 2030, growing at a CAGR of 12.8% from 2021 to 2030. Major factors driving the growth of the Cryptocurrency Market are:  The cryptocurrency market is growing due to an increase in the desire for operational efficiency and transparency in financial payment systems, as well as an increase in demand for remittances in developing nations, and data security. During the projected period, a surge in demand for cryptocurrencies among banks and financial institutions is expected to present attractive opportunities for market expansion. View Full Report: https://reports.valuates.com/market-reports/ALLI-Manu-2G71/cryptocurrency TRENDS INFLUENCING THE GROWTH OF CRYPTOCURRENCY MARKET The rise in need for transparency in the Payment System is expected to drive the growth of the cryptocurrency market. Because of better data transparency and independence across payments in banks, financial services, insurance, and other business sectors, the cryptocurrency market is likely to grow rapidly in the future years. The usage of cryptocurrency in the banking industry has a number of advantages, including the ability to send and receive payments in a transparent manner and the secure storage of customer information for future use. Furthermore, novel blockchain distributed technology protocols are projected to eliminate the requirement for certain organizational solutions and allow several stakeholders to share payment in a transparent manner across the business. Such methods increase supply chain transparency, which aids in the prevention of environmental crimes and other crimes. This increases the likelihood of cryptocurrency acceptance in the future. Untapped Potential on Emerging Economies is expected to further propel the cryptocurrency market growth. Developing economies provide substantial chances for cryptocurrency to expand its operations by',\n",
       "  'Thank you for your patience. Our engineers are working quickly to resolve the issue.',\n",
       "  \"By Geoffrey Smith Investing.com -- Economic data from China and Europe keep the global recovery on track. Bitcoin becomes legal tender in El Salvador. Disney blows away a 13-year old record for a Labor Day weekend debut at the box office, and oil falls despite a slow return to normal in the Gulf of Mexico. Here's what you need to know in financial markets on Tuesday, 7th September. 1. Chinese trade booms, Europe GDP upgraded Economic data in China and Europe gave reassurances that the recovery is still largely on track despite the wave of Delta-variant Covid-19 that has snarled supply chains and complicated the summer tourist season. Chinese imports grew by 33% on the year in August, while exports grew by 25.6%, both numbers coming in comfortably expectations. The numbers included record value amounts of iron ore imports, although that wasn’t enough to stop iron ore futures falling to a 14-month low on expectations of further output curbs on steelmakers. Eurozone GDP for the second quarter was meanwhile revised up to show growth of 2.2% on the quarter and 14.3% on the year, largely due to stronger consumption. The pandemic nonetheless left its mark in Australia, where the central bank said it will take more time to phase out its asset purchases, even though it tapered its rate of bond-buying as planned 2. Bitcoin's legal milestone Bitcoin (BitfinexUSD) briefly rose above $52,000 on a wave of positive sentiment as the cryptocurrency formally became legal tender in El Salvador. The Latin American country is the first in the world to take this step, which it hopes will facilitate the flow of remittances from expatriate workers back to the local economy. Hopes that this could spark a trend still seem ambitious, however. Even El Salvador has said that Bitcoin can’t be used to pay taxes, an eloquent statement as to what the government thinks of its real underlying value. That, plus the fact that the news had been well flagged, meant that the rally soon reversed. Other coins also reversed under pressure from the selling in Bitcoin. 3. Stocks set to\",\n",
       "  ' In not so many words, uber popular money manager Cathie Wood told Yahoo Finance Live billionaire and money manager John Paulson should put a few books about bitcoin (BTC-USD) on his fall reading list because the leading cryptocurrency is here to stay.\\xa0 \"John Paulson made an incredible call during the mortgage crisis. He has been a gold bug, I would say, for most of his career. And many investors who have spent their careers focused on gold cannot understand the digital concept associated with gold,\" said Wood, the closely watched founder of Ark Invest and crypto bull.\\xa0 Paulson did not return an email from Yahoo Finance seeking comment.\\xa0 Wood has been a long-time proponent of crypto. She has exposure to the ups and downs of crypto through the performance of levered stocks such as Coinbase (COIN) and Square (SQ) in her various innovation focused ETFs. Suffice to say Paulson has a wildly different take, similar to many other well-known old-timers in the financial services industry. The Paulson & Co. founder — who shot to fame during the financial crisis for raking in billions for his hedge fund by betting against subprime mortgages — recently told Bloomberg crypto will \"eventually prove to be worthless.\" “I wouldn’t recommend anyone invest in cryptocurrencies,\" said Paulson, who turned his hedge fund into a family office in 2020 amid a steady drumbeat of outflows, in the interview.\\xa0 Wood said Paulson and others like him — aka crypto detractors —are missing several important points on the topic. \"What we think he is missing is that bitcoin is much more than just a store of value or digital gold. Bitcoin in particular is a new global monetary system. It\\'s a rules-based monetary policy, which is completely de-centralized and therefore is not subject to the whims of policymakers. In fact, it\\'s a hedge against the whims of policymakers, especially in emerging markets,\" Wood explained.\\xa0 Wood is hopeful that Paulson will convert just like other big names in finance. She added, \"I don\\'t know how closely John Paulson and some of the other naysayers have looked at it',\n",
       "  ' Bitcoin has been touted as the digital gold in various quarters, and an investment trust now believes the cryptocurrency’s upward potential is massive. Bitcoin has been one of the leading financial assets in the world over the past decade, delivering thousands of percentages in profits to the early investors. The past few months have seen numerous hedge funds and other institutional investors enter the cryptocurrency market. Their entry marks a new phase for Bitcoin, and some of them believe that it has a huge upward potential. Miller Opportunity Trust, a fund founded by billionaire investor Bill Miller, believes that Bitcoin as a digital gold still has significant upward potential. The fund discussed its recent exposure to Bitcoin and said it could seek to boost its investment over the next few years. While talking about its decision to gain exposure to Bitcoin via the Grayscale Bitcoin Trust (GBTC), Miller Opportunity Trust said Bitcoin is the digital gold, and its potential is still massive. Gold’s market cap is over $11 trillion while Bitcoin has just around $11 trillion, with the Bill Miller fund stating that Bitcoin still has a long way to go to catch up to Gold. The firm stated that we are still early in a continuing adoption curve. It warned that Bitcoin will be volatile but it believes the risk-reward for the coin is attractive. Bill Miller is bullish on Bitcoin, stating that there is no asset in the world that combines Bitcoin’s liquidity with its upside potential. More hedge funds and institutional investors have been entering the cryptocurrency market. Bitcoin and Ethereum are the two most sought-after cryptocurrencies as they remain the market leaders. Bitcoin has been struggling below the $50k mark in recent weeks but was finally able to settle above that resistance level during the weekend. BTC is up by over 3.5% in the last 24 hours, and it is trading above $51k per coin at the moment. If the current bullish trend continues, BTC could cross the $55k level over the next few days. Bitcoin (BTC) is closing in on its all-time high price',\n",
       "  ' Bitcoin is an investment vehicle that more people are looking to get into, and the traditional banks are not missing sight of this fact. The past few months have been characterized by the institutional adoption of Bitcoin and other cryptocurrencies. Institutional investors have started seeing the value that Bitcoin holds and are seeking more ways to gain exposure to the cryptocurrency market. However, traditional banks have been slow to catch up with the train as many are still skeptical of the cryptocurrency space. The mood is changing, though, as an increasing number of traditional banks are starting to warm up to Bitcoin. Yesterday, Vast Bank became the first chartered bank in the United States to start offering Bitcoin services to its clients. The CEO of the bank, Brad Scrivner, revealed this information to Forbes during an exclusive interview. Vast Bank customers can now buy and sell Bitcoin directly. In the process, Vast Bank becomes the first bank in the United States with FDIC insurance and a Federal Reserve charter to offer such services to its clients. The customers can buy and sell BTC directly from an FDIC-insured checking account, and Vast Bank’s Bitcoin custody solution has a mobile trading platform to allow users to make instant settlements to the account. The chartered bank is able to launch this service after gaining approval from the Office of the Comptroller of the Currency (OCC) and also discussing its steps with the Federal Reserve. Vast Bank’s entry into the Bitcoin purchase and custody market could convince more traditional banks to start offering similar services. According to Vast Bank’s CEO, the move was prompted by an increase in demand for Bitcoin from its customers. BTC is currently trading above $50k per coin after going up by less than 1% in the past 24 hours. The leading cryptocurrency is still some way off its all-time high above $64k but is up by over 60% since it dropped below $30k a few weeks ago. This article was originally posted on FX Empire EUR/USD Price Forecast – Euro Reaches Towards 1.19 GBP/USD Daily Forecast – U.S.']}"
      ]
     },
     "execution_count": 19,
     "metadata": {},
     "output_type": "execute_result"
    }
   ],
   "source": [
    "articles = {ticker:scrape_and_process(cleaned_urls[ticker]) for ticker in monitored_tickers}\n",
    "articles"
   ]
  },
  {
   "cell_type": "code",
   "execution_count": 20,
   "metadata": {},
   "outputs": [
    {
     "data": {
      "text/plain": [
       "'Thank you for your patience. Our engineers are working quickly to resolve the issue.'"
      ]
     },
     "execution_count": 20,
     "metadata": {},
     "output_type": "execute_result"
    }
   ],
   "source": [
    "articles['BTC'][2]"
   ]
  },
  {
   "cell_type": "markdown",
   "metadata": {},
   "source": [
    "## 4.4. Summarise all Articles"
   ]
  },
  {
   "cell_type": "code",
   "execution_count": 21,
   "metadata": {},
   "outputs": [],
   "source": [
    "def summarize(articles):\n",
    "    summaries = []\n",
    "    for article in articles:\n",
    "        input_ids = tokenizer.encode(article, return_tensors='pt')\n",
    "        output = model.generate(input_ids, max_length=55, num_beams=5, early_stopping=True)\n",
    "        summary = tokenizer.decode(output[0], skip_special_tokens=True)\n",
    "        summaries.append(summary)\n",
    "    return summaries"
   ]
  },
  {
   "cell_type": "code",
   "execution_count": 22,
   "metadata": {},
   "outputs": [
    {
     "data": {
      "text/plain": [
       "{'ADA': ['Cardano, Solana, Dogecoin among fastest-growing cryptos. Bitcoin IRA sees ‘record-breaking inflows’ of new accounts',\n",
       "  'Ethereum, Cardano and Solana also see inflows. Bitcoin continues to see outflows for eighth consecutive week',\n",
       "  'Is the recent low of $2.47 a 4th wave correction already over? Wave-b is now underway, targeting as high as $2.97-3.17',\n",
       "  'Dogecoin, polkadot and ADA all fall more than 8% on debut in Japan. Bitcoin, Ether, Polkadot and SOL all trade lower',\n",
       "  'We are aware of the issue and are working to resolve it.',\n",
       "  'ADA has surpassed BNB to become third-largest cryptocurrency by market cap. Network prepares for mainnet launch later this month',\n",
       "  'Ethereum-based tokens to be migrated to Cardano. Hoskinson says more than 100 companies have already announced plans to use the tool',\n",
       "  'We are aware of the issue and are working to resolve it.',\n",
       "  'We are aware of the issue and are working to resolve it.',\n",
       "  'Cardano’s native token has been on a tear in recent weeks. Smart contracts to be implemented on Cardano’s testnet'],\n",
       " 'ETH': ['We are aware of the issue and are working to resolve it.',\n",
       "  'Cardano, Solana, Dogecoin among fastest-growing cryptos. Bitcoin IRA sees ‘record-breaking inflows’ of new accounts',\n",
       "  'Ethereum rallies to a late intraday high $3,982.64 before easing back. Litecoin breaks through first major resistance level at $222',\n",
       "  'We are aware of the issue and are working to resolve it.',\n",
       "  'We are aware of the issue and are working to resolve it.',\n",
       "  'Shares of crypto-related stocks trading lower. Bitcoin and Ethereum are trading lower on Tuesday',\n",
       "  'Ethereum rallies by 22.49%, Bitcoin rises by 6.10%.',\n",
       "  'Bill Miller’s Miller Opportunity Trust has recently invested in the coin. Bitcoin is closing in on its all-time high price of $55k per coin',\n",
       "  'Ethereum breaks through major resistance level at $4,030.35 before late pullback. Litecoin surges to a late intraday high at $218.00 on Friday',\n",
       "  'SOL has tripled in about three weeks and now has a market value of more than $41 billion. Backers tout speed, lower cost of transactions on Solana'],\n",
       " 'BTC': ['Every Salvadoran to be offered a government-run digital wallet. Law comes amid protest and uncertainty about access to the cryptocurrency',\n",
       "  'Cardano, Solana, Dogecoin among fastest-growing cryptos. Bitcoin IRA sees ‘record-breaking inflows’ of new accounts',\n",
       "  'We are aware of the issue and are working to resolve it.',\n",
       "  'Locals can now use the cryptocurrency in physical and online shops. El Salvador is the first country in the world to adopt Bitcoin',\n",
       "  'The cryptocurrency market is growing due to an increase in desire for transparency in financial payment systems.',\n",
       "  'We are aware of the issue and are working to resolve it.',\n",
       "  'China, Europe trade data keep global recovery on track. Bitcoin briefly rises above $52,000 on wave of positive sentiment',\n",
       "  'Wood: ‘He has been a gold bug, for most of his career',\n",
       "  'Bill Miller’s Miller Opportunity Trust has recently invested in the coin. Bitcoin is closing in on its all-time high price of $55k per coin',\n",
       "  'Chartered bank Vast Bank becomes first in U.S. to offer such services. Bitcoin is currently trading above $50k per coin']}"
      ]
     },
     "execution_count": 22,
     "metadata": {},
     "output_type": "execute_result"
    }
   ],
   "source": [
    "summaries = {ticker:summarize(articles[ticker]) for ticker in monitored_tickers}\n",
    "summaries"
   ]
  },
  {
   "cell_type": "code",
   "execution_count": 23,
   "metadata": {},
   "outputs": [
    {
     "data": {
      "text/plain": [
       "['Every Salvadoran to be offered a government-run digital wallet. Law comes amid protest and uncertainty about access to the cryptocurrency',\n",
       " 'Cardano, Solana, Dogecoin among fastest-growing cryptos. Bitcoin IRA sees ‘record-breaking inflows’ of new accounts',\n",
       " 'We are aware of the issue and are working to resolve it.',\n",
       " 'Locals can now use the cryptocurrency in physical and online shops. El Salvador is the first country in the world to adopt Bitcoin',\n",
       " 'The cryptocurrency market is growing due to an increase in desire for transparency in financial payment systems.',\n",
       " 'We are aware of the issue and are working to resolve it.',\n",
       " 'China, Europe trade data keep global recovery on track. Bitcoin briefly rises above $52,000 on wave of positive sentiment',\n",
       " 'Wood: ‘He has been a gold bug, for most of his career',\n",
       " 'Bill Miller’s Miller Opportunity Trust has recently invested in the coin. Bitcoin is closing in on its all-time high price of $55k per coin',\n",
       " 'Chartered bank Vast Bank becomes first in U.S. to offer such services. Bitcoin is currently trading above $50k per coin']"
      ]
     },
     "execution_count": 23,
     "metadata": {},
     "output_type": "execute_result"
    }
   ],
   "source": [
    "summaries['BTC']"
   ]
  },
  {
   "cell_type": "markdown",
   "metadata": {},
   "source": [
    "# 5. Adding Sentiment Analysis"
   ]
  },
  {
   "cell_type": "code",
   "execution_count": 24,
   "metadata": {},
   "outputs": [],
   "source": [
    "from transformers import pipeline\n",
    "sentiment = pipeline('sentiment-analysis')"
   ]
  },
  {
   "cell_type": "code",
   "execution_count": 25,
   "metadata": {},
   "outputs": [
    {
     "data": {
      "text/plain": [
       "[{'label': 'POSITIVE', 'score': 0.9979087710380554},\n",
       " {'label': 'POSITIVE', 'score': 0.9976463317871094},\n",
       " {'label': 'NEGATIVE', 'score': 0.9816083908081055},\n",
       " {'label': 'POSITIVE', 'score': 0.9979087710380554},\n",
       " {'label': 'POSITIVE', 'score': 0.9979087710380554},\n",
       " {'label': 'NEGATIVE', 'score': 0.9996261596679688},\n",
       " {'label': 'NEGATIVE', 'score': 0.9699082970619202},\n",
       " {'label': 'POSITIVE', 'score': 0.9861598610877991},\n",
       " {'label': 'NEGATIVE', 'score': 0.9868157505989075},\n",
       " {'label': 'NEGATIVE', 'score': 0.9837801456451416}]"
      ]
     },
     "execution_count": 25,
     "metadata": {},
     "output_type": "execute_result"
    }
   ],
   "source": [
    "sentiment(summaries['ETH'])"
   ]
  },
  {
   "cell_type": "code",
   "execution_count": 26,
   "metadata": {},
   "outputs": [
    {
     "data": {
      "text/plain": [
       "{'ADA': [{'label': 'POSITIVE', 'score': 0.9976463317871094},\n",
       "  {'label': 'POSITIVE', 'score': 0.9340047836303711},\n",
       "  {'label': 'NEGATIVE', 'score': 0.9983871579170227},\n",
       "  {'label': 'NEGATIVE', 'score': 0.9990785717964172},\n",
       "  {'label': 'POSITIVE', 'score': 0.9979087710380554},\n",
       "  {'label': 'POSITIVE', 'score': 0.8167056441307068},\n",
       "  {'label': 'NEGATIVE', 'score': 0.9975221157073975},\n",
       "  {'label': 'POSITIVE', 'score': 0.9979087710380554},\n",
       "  {'label': 'POSITIVE', 'score': 0.9979087710380554},\n",
       "  {'label': 'NEGATIVE', 'score': 0.962354302406311}],\n",
       " 'ETH': [{'label': 'POSITIVE', 'score': 0.9979087710380554},\n",
       "  {'label': 'POSITIVE', 'score': 0.9976463317871094},\n",
       "  {'label': 'NEGATIVE', 'score': 0.9816083908081055},\n",
       "  {'label': 'POSITIVE', 'score': 0.9979087710380554},\n",
       "  {'label': 'POSITIVE', 'score': 0.9979087710380554},\n",
       "  {'label': 'NEGATIVE', 'score': 0.9996261596679688},\n",
       "  {'label': 'NEGATIVE', 'score': 0.9699082970619202},\n",
       "  {'label': 'POSITIVE', 'score': 0.9861598610877991},\n",
       "  {'label': 'NEGATIVE', 'score': 0.9868157505989075},\n",
       "  {'label': 'NEGATIVE', 'score': 0.9837801456451416}],\n",
       " 'BTC': [{'label': 'NEGATIVE', 'score': 0.9930766224861145},\n",
       "  {'label': 'POSITIVE', 'score': 0.9976463317871094},\n",
       "  {'label': 'POSITIVE', 'score': 0.9979087710380554},\n",
       "  {'label': 'POSITIVE', 'score': 0.6546297669410706},\n",
       "  {'label': 'POSITIVE', 'score': 0.9898009896278381},\n",
       "  {'label': 'POSITIVE', 'score': 0.9979087710380554},\n",
       "  {'label': 'POSITIVE', 'score': 0.9883960485458374},\n",
       "  {'label': 'NEGATIVE', 'score': 0.9008921980857849},\n",
       "  {'label': 'POSITIVE', 'score': 0.9861598610877991},\n",
       "  {'label': 'POSITIVE', 'score': 0.8235458135604858}]}"
      ]
     },
     "execution_count": 26,
     "metadata": {},
     "output_type": "execute_result"
    }
   ],
   "source": [
    "scores = {ticker:sentiment(summaries[ticker]) for ticker in monitored_tickers}\n",
    "scores"
   ]
  },
  {
   "cell_type": "code",
   "execution_count": 27,
   "metadata": {},
   "outputs": [
    {
     "name": "stdout",
     "output_type": "stream",
     "text": [
      "We are aware of the issue and are working to resolve it. POSITIVE 0.9979087710380554\n"
     ]
    }
   ],
   "source": [
    "print(summaries['ETH'][3], scores['ETH'][3]['label'], scores['ETH'][3]['score'])"
   ]
  },
  {
   "cell_type": "code",
   "execution_count": 28,
   "metadata": {},
   "outputs": [
    {
     "data": {
      "text/plain": [
       "0.9979087710380554"
      ]
     },
     "execution_count": 28,
     "metadata": {},
     "output_type": "execute_result"
    }
   ],
   "source": [
    "scores['ETH'][0]['score']"
   ]
  },
  {
   "cell_type": "markdown",
   "metadata": {},
   "source": [
    "# 6. Exporting Results to CSV"
   ]
  },
  {
   "cell_type": "code",
   "execution_count": 29,
   "metadata": {},
   "outputs": [
    {
     "data": {
      "text/plain": [
       "{'ADA': ['Cardano, Solana, Dogecoin among fastest-growing cryptos. Bitcoin IRA sees ‘record-breaking inflows’ of new accounts',\n",
       "  'Ethereum, Cardano and Solana also see inflows. Bitcoin continues to see outflows for eighth consecutive week',\n",
       "  'Is the recent low of $2.47 a 4th wave correction already over? Wave-b is now underway, targeting as high as $2.97-3.17',\n",
       "  'Dogecoin, polkadot and ADA all fall more than 8% on debut in Japan. Bitcoin, Ether, Polkadot and SOL all trade lower',\n",
       "  'We are aware of the issue and are working to resolve it.',\n",
       "  'ADA has surpassed BNB to become third-largest cryptocurrency by market cap. Network prepares for mainnet launch later this month',\n",
       "  'Ethereum-based tokens to be migrated to Cardano. Hoskinson says more than 100 companies have already announced plans to use the tool',\n",
       "  'We are aware of the issue and are working to resolve it.',\n",
       "  'We are aware of the issue and are working to resolve it.',\n",
       "  'Cardano’s native token has been on a tear in recent weeks. Smart contracts to be implemented on Cardano’s testnet'],\n",
       " 'ETH': ['We are aware of the issue and are working to resolve it.',\n",
       "  'Cardano, Solana, Dogecoin among fastest-growing cryptos. Bitcoin IRA sees ‘record-breaking inflows’ of new accounts',\n",
       "  'Ethereum rallies to a late intraday high $3,982.64 before easing back. Litecoin breaks through first major resistance level at $222',\n",
       "  'We are aware of the issue and are working to resolve it.',\n",
       "  'We are aware of the issue and are working to resolve it.',\n",
       "  'Shares of crypto-related stocks trading lower. Bitcoin and Ethereum are trading lower on Tuesday',\n",
       "  'Ethereum rallies by 22.49%, Bitcoin rises by 6.10%.',\n",
       "  'Bill Miller’s Miller Opportunity Trust has recently invested in the coin. Bitcoin is closing in on its all-time high price of $55k per coin',\n",
       "  'Ethereum breaks through major resistance level at $4,030.35 before late pullback. Litecoin surges to a late intraday high at $218.00 on Friday',\n",
       "  'SOL has tripled in about three weeks and now has a market value of more than $41 billion. Backers tout speed, lower cost of transactions on Solana'],\n",
       " 'BTC': ['Every Salvadoran to be offered a government-run digital wallet. Law comes amid protest and uncertainty about access to the cryptocurrency',\n",
       "  'Cardano, Solana, Dogecoin among fastest-growing cryptos. Bitcoin IRA sees ‘record-breaking inflows’ of new accounts',\n",
       "  'We are aware of the issue and are working to resolve it.',\n",
       "  'Locals can now use the cryptocurrency in physical and online shops. El Salvador is the first country in the world to adopt Bitcoin',\n",
       "  'The cryptocurrency market is growing due to an increase in desire for transparency in financial payment systems.',\n",
       "  'We are aware of the issue and are working to resolve it.',\n",
       "  'China, Europe trade data keep global recovery on track. Bitcoin briefly rises above $52,000 on wave of positive sentiment',\n",
       "  'Wood: ‘He has been a gold bug, for most of his career',\n",
       "  'Bill Miller’s Miller Opportunity Trust has recently invested in the coin. Bitcoin is closing in on its all-time high price of $55k per coin',\n",
       "  'Chartered bank Vast Bank becomes first in U.S. to offer such services. Bitcoin is currently trading above $50k per coin']}"
      ]
     },
     "execution_count": 29,
     "metadata": {},
     "output_type": "execute_result"
    }
   ],
   "source": [
    "summaries"
   ]
  },
  {
   "cell_type": "code",
   "execution_count": 30,
   "metadata": {},
   "outputs": [
    {
     "data": {
      "text/plain": [
       "{'ADA': [{'label': 'POSITIVE', 'score': 0.9976463317871094},\n",
       "  {'label': 'POSITIVE', 'score': 0.9340047836303711},\n",
       "  {'label': 'NEGATIVE', 'score': 0.9983871579170227},\n",
       "  {'label': 'NEGATIVE', 'score': 0.9990785717964172},\n",
       "  {'label': 'POSITIVE', 'score': 0.9979087710380554},\n",
       "  {'label': 'POSITIVE', 'score': 0.8167056441307068},\n",
       "  {'label': 'NEGATIVE', 'score': 0.9975221157073975},\n",
       "  {'label': 'POSITIVE', 'score': 0.9979087710380554},\n",
       "  {'label': 'POSITIVE', 'score': 0.9979087710380554},\n",
       "  {'label': 'NEGATIVE', 'score': 0.962354302406311}],\n",
       " 'ETH': [{'label': 'POSITIVE', 'score': 0.9979087710380554},\n",
       "  {'label': 'POSITIVE', 'score': 0.9976463317871094},\n",
       "  {'label': 'NEGATIVE', 'score': 0.9816083908081055},\n",
       "  {'label': 'POSITIVE', 'score': 0.9979087710380554},\n",
       "  {'label': 'POSITIVE', 'score': 0.9979087710380554},\n",
       "  {'label': 'NEGATIVE', 'score': 0.9996261596679688},\n",
       "  {'label': 'NEGATIVE', 'score': 0.9699082970619202},\n",
       "  {'label': 'POSITIVE', 'score': 0.9861598610877991},\n",
       "  {'label': 'NEGATIVE', 'score': 0.9868157505989075},\n",
       "  {'label': 'NEGATIVE', 'score': 0.9837801456451416}],\n",
       " 'BTC': [{'label': 'NEGATIVE', 'score': 0.9930766224861145},\n",
       "  {'label': 'POSITIVE', 'score': 0.9976463317871094},\n",
       "  {'label': 'POSITIVE', 'score': 0.9979087710380554},\n",
       "  {'label': 'POSITIVE', 'score': 0.6546297669410706},\n",
       "  {'label': 'POSITIVE', 'score': 0.9898009896278381},\n",
       "  {'label': 'POSITIVE', 'score': 0.9979087710380554},\n",
       "  {'label': 'POSITIVE', 'score': 0.9883960485458374},\n",
       "  {'label': 'NEGATIVE', 'score': 0.9008921980857849},\n",
       "  {'label': 'POSITIVE', 'score': 0.9861598610877991},\n",
       "  {'label': 'POSITIVE', 'score': 0.8235458135604858}]}"
      ]
     },
     "execution_count": 30,
     "metadata": {},
     "output_type": "execute_result"
    }
   ],
   "source": [
    "scores"
   ]
  },
  {
   "cell_type": "code",
   "execution_count": 31,
   "metadata": {},
   "outputs": [
    {
     "data": {
      "text/plain": [
       "{'ADA': ['https://finance.yahoo.com/news/what-augusts-record-breaking-month-for-crypto-flows-means-for-bitcoin-163906276.html',\n",
       "  'https://finance.yahoo.com/news/institutions-load-24m-eth-ada-142945976.html',\n",
       "  'https://finance.yahoo.com/news/cardano-ada-expect-pullback-another-192023603.html',\n",
       "  'https://finance.yahoo.com/news/ada-sol-lead-way-crypto-110019476.html',\n",
       "  'https://finance.yahoo.com/video/explaining-crypto-price-plunge-212051886.html',\n",
       "  'https://finance.yahoo.com/news/cardano-hits-3-mark-first-155147241.html',\n",
       "  'https://finance.yahoo.com/news/cardano-launch-erc-20-ethereum-110017667.html',\n",
       "  'https://finance.yahoo.com/news/cardaswap-finance-determined-turn-uniswap-180900658.html',\n",
       "  'https://finance.yahoo.com/video/ethereum-hits-highest-levels-since-201441481.html',\n",
       "  'https://finance.yahoo.com/news/cardano-ada-reaches-time-high-221801619.html'],\n",
       " 'ETH': ['https://finance.yahoo.com/news/bitcoin-ether-war-standard-chartered-115729714.html',\n",
       "  'https://finance.yahoo.com/news/what-augusts-record-breaking-month-for-crypto-flows-means-for-bitcoin-163906276.html',\n",
       "  'https://finance.yahoo.com/news/ethereum-litecoin-ripple-xrp-daily-005205258.html',\n",
       "  'https://finance.yahoo.com/news/ethereum-litecoin-ripple-xrp-daily-001447430.html',\n",
       "  'https://finance.yahoo.com/news/bitcoin-crashes-below-50000-163721506.html',\n",
       "  'https://finance.yahoo.com/news/why-bitcoin-related-ethereum-related-151300113.html',\n",
       "  'https://finance.yahoo.com/news/bitcoin-ethereum-weekly-technical-analysis-022133478.html',\n",
       "  'https://finance.yahoo.com/news/bitcoin-digital-gold-significant-upward-111258831.html',\n",
       "  'https://finance.yahoo.com/news/ethereum-litecoin-ripple-xrp-daily-003506829.html',\n",
       "  'https://finance.yahoo.com/news/token-ethereum-rival-solana-jumps-062253042.html'],\n",
       " 'BTC': ['https://ca.finance.yahoo.com/news/bitcoin-el-salvador-cryptocurrencies-legal-tender-ethereum-230124576.html',\n",
       "  'https://finance.yahoo.com/news/what-augusts-record-breaking-month-for-crypto-flows-means-for-bitcoin-163906276.html',\n",
       "  'https://finance.yahoo.com/news/emerging-markets-latam-currencies-weaken-142459953.html',\n",
       "  'https://finance.yahoo.com/news/el-salvador-accepts-bitcoin-legal-currency-162452362.html',\n",
       "  'https://finance.yahoo.com/news/cryptocurrency-market-size-reach-usd-150000198.html',\n",
       "  'https://finance.yahoo.com/news/bitcoin-crashes-below-50000-163721506.html',\n",
       "  'https://finance.yahoo.com/news/china-euro-data-cheer-bitcoin-064223805.html',\n",
       "  'https://finance.yahoo.com/news/bitcoin-is-the-future-despite-billionaire-haters-ark-invests-cathie-wood-102641275.html',\n",
       "  'https://finance.yahoo.com/news/bitcoin-digital-gold-significant-upward-111258831.html',\n",
       "  'https://finance.yahoo.com/news/vast-bank-bitcoin-move-shows-101024039.html']}"
      ]
     },
     "execution_count": 31,
     "metadata": {},
     "output_type": "execute_result"
    }
   ],
   "source": [
    "cleaned_urls"
   ]
  },
  {
   "cell_type": "code",
   "execution_count": 32,
   "metadata": {},
   "outputs": [
    {
     "data": {
      "text/plain": [
       "range(0, 10)"
      ]
     },
     "execution_count": 32,
     "metadata": {},
     "output_type": "execute_result"
    }
   ],
   "source": [
    "range(len(summaries['ETH']))"
   ]
  },
  {
   "cell_type": "code",
   "execution_count": 33,
   "metadata": {},
   "outputs": [
    {
     "data": {
      "text/plain": [
       "'We are aware of the issue and are working to resolve it.'"
      ]
     },
     "execution_count": 33,
     "metadata": {},
     "output_type": "execute_result"
    }
   ],
   "source": [
    "summaries['ETH'][3]"
   ]
  },
  {
   "cell_type": "code",
   "execution_count": 34,
   "metadata": {},
   "outputs": [],
   "source": [
    "def create_output_array(summaries, scores, urls):\n",
    "    output = []\n",
    "    for ticker in monitored_tickers:\n",
    "        for counter in range(len(summaries[ticker])):\n",
    "            output_this = [\n",
    "                ticker,\n",
    "                summaries[ticker][counter],\n",
    "                scores[ticker][counter]['label'],\n",
    "                scores[ticker][counter]['score'],\n",
    "                urls[ticker][counter]\n",
    "            ]\n",
    "            output.append(output_this)\n",
    "    return output"
   ]
  },
  {
   "cell_type": "code",
   "execution_count": 35,
   "metadata": {},
   "outputs": [
    {
     "data": {
      "text/plain": [
       "[['ADA',\n",
       "  'Cardano, Solana, Dogecoin among fastest-growing cryptos. Bitcoin IRA sees ‘record-breaking inflows’ of new accounts',\n",
       "  'POSITIVE',\n",
       "  0.9976463317871094,\n",
       "  'https://finance.yahoo.com/news/what-augusts-record-breaking-month-for-crypto-flows-means-for-bitcoin-163906276.html'],\n",
       " ['ADA',\n",
       "  'Ethereum, Cardano and Solana also see inflows. Bitcoin continues to see outflows for eighth consecutive week',\n",
       "  'POSITIVE',\n",
       "  0.9340047836303711,\n",
       "  'https://finance.yahoo.com/news/institutions-load-24m-eth-ada-142945976.html'],\n",
       " ['ADA',\n",
       "  'Is the recent low of $2.47 a 4th wave correction already over? Wave-b is now underway, targeting as high as $2.97-3.17',\n",
       "  'NEGATIVE',\n",
       "  0.9983871579170227,\n",
       "  'https://finance.yahoo.com/news/cardano-ada-expect-pullback-another-192023603.html'],\n",
       " ['ADA',\n",
       "  'Dogecoin, polkadot and ADA all fall more than 8% on debut in Japan. Bitcoin, Ether, Polkadot and SOL all trade lower',\n",
       "  'NEGATIVE',\n",
       "  0.9990785717964172,\n",
       "  'https://finance.yahoo.com/news/ada-sol-lead-way-crypto-110019476.html'],\n",
       " ['ADA',\n",
       "  'We are aware of the issue and are working to resolve it.',\n",
       "  'POSITIVE',\n",
       "  0.9979087710380554,\n",
       "  'https://finance.yahoo.com/video/explaining-crypto-price-plunge-212051886.html'],\n",
       " ['ADA',\n",
       "  'ADA has surpassed BNB to become third-largest cryptocurrency by market cap. Network prepares for mainnet launch later this month',\n",
       "  'POSITIVE',\n",
       "  0.8167056441307068,\n",
       "  'https://finance.yahoo.com/news/cardano-hits-3-mark-first-155147241.html'],\n",
       " ['ADA',\n",
       "  'Ethereum-based tokens to be migrated to Cardano. Hoskinson says more than 100 companies have already announced plans to use the tool',\n",
       "  'NEGATIVE',\n",
       "  0.9975221157073975,\n",
       "  'https://finance.yahoo.com/news/cardano-launch-erc-20-ethereum-110017667.html'],\n",
       " ['ADA',\n",
       "  'We are aware of the issue and are working to resolve it.',\n",
       "  'POSITIVE',\n",
       "  0.9979087710380554,\n",
       "  'https://finance.yahoo.com/news/cardaswap-finance-determined-turn-uniswap-180900658.html'],\n",
       " ['ADA',\n",
       "  'We are aware of the issue and are working to resolve it.',\n",
       "  'POSITIVE',\n",
       "  0.9979087710380554,\n",
       "  'https://finance.yahoo.com/video/ethereum-hits-highest-levels-since-201441481.html'],\n",
       " ['ADA',\n",
       "  'Cardano’s native token has been on a tear in recent weeks. Smart contracts to be implemented on Cardano’s testnet',\n",
       "  'NEGATIVE',\n",
       "  0.962354302406311,\n",
       "  'https://finance.yahoo.com/news/cardano-ada-reaches-time-high-221801619.html'],\n",
       " ['ETH',\n",
       "  'We are aware of the issue and are working to resolve it.',\n",
       "  'POSITIVE',\n",
       "  0.9979087710380554,\n",
       "  'https://finance.yahoo.com/news/bitcoin-ether-war-standard-chartered-115729714.html'],\n",
       " ['ETH',\n",
       "  'Cardano, Solana, Dogecoin among fastest-growing cryptos. Bitcoin IRA sees ‘record-breaking inflows’ of new accounts',\n",
       "  'POSITIVE',\n",
       "  0.9976463317871094,\n",
       "  'https://finance.yahoo.com/news/what-augusts-record-breaking-month-for-crypto-flows-means-for-bitcoin-163906276.html'],\n",
       " ['ETH',\n",
       "  'Ethereum rallies to a late intraday high $3,982.64 before easing back. Litecoin breaks through first major resistance level at $222',\n",
       "  'NEGATIVE',\n",
       "  0.9816083908081055,\n",
       "  'https://finance.yahoo.com/news/ethereum-litecoin-ripple-xrp-daily-005205258.html'],\n",
       " ['ETH',\n",
       "  'We are aware of the issue and are working to resolve it.',\n",
       "  'POSITIVE',\n",
       "  0.9979087710380554,\n",
       "  'https://finance.yahoo.com/news/ethereum-litecoin-ripple-xrp-daily-001447430.html'],\n",
       " ['ETH',\n",
       "  'We are aware of the issue and are working to resolve it.',\n",
       "  'POSITIVE',\n",
       "  0.9979087710380554,\n",
       "  'https://finance.yahoo.com/news/bitcoin-crashes-below-50000-163721506.html'],\n",
       " ['ETH',\n",
       "  'Shares of crypto-related stocks trading lower. Bitcoin and Ethereum are trading lower on Tuesday',\n",
       "  'NEGATIVE',\n",
       "  0.9996261596679688,\n",
       "  'https://finance.yahoo.com/news/why-bitcoin-related-ethereum-related-151300113.html'],\n",
       " ['ETH',\n",
       "  'Ethereum rallies by 22.49%, Bitcoin rises by 6.10%.',\n",
       "  'NEGATIVE',\n",
       "  0.9699082970619202,\n",
       "  'https://finance.yahoo.com/news/bitcoin-ethereum-weekly-technical-analysis-022133478.html'],\n",
       " ['ETH',\n",
       "  'Bill Miller’s Miller Opportunity Trust has recently invested in the coin. Bitcoin is closing in on its all-time high price of $55k per coin',\n",
       "  'POSITIVE',\n",
       "  0.9861598610877991,\n",
       "  'https://finance.yahoo.com/news/bitcoin-digital-gold-significant-upward-111258831.html'],\n",
       " ['ETH',\n",
       "  'Ethereum breaks through major resistance level at $4,030.35 before late pullback. Litecoin surges to a late intraday high at $218.00 on Friday',\n",
       "  'NEGATIVE',\n",
       "  0.9868157505989075,\n",
       "  'https://finance.yahoo.com/news/ethereum-litecoin-ripple-xrp-daily-003506829.html'],\n",
       " ['ETH',\n",
       "  'SOL has tripled in about three weeks and now has a market value of more than $41 billion. Backers tout speed, lower cost of transactions on Solana',\n",
       "  'NEGATIVE',\n",
       "  0.9837801456451416,\n",
       "  'https://finance.yahoo.com/news/token-ethereum-rival-solana-jumps-062253042.html'],\n",
       " ['BTC',\n",
       "  'Every Salvadoran to be offered a government-run digital wallet. Law comes amid protest and uncertainty about access to the cryptocurrency',\n",
       "  'NEGATIVE',\n",
       "  0.9930766224861145,\n",
       "  'https://ca.finance.yahoo.com/news/bitcoin-el-salvador-cryptocurrencies-legal-tender-ethereum-230124576.html'],\n",
       " ['BTC',\n",
       "  'Cardano, Solana, Dogecoin among fastest-growing cryptos. Bitcoin IRA sees ‘record-breaking inflows’ of new accounts',\n",
       "  'POSITIVE',\n",
       "  0.9976463317871094,\n",
       "  'https://finance.yahoo.com/news/what-augusts-record-breaking-month-for-crypto-flows-means-for-bitcoin-163906276.html'],\n",
       " ['BTC',\n",
       "  'We are aware of the issue and are working to resolve it.',\n",
       "  'POSITIVE',\n",
       "  0.9979087710380554,\n",
       "  'https://finance.yahoo.com/news/emerging-markets-latam-currencies-weaken-142459953.html'],\n",
       " ['BTC',\n",
       "  'Locals can now use the cryptocurrency in physical and online shops. El Salvador is the first country in the world to adopt Bitcoin',\n",
       "  'POSITIVE',\n",
       "  0.6546297669410706,\n",
       "  'https://finance.yahoo.com/news/el-salvador-accepts-bitcoin-legal-currency-162452362.html'],\n",
       " ['BTC',\n",
       "  'The cryptocurrency market is growing due to an increase in desire for transparency in financial payment systems.',\n",
       "  'POSITIVE',\n",
       "  0.9898009896278381,\n",
       "  'https://finance.yahoo.com/news/cryptocurrency-market-size-reach-usd-150000198.html'],\n",
       " ['BTC',\n",
       "  'We are aware of the issue and are working to resolve it.',\n",
       "  'POSITIVE',\n",
       "  0.9979087710380554,\n",
       "  'https://finance.yahoo.com/news/bitcoin-crashes-below-50000-163721506.html'],\n",
       " ['BTC',\n",
       "  'China, Europe trade data keep global recovery on track. Bitcoin briefly rises above $52,000 on wave of positive sentiment',\n",
       "  'POSITIVE',\n",
       "  0.9883960485458374,\n",
       "  'https://finance.yahoo.com/news/china-euro-data-cheer-bitcoin-064223805.html'],\n",
       " ['BTC',\n",
       "  'Wood: ‘He has been a gold bug, for most of his career',\n",
       "  'NEGATIVE',\n",
       "  0.9008921980857849,\n",
       "  'https://finance.yahoo.com/news/bitcoin-is-the-future-despite-billionaire-haters-ark-invests-cathie-wood-102641275.html'],\n",
       " ['BTC',\n",
       "  'Bill Miller’s Miller Opportunity Trust has recently invested in the coin. Bitcoin is closing in on its all-time high price of $55k per coin',\n",
       "  'POSITIVE',\n",
       "  0.9861598610877991,\n",
       "  'https://finance.yahoo.com/news/bitcoin-digital-gold-significant-upward-111258831.html'],\n",
       " ['BTC',\n",
       "  'Chartered bank Vast Bank becomes first in U.S. to offer such services. Bitcoin is currently trading above $50k per coin',\n",
       "  'POSITIVE',\n",
       "  0.8235458135604858,\n",
       "  'https://finance.yahoo.com/news/vast-bank-bitcoin-move-shows-101024039.html']]"
      ]
     },
     "execution_count": 35,
     "metadata": {},
     "output_type": "execute_result"
    }
   ],
   "source": [
    "final_output = create_output_array(summaries, scores, cleaned_urls)\n",
    "final_output"
   ]
  },
  {
   "cell_type": "code",
   "execution_count": 36,
   "metadata": {},
   "outputs": [],
   "source": [
    "final_output.insert(0, ['Ticker', 'Summary', 'Label', 'Confidence', 'URL'])"
   ]
  },
  {
   "cell_type": "code",
   "execution_count": 37,
   "metadata": {},
   "outputs": [
    {
     "data": {
      "text/plain": [
       "[['Ticker', 'Summary', 'Label', 'Confidence', 'URL'],\n",
       " ['ADA',\n",
       "  'Cardano, Solana, Dogecoin among fastest-growing cryptos. Bitcoin IRA sees ‘record-breaking inflows’ of new accounts',\n",
       "  'POSITIVE',\n",
       "  0.9976463317871094,\n",
       "  'https://finance.yahoo.com/news/what-augusts-record-breaking-month-for-crypto-flows-means-for-bitcoin-163906276.html'],\n",
       " ['ADA',\n",
       "  'Ethereum, Cardano and Solana also see inflows. Bitcoin continues to see outflows for eighth consecutive week',\n",
       "  'POSITIVE',\n",
       "  0.9340047836303711,\n",
       "  'https://finance.yahoo.com/news/institutions-load-24m-eth-ada-142945976.html'],\n",
       " ['ADA',\n",
       "  'Is the recent low of $2.47 a 4th wave correction already over? Wave-b is now underway, targeting as high as $2.97-3.17',\n",
       "  'NEGATIVE',\n",
       "  0.9983871579170227,\n",
       "  'https://finance.yahoo.com/news/cardano-ada-expect-pullback-another-192023603.html'],\n",
       " ['ADA',\n",
       "  'Dogecoin, polkadot and ADA all fall more than 8% on debut in Japan. Bitcoin, Ether, Polkadot and SOL all trade lower',\n",
       "  'NEGATIVE',\n",
       "  0.9990785717964172,\n",
       "  'https://finance.yahoo.com/news/ada-sol-lead-way-crypto-110019476.html'],\n",
       " ['ADA',\n",
       "  'We are aware of the issue and are working to resolve it.',\n",
       "  'POSITIVE',\n",
       "  0.9979087710380554,\n",
       "  'https://finance.yahoo.com/video/explaining-crypto-price-plunge-212051886.html'],\n",
       " ['ADA',\n",
       "  'ADA has surpassed BNB to become third-largest cryptocurrency by market cap. Network prepares for mainnet launch later this month',\n",
       "  'POSITIVE',\n",
       "  0.8167056441307068,\n",
       "  'https://finance.yahoo.com/news/cardano-hits-3-mark-first-155147241.html'],\n",
       " ['ADA',\n",
       "  'Ethereum-based tokens to be migrated to Cardano. Hoskinson says more than 100 companies have already announced plans to use the tool',\n",
       "  'NEGATIVE',\n",
       "  0.9975221157073975,\n",
       "  'https://finance.yahoo.com/news/cardano-launch-erc-20-ethereum-110017667.html'],\n",
       " ['ADA',\n",
       "  'We are aware of the issue and are working to resolve it.',\n",
       "  'POSITIVE',\n",
       "  0.9979087710380554,\n",
       "  'https://finance.yahoo.com/news/cardaswap-finance-determined-turn-uniswap-180900658.html'],\n",
       " ['ADA',\n",
       "  'We are aware of the issue and are working to resolve it.',\n",
       "  'POSITIVE',\n",
       "  0.9979087710380554,\n",
       "  'https://finance.yahoo.com/video/ethereum-hits-highest-levels-since-201441481.html'],\n",
       " ['ADA',\n",
       "  'Cardano’s native token has been on a tear in recent weeks. Smart contracts to be implemented on Cardano’s testnet',\n",
       "  'NEGATIVE',\n",
       "  0.962354302406311,\n",
       "  'https://finance.yahoo.com/news/cardano-ada-reaches-time-high-221801619.html'],\n",
       " ['ETH',\n",
       "  'We are aware of the issue and are working to resolve it.',\n",
       "  'POSITIVE',\n",
       "  0.9979087710380554,\n",
       "  'https://finance.yahoo.com/news/bitcoin-ether-war-standard-chartered-115729714.html'],\n",
       " ['ETH',\n",
       "  'Cardano, Solana, Dogecoin among fastest-growing cryptos. Bitcoin IRA sees ‘record-breaking inflows’ of new accounts',\n",
       "  'POSITIVE',\n",
       "  0.9976463317871094,\n",
       "  'https://finance.yahoo.com/news/what-augusts-record-breaking-month-for-crypto-flows-means-for-bitcoin-163906276.html'],\n",
       " ['ETH',\n",
       "  'Ethereum rallies to a late intraday high $3,982.64 before easing back. Litecoin breaks through first major resistance level at $222',\n",
       "  'NEGATIVE',\n",
       "  0.9816083908081055,\n",
       "  'https://finance.yahoo.com/news/ethereum-litecoin-ripple-xrp-daily-005205258.html'],\n",
       " ['ETH',\n",
       "  'We are aware of the issue and are working to resolve it.',\n",
       "  'POSITIVE',\n",
       "  0.9979087710380554,\n",
       "  'https://finance.yahoo.com/news/ethereum-litecoin-ripple-xrp-daily-001447430.html'],\n",
       " ['ETH',\n",
       "  'We are aware of the issue and are working to resolve it.',\n",
       "  'POSITIVE',\n",
       "  0.9979087710380554,\n",
       "  'https://finance.yahoo.com/news/bitcoin-crashes-below-50000-163721506.html'],\n",
       " ['ETH',\n",
       "  'Shares of crypto-related stocks trading lower. Bitcoin and Ethereum are trading lower on Tuesday',\n",
       "  'NEGATIVE',\n",
       "  0.9996261596679688,\n",
       "  'https://finance.yahoo.com/news/why-bitcoin-related-ethereum-related-151300113.html'],\n",
       " ['ETH',\n",
       "  'Ethereum rallies by 22.49%, Bitcoin rises by 6.10%.',\n",
       "  'NEGATIVE',\n",
       "  0.9699082970619202,\n",
       "  'https://finance.yahoo.com/news/bitcoin-ethereum-weekly-technical-analysis-022133478.html'],\n",
       " ['ETH',\n",
       "  'Bill Miller’s Miller Opportunity Trust has recently invested in the coin. Bitcoin is closing in on its all-time high price of $55k per coin',\n",
       "  'POSITIVE',\n",
       "  0.9861598610877991,\n",
       "  'https://finance.yahoo.com/news/bitcoin-digital-gold-significant-upward-111258831.html'],\n",
       " ['ETH',\n",
       "  'Ethereum breaks through major resistance level at $4,030.35 before late pullback. Litecoin surges to a late intraday high at $218.00 on Friday',\n",
       "  'NEGATIVE',\n",
       "  0.9868157505989075,\n",
       "  'https://finance.yahoo.com/news/ethereum-litecoin-ripple-xrp-daily-003506829.html'],\n",
       " ['ETH',\n",
       "  'SOL has tripled in about three weeks and now has a market value of more than $41 billion. Backers tout speed, lower cost of transactions on Solana',\n",
       "  'NEGATIVE',\n",
       "  0.9837801456451416,\n",
       "  'https://finance.yahoo.com/news/token-ethereum-rival-solana-jumps-062253042.html'],\n",
       " ['BTC',\n",
       "  'Every Salvadoran to be offered a government-run digital wallet. Law comes amid protest and uncertainty about access to the cryptocurrency',\n",
       "  'NEGATIVE',\n",
       "  0.9930766224861145,\n",
       "  'https://ca.finance.yahoo.com/news/bitcoin-el-salvador-cryptocurrencies-legal-tender-ethereum-230124576.html'],\n",
       " ['BTC',\n",
       "  'Cardano, Solana, Dogecoin among fastest-growing cryptos. Bitcoin IRA sees ‘record-breaking inflows’ of new accounts',\n",
       "  'POSITIVE',\n",
       "  0.9976463317871094,\n",
       "  'https://finance.yahoo.com/news/what-augusts-record-breaking-month-for-crypto-flows-means-for-bitcoin-163906276.html'],\n",
       " ['BTC',\n",
       "  'We are aware of the issue and are working to resolve it.',\n",
       "  'POSITIVE',\n",
       "  0.9979087710380554,\n",
       "  'https://finance.yahoo.com/news/emerging-markets-latam-currencies-weaken-142459953.html'],\n",
       " ['BTC',\n",
       "  'Locals can now use the cryptocurrency in physical and online shops. El Salvador is the first country in the world to adopt Bitcoin',\n",
       "  'POSITIVE',\n",
       "  0.6546297669410706,\n",
       "  'https://finance.yahoo.com/news/el-salvador-accepts-bitcoin-legal-currency-162452362.html'],\n",
       " ['BTC',\n",
       "  'The cryptocurrency market is growing due to an increase in desire for transparency in financial payment systems.',\n",
       "  'POSITIVE',\n",
       "  0.9898009896278381,\n",
       "  'https://finance.yahoo.com/news/cryptocurrency-market-size-reach-usd-150000198.html'],\n",
       " ['BTC',\n",
       "  'We are aware of the issue and are working to resolve it.',\n",
       "  'POSITIVE',\n",
       "  0.9979087710380554,\n",
       "  'https://finance.yahoo.com/news/bitcoin-crashes-below-50000-163721506.html'],\n",
       " ['BTC',\n",
       "  'China, Europe trade data keep global recovery on track. Bitcoin briefly rises above $52,000 on wave of positive sentiment',\n",
       "  'POSITIVE',\n",
       "  0.9883960485458374,\n",
       "  'https://finance.yahoo.com/news/china-euro-data-cheer-bitcoin-064223805.html'],\n",
       " ['BTC',\n",
       "  'Wood: ‘He has been a gold bug, for most of his career',\n",
       "  'NEGATIVE',\n",
       "  0.9008921980857849,\n",
       "  'https://finance.yahoo.com/news/bitcoin-is-the-future-despite-billionaire-haters-ark-invests-cathie-wood-102641275.html'],\n",
       " ['BTC',\n",
       "  'Bill Miller’s Miller Opportunity Trust has recently invested in the coin. Bitcoin is closing in on its all-time high price of $55k per coin',\n",
       "  'POSITIVE',\n",
       "  0.9861598610877991,\n",
       "  'https://finance.yahoo.com/news/bitcoin-digital-gold-significant-upward-111258831.html'],\n",
       " ['BTC',\n",
       "  'Chartered bank Vast Bank becomes first in U.S. to offer such services. Bitcoin is currently trading above $50k per coin',\n",
       "  'POSITIVE',\n",
       "  0.8235458135604858,\n",
       "  'https://finance.yahoo.com/news/vast-bank-bitcoin-move-shows-101024039.html']]"
      ]
     },
     "execution_count": 37,
     "metadata": {},
     "output_type": "execute_result"
    }
   ],
   "source": [
    "final_output"
   ]
  },
  {
   "cell_type": "code",
   "execution_count": 38,
   "metadata": {},
   "outputs": [],
   "source": [
    "import csv\n",
    "with open('assetsummaries.csv', mode='w', newline='') as f:\n",
    "    csv_writer = csv.writer(f, delimiter=',', quotechar='\"', quoting=csv.QUOTE_MINIMAL)\n",
    "    csv_writer.writerows(final_output)"
   ]
  },
  {
   "cell_type": "code",
   "execution_count": null,
   "metadata": {},
   "outputs": [],
   "source": []
  },
  {
   "cell_type": "code",
   "execution_count": null,
   "metadata": {},
   "outputs": [],
   "source": []
  },
  {
   "cell_type": "code",
   "execution_count": null,
   "metadata": {},
   "outputs": [],
   "source": []
  }
 ],
 "metadata": {
  "kernelspec": {
   "display_name": "Python 3",
   "language": "python",
   "name": "python3"
  },
  "language_info": {
   "codemirror_mode": {
    "name": "ipython",
    "version": 3
   },
   "file_extension": ".py",
   "mimetype": "text/x-python",
   "name": "python",
   "nbconvert_exporter": "python",
   "pygments_lexer": "ipython3",
   "version": "3.8.5"
  }
 },
 "nbformat": 4,
 "nbformat_minor": 4
}
