{
 "cells": [
  {
   "cell_type": "code",
   "execution_count": 1,
   "id": "75b4e943-cc6f-45b5-bb73-3bf922b9772e",
   "metadata": {},
   "outputs": [],
   "source": [
    "import numpy as np\n",
    "import pandas as pd\n",
    "import matplotlib.pyplot as plt\n",
    "import pandas_datareader as web\n",
    "import datetime as dt\n",
    "\n",
    "from sklearn.preprocessing import MinMaxScaler\n",
    "from tensorflow.keras.layers import Dense, Dropout, LSTM\n",
    "from tensorflow.keras.models import Sequential"
   ]
  },
  {
   "cell_type": "code",
   "execution_count": 2,
   "id": "2dce337e-9729-4eb0-ad4b-74b9bc76debb",
   "metadata": {},
   "outputs": [],
   "source": [
    "crypto = 'BTC'\n",
    "fiat = 'USD'\n",
    "\n",
    "start = dt.datetime(2014,1,1)\n",
    "end = dt.datetime.now()\n",
    "\n",
    "data = web.DataReader(f'{crypto}-{fiat}', 'yahoo', start, end)"
   ]
  },
  {
   "cell_type": "code",
   "execution_count": 3,
   "id": "addb3a52-269b-4500-9120-7eba161afb8c",
   "metadata": {},
   "outputs": [
    {
     "data": {
      "text/html": [
       "<div>\n",
       "<style scoped>\n",
       "    .dataframe tbody tr th:only-of-type {\n",
       "        vertical-align: middle;\n",
       "    }\n",
       "\n",
       "    .dataframe tbody tr th {\n",
       "        vertical-align: top;\n",
       "    }\n",
       "\n",
       "    .dataframe thead th {\n",
       "        text-align: right;\n",
       "    }\n",
       "</style>\n",
       "<table border=\"1\" class=\"dataframe\">\n",
       "  <thead>\n",
       "    <tr style=\"text-align: right;\">\n",
       "      <th></th>\n",
       "      <th>High</th>\n",
       "      <th>Low</th>\n",
       "      <th>Open</th>\n",
       "      <th>Close</th>\n",
       "      <th>Volume</th>\n",
       "      <th>Adj Close</th>\n",
       "    </tr>\n",
       "    <tr>\n",
       "      <th>Date</th>\n",
       "      <th></th>\n",
       "      <th></th>\n",
       "      <th></th>\n",
       "      <th></th>\n",
       "      <th></th>\n",
       "      <th></th>\n",
       "    </tr>\n",
       "  </thead>\n",
       "  <tbody>\n",
       "    <tr>\n",
       "      <th>2014-09-16</th>\n",
       "      <td>468.174011</td>\n",
       "      <td>452.421997</td>\n",
       "      <td>465.864014</td>\n",
       "      <td>457.334015</td>\n",
       "      <td>2.105680e+07</td>\n",
       "      <td>457.334015</td>\n",
       "    </tr>\n",
       "    <tr>\n",
       "      <th>2014-09-17</th>\n",
       "      <td>456.859985</td>\n",
       "      <td>413.104004</td>\n",
       "      <td>456.859985</td>\n",
       "      <td>424.440002</td>\n",
       "      <td>3.448320e+07</td>\n",
       "      <td>424.440002</td>\n",
       "    </tr>\n",
       "    <tr>\n",
       "      <th>2014-09-18</th>\n",
       "      <td>427.834991</td>\n",
       "      <td>384.532013</td>\n",
       "      <td>424.102997</td>\n",
       "      <td>394.795990</td>\n",
       "      <td>3.791970e+07</td>\n",
       "      <td>394.795990</td>\n",
       "    </tr>\n",
       "    <tr>\n",
       "      <th>2014-09-19</th>\n",
       "      <td>423.295990</td>\n",
       "      <td>389.882996</td>\n",
       "      <td>394.673004</td>\n",
       "      <td>408.903992</td>\n",
       "      <td>3.686360e+07</td>\n",
       "      <td>408.903992</td>\n",
       "    </tr>\n",
       "    <tr>\n",
       "      <th>2014-09-20</th>\n",
       "      <td>412.425995</td>\n",
       "      <td>393.181000</td>\n",
       "      <td>408.084991</td>\n",
       "      <td>398.821014</td>\n",
       "      <td>2.658010e+07</td>\n",
       "      <td>398.821014</td>\n",
       "    </tr>\n",
       "    <tr>\n",
       "      <th>...</th>\n",
       "      <td>...</td>\n",
       "      <td>...</td>\n",
       "      <td>...</td>\n",
       "      <td>...</td>\n",
       "      <td>...</td>\n",
       "      <td>...</td>\n",
       "    </tr>\n",
       "    <tr>\n",
       "      <th>2021-09-06</th>\n",
       "      <td>52853.765625</td>\n",
       "      <td>43285.207031</td>\n",
       "      <td>52660.480469</td>\n",
       "      <td>46811.128906</td>\n",
       "      <td>6.521006e+10</td>\n",
       "      <td>46811.128906</td>\n",
       "    </tr>\n",
       "    <tr>\n",
       "      <th>2021-09-07</th>\n",
       "      <td>47334.054688</td>\n",
       "      <td>44561.394531</td>\n",
       "      <td>46827.761719</td>\n",
       "      <td>46091.390625</td>\n",
       "      <td>4.900776e+10</td>\n",
       "      <td>46091.390625</td>\n",
       "    </tr>\n",
       "    <tr>\n",
       "      <th>2021-09-08</th>\n",
       "      <td>47261.949219</td>\n",
       "      <td>45669.738281</td>\n",
       "      <td>45774.742188</td>\n",
       "      <td>46391.421875</td>\n",
       "      <td>3.867266e+10</td>\n",
       "      <td>46391.421875</td>\n",
       "    </tr>\n",
       "    <tr>\n",
       "      <th>2021-09-09</th>\n",
       "      <td>47031.742188</td>\n",
       "      <td>44344.484375</td>\n",
       "      <td>46396.664062</td>\n",
       "      <td>44883.910156</td>\n",
       "      <td>3.915467e+10</td>\n",
       "      <td>44883.910156</td>\n",
       "    </tr>\n",
       "    <tr>\n",
       "      <th>2021-09-11</th>\n",
       "      <td>45761.796875</td>\n",
       "      <td>44855.558594</td>\n",
       "      <td>44869.816406</td>\n",
       "      <td>45576.906250</td>\n",
       "      <td>3.741535e+10</td>\n",
       "      <td>45576.906250</td>\n",
       "    </tr>\n",
       "  </tbody>\n",
       "</table>\n",
       "<p>2548 rows × 6 columns</p>\n",
       "</div>"
      ],
      "text/plain": [
       "                    High           Low          Open         Close  \\\n",
       "Date                                                                 \n",
       "2014-09-16    468.174011    452.421997    465.864014    457.334015   \n",
       "2014-09-17    456.859985    413.104004    456.859985    424.440002   \n",
       "2014-09-18    427.834991    384.532013    424.102997    394.795990   \n",
       "2014-09-19    423.295990    389.882996    394.673004    408.903992   \n",
       "2014-09-20    412.425995    393.181000    408.084991    398.821014   \n",
       "...                  ...           ...           ...           ...   \n",
       "2021-09-06  52853.765625  43285.207031  52660.480469  46811.128906   \n",
       "2021-09-07  47334.054688  44561.394531  46827.761719  46091.390625   \n",
       "2021-09-08  47261.949219  45669.738281  45774.742188  46391.421875   \n",
       "2021-09-09  47031.742188  44344.484375  46396.664062  44883.910156   \n",
       "2021-09-11  45761.796875  44855.558594  44869.816406  45576.906250   \n",
       "\n",
       "                  Volume     Adj Close  \n",
       "Date                                    \n",
       "2014-09-16  2.105680e+07    457.334015  \n",
       "2014-09-17  3.448320e+07    424.440002  \n",
       "2014-09-18  3.791970e+07    394.795990  \n",
       "2014-09-19  3.686360e+07    408.903992  \n",
       "2014-09-20  2.658010e+07    398.821014  \n",
       "...                  ...           ...  \n",
       "2021-09-06  6.521006e+10  46811.128906  \n",
       "2021-09-07  4.900776e+10  46091.390625  \n",
       "2021-09-08  3.867266e+10  46391.421875  \n",
       "2021-09-09  3.915467e+10  44883.910156  \n",
       "2021-09-11  3.741535e+10  45576.906250  \n",
       "\n",
       "[2548 rows x 6 columns]"
      ]
     },
     "execution_count": 3,
     "metadata": {},
     "output_type": "execute_result"
    }
   ],
   "source": [
    "data"
   ]
  },
  {
   "cell_type": "code",
   "execution_count": 4,
   "id": "c622afdf-3111-45f1-bc6e-8941a5139ffc",
   "metadata": {},
   "outputs": [],
   "source": [
    "# Preparing Data\n",
    "scaler = MinMaxScaler(feature_range=(0,1))\n",
    "scaled_data = scaler.fit_transform(data['Close'].values.reshape(-1,1))\n",
    "\n",
    "prediction_days = 60"
   ]
  },
  {
   "cell_type": "code",
   "execution_count": 5,
   "id": "357d8059-f522-46f5-b209-d0d122bef9ab",
   "metadata": {},
   "outputs": [],
   "source": [
    "x_train = []\n",
    "y_train = []"
   ]
  },
  {
   "cell_type": "code",
   "execution_count": 6,
   "id": "80c8e503-e22e-4784-bc9c-f636d09fc4da",
   "metadata": {},
   "outputs": [],
   "source": [
    "for x in range(prediction_days, len(scaled_data)):\n",
    "    x_train.append(scaled_data[x-prediction_days:x, 0])\n",
    "    y_train.append(scaled_data[x,0])\n",
    "    \n",
    "x_train, y_train = np.array(x_train), np.array(y_train)\n",
    "x_train = np.reshape(x_train, (x_train.shape[0], x_train.shape[1], 1))"
   ]
  },
  {
   "cell_type": "code",
   "execution_count": 7,
   "id": "95d8646a-b51e-4d51-be76-6fe24d7a997d",
   "metadata": {},
   "outputs": [],
   "source": [
    "# Create Neural Network\n",
    "model = Sequential()"
   ]
  },
  {
   "cell_type": "code",
   "execution_count": 8,
   "id": "7b3448cc-ddba-4803-9ed3-0b7d7517fc55",
   "metadata": {},
   "outputs": [
    {
     "name": "stdout",
     "output_type": "stream",
     "text": [
      "Epoch 1/25\n",
      "78/78 [==============================] - 7s 46ms/step - loss: 0.0094\n",
      "Epoch 2/25\n",
      "78/78 [==============================] - 3s 45ms/step - loss: 0.0174\n",
      "Epoch 3/25\n",
      "78/78 [==============================] - 4s 45ms/step - loss: 0.0121\n",
      "Epoch 4/25\n",
      "78/78 [==============================] - 4s 45ms/step - loss: 0.0036\n",
      "Epoch 5/25\n",
      "78/78 [==============================] - 4s 51ms/step - loss: 0.0018\n",
      "Epoch 6/25\n",
      "78/78 [==============================] - 4s 53ms/step - loss: 0.0021\n",
      "Epoch 7/25\n",
      "78/78 [==============================] - 4s 53ms/step - loss: 0.0026\n",
      "Epoch 8/25\n",
      "78/78 [==============================] - 4s 53ms/step - loss: 0.0019\n",
      "Epoch 9/25\n",
      "78/78 [==============================] - 4s 54ms/step - loss: 0.0019\n",
      "Epoch 10/25\n",
      "78/78 [==============================] - 4s 55ms/step - loss: 0.0018\n",
      "Epoch 11/25\n",
      "78/78 [==============================] - 4s 55ms/step - loss: 0.0019\n",
      "Epoch 12/25\n",
      "78/78 [==============================] - 4s 57ms/step - loss: 0.0033\n",
      "Epoch 13/25\n",
      "78/78 [==============================] - 5s 59ms/step - loss: 0.0028\n",
      "Epoch 14/25\n",
      "78/78 [==============================] - 5s 59ms/step - loss: 0.0024\n",
      "Epoch 15/25\n",
      "78/78 [==============================] - 5s 59ms/step - loss: 0.0019\n",
      "Epoch 16/25\n",
      "78/78 [==============================] - 5s 59ms/step - loss: 0.0018\n",
      "Epoch 17/25\n",
      "78/78 [==============================] - 5s 59ms/step - loss: 0.0023\n",
      "Epoch 18/25\n",
      "78/78 [==============================] - 5s 61ms/step - loss: 0.0018\n",
      "Epoch 19/25\n",
      "78/78 [==============================] - 5s 70ms/step - loss: 0.0019\n",
      "Epoch 20/25\n",
      "78/78 [==============================] - 5s 64ms/step - loss: 0.0016\n",
      "Epoch 21/25\n",
      "78/78 [==============================] - 5s 61ms/step - loss: 0.0016 ETA: 0s - loss\n",
      "Epoch 22/25\n",
      "78/78 [==============================] - 5s 58ms/step - loss: 0.0020\n",
      "Epoch 23/25\n",
      "78/78 [==============================] - 5s 61ms/step - loss: 0.0014\n",
      "Epoch 24/25\n",
      "78/78 [==============================] - 5s 61ms/step - loss: 0.0017\n",
      "Epoch 25/25\n",
      "78/78 [==============================] - 5s 61ms/step - loss: 0.0018\n"
     ]
    },
    {
     "data": {
      "text/plain": [
       "<keras.callbacks.History at 0x2621cddcbb0>"
      ]
     },
     "execution_count": 8,
     "metadata": {},
     "output_type": "execute_result"
    }
   ],
   "source": [
    "model.add(LSTM(\n",
    "    units=50, return_sequences=True,\n",
    "    input_shape=(x_train.shape[1], 1)\n",
    "))\n",
    "model.add(Dropout(0.2))\n",
    "model.add(LSTM(units=50, return_sequences=True))\n",
    "model.add(Dropout(0.2))\n",
    "model.add(LSTM(units=50))\n",
    "model.add(Dropout(0.2))\n",
    "model.add(Dense(1))\n",
    "\n",
    "model.compile(optimizer='adam', loss='mean_squared_error')\n",
    "model.fit(x_train, y_train, epochs=25, shuffle=False, batch_size=32, verbose=1)"
   ]
  },
  {
   "cell_type": "code",
   "execution_count": 9,
   "id": "b9812aad-2163-401a-b87b-6cb630c76a66",
   "metadata": {},
   "outputs": [],
   "source": [
    "# Testing model\n",
    "test_start = dt.datetime(2014,9,16)\n",
    "test_end = dt.datetime.now()"
   ]
  },
  {
   "cell_type": "code",
   "execution_count": 10,
   "id": "707fb53e-71a4-49f6-9790-087ff7a560e6",
   "metadata": {},
   "outputs": [],
   "source": [
    "test_data = web.DataReader(f'{crypto}-{fiat}', 'yahoo', test_start, test_end)"
   ]
  },
  {
   "cell_type": "code",
   "execution_count": 11,
   "id": "ff0325af-99be-44d5-af63-d4b4a2025240",
   "metadata": {},
   "outputs": [],
   "source": [
    "prices = test_data['Close'].values"
   ]
  },
  {
   "cell_type": "code",
   "execution_count": 12,
   "id": "64664cb1-194d-42f6-aeec-576ab7bb3bf5",
   "metadata": {},
   "outputs": [],
   "source": [
    "total_dataset = pd.concat((data['Close'], test_data['Close']), axis=0)"
   ]
  },
  {
   "cell_type": "code",
   "execution_count": 13,
   "id": "851f4e95-99a6-4aa7-bd96-8f2695a0d4d7",
   "metadata": {},
   "outputs": [],
   "source": [
    "model_inputs = total_dataset[len(total_dataset) - len(test_data) - prediction_days:].values\n",
    "model_inputs = model_inputs.reshape(-1, 1)\n",
    "model_inputs = scaler.fit_transform(model_inputs)\n"
   ]
  },
  {
   "cell_type": "code",
   "execution_count": 14,
   "id": "d7ef1dad-c032-4123-85d4-0166e5ceca56",
   "metadata": {},
   "outputs": [],
   "source": [
    "x_test = []"
   ]
  },
  {
   "cell_type": "code",
   "execution_count": 15,
   "id": "62d041ab-2bdb-47d5-ac52-a68b3139f505",
   "metadata": {},
   "outputs": [],
   "source": [
    "for x in range(prediction_days, len(model_inputs)):\n",
    "    x_test.append(model_inputs[x-prediction_days:x, 0])\n",
    "    \n",
    "x_test = np.array(x_test)\n",
    "x_test = np.reshape(x_test, (x_test.shape[0], x_test.shape[1], 1))"
   ]
  },
  {
   "cell_type": "code",
   "execution_count": 16,
   "id": "6da42495-196c-4bb1-8b74-4073f1b802f9",
   "metadata": {},
   "outputs": [],
   "source": [
    "prediction_prices = model.predict(x_test)\n",
    "prediction_prices = scaler.inverse_transform(prediction_prices)"
   ]
  },
  {
   "cell_type": "code",
   "execution_count": 17,
   "id": "5d8dd25d-7f9b-4716-8e71-293c9cdfd3a1",
   "metadata": {},
   "outputs": [
    {
     "data": {
      "image/png": "[encoded data removed]",
      "text/plain": [
       "<Figure size 432x288 with 1 Axes>"
      ]
     },
     "metadata": {
      "needs_background": "light"
     },
     "output_type": "display_data"
    }
   ],
   "source": [
    "plt.plot(prices, color='black', label='Actual Prices')\n",
    "plt.plot(prediction_prices, color='green', label='Predicted Prices')\n",
    "plt.xlabel('Time')\n",
    "plt.ylabel('Price')\n",
    "plt.legend(loc='upper left')\n",
    "plt.show()"
   ]
  },
  {
   "cell_type": "code",
   "execution_count": null,
   "id": "6b861a85-2528-4e03-82b2-8b9b60debcba",
   "metadata": {},
   "outputs": [],
   "source": []
  }
 ],
 "metadata": {
  "kernelspec": {
   "display_name": "Python 3",
   "language": "python",
   "name": "python3"
  },
  "language_info": {
   "codemirror_mode": {
    "name": "ipython",
    "version": 3
   },
   "file_extension": ".py",
   "mimetype": "text/x-python",
   "name": "python",
   "nbconvert_exporter": "python",
   "pygments_lexer": "ipython3",
   "version": "3.8.5"
  }
 },
 "nbformat": 4,
 "nbformat_minor": 5
}
